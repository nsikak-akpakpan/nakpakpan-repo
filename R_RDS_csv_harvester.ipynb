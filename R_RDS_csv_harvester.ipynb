{
  "nbformat": 4,
  "nbformat_minor": 0,
  "metadata": {
    "colab": {
      "provenance": [],
      "authorship_tag": "ABX9TyNXt2FvI/hQjCXO+oapFVi/",
      "include_colab_link": true
    },
    "kernelspec": {
      "name": "ir",
      "display_name": "R"
    },
    "language_info": {
      "name": "R"
    }
  },
  "cells": [
    {
      "cell_type": "markdown",
      "metadata": {
        "id": "view-in-github",
        "colab_type": "text"
      },
      "source": [
        "<a href=\"https://colab.research.google.com/github/nsikak-akpakpan/nakpakpan-repo/blob/master/R_RDS_csv_harvester.ipynb\" target=\"_parent\"><img src=\"https://colab.research.google.com/assets/colab-badge.svg\" alt=\"Open In Colab\"/></a>"
      ]
    },
    {
      "cell_type": "code",
      "source": [
        "if (!requireNamespace(\"BiocManager\", quietly = TRUE))\n",
        "    install.packages(\"BiocManager\")\n",
        "\n",
        "BiocManager::install(\"MultiAssayExperiment\")"
      ],
      "metadata": {
        "colab": {
          "base_uri": "https://localhost:8080/"
        },
        "id": "jgxCYb0XCEjH",
        "outputId": "36ef5e46-7d8a-474f-ea7a-1938a68c2e63"
      },
      "execution_count": 4,
      "outputs": [
        {
          "output_type": "stream",
          "name": "stderr",
          "text": [
            "Installing package into ‘/usr/local/lib/R/site-library’\n",
            "(as ‘lib’ is unspecified)\n",
            "\n",
            "'getOption(\"repos\")' replaces Bioconductor standard repositories, see\n",
            "'help(\"repositories\", package = \"BiocManager\")' for details.\n",
            "Replacement repositories:\n",
            "    CRAN: https://cran.rstudio.com\n",
            "\n",
            "Bioconductor version 3.20 (BiocManager 1.30.25), R 4.4.2 (2024-10-31)\n",
            "\n",
            "Installing package(s) 'BiocVersion', 'MultiAssayExperiment'\n",
            "\n",
            "also installing the dependencies ‘matrixStats’, ‘UCSC.utils’, ‘GenomeInfoDbData’, ‘abind’, ‘zlibbioc’, ‘MatrixGenerics’, ‘GenomeInfoDb’, ‘S4Arrays’, ‘SparseArray’, ‘XVector’, ‘SummarizedExperiment’, ‘Biobase’, ‘BiocBaseUtils’, ‘BiocGenerics’, ‘DelayedArray’, ‘GenomicRanges’, ‘IRanges’, ‘S4Vectors’\n",
            "\n",
            "\n",
            "Old packages: 'MASS', 'readxl', 'xml2'\n",
            "\n"
          ]
        }
      ]
    },
    {
      "cell_type": "code",
      "source": [
        "library(MultiAssayExperiment)"
      ],
      "metadata": {
        "id": "aGq18jyWERiA"
      },
      "execution_count": null,
      "outputs": []
    },
    {
      "cell_type": "code",
      "source": [
        "my_data <- readRDS(\"/content/mae_mae.rds\")\n",
        " mae_mae_data <- readRDS(my_data)"
      ],
      "metadata": {
        "colab": {
          "base_uri": "https://localhost:8080/",
          "height": 245
        },
        "id": "LioGNoomEWFX",
        "outputId": "836613f9-050f-4352-c037-8bdabc934ce3"
      },
      "execution_count": 6,
      "outputs": [
        {
          "output_type": "error",
          "ename": "ERROR",
          "evalue": "Error in readRDS(my_data): bad 'file' argument\n",
          "traceback": [
            "Error in readRDS(my_data): bad 'file' argument\nTraceback:\n",
            "1. stop(\"bad 'file' argument\")",
            "2. .handleSimpleError(function (cnd) \n . {\n .     watcher$capture_plot_and_output()\n .     cnd <- sanitize_call(cnd)\n .     watcher$push(cnd)\n .     switch(on_error, continue = invokeRestart(\"eval_continue\"), \n .         stop = invokeRestart(\"eval_stop\"), error = NULL)\n . }, \"bad 'file' argument\", base::quote(readRDS(my_data)))"
          ]
        }
      ]
    },
    {
      "cell_type": "code",
      "source": [],
      "metadata": {
        "id": "jSMYxPZjFDai"
      },
      "execution_count": null,
      "outputs": []
    },
    {
      "cell_type": "code",
      "source": [
        "# prompt: As R developer, create code to convert RDS file to dataframe\n",
        "\n",
        "library(MultiAssayExperiment)\n",
        "\n",
        "# Load the RDS file into an R object\n",
        "my_data <- readRDS(\"/content/mae_mae.rds\")\n",
        "\n",
        "# Check if the loaded object is a data frame\n",
        "if (is.data.frame(my_data)) {\n",
        "  # If it's already a data frame, you're good to go\n",
        "  print(\"The RDS file was already a data frame.\")\n",
        "\n",
        "} else if (is.list(my_data) || is.matrix(my_data)) {\n",
        "  # If it's a list or matrix, try to convert it to a data frame\n",
        "    my_dataframe <- as.data.frame(my_data)\n",
        "\n",
        "    print(\"Converted the RDS object to a data frame.\")\n",
        "} else {\n",
        "  print(\"The RDS file does not contain a data frame, list or matrix. Conversion failed.\")\n",
        "}\n",
        "\n",
        "\n",
        "# Now you can work with my_dataframe (if the conversion was successful)\n",
        "# Example: print the first few rows\n",
        "if (exists(\"my_dataframe\") && is.data.frame(my_dataframe)) {\n",
        "    head(my_dataframe)\n",
        "}"
      ],
      "metadata": {
        "colab": {
          "base_uri": "https://localhost:8080/"
        },
        "id": "gq-FdUsUAQpl",
        "outputId": "cbd85036-1793-4642-c052-3becbe9cd35b"
      },
      "execution_count": 5,
      "outputs": [
        {
          "output_type": "stream",
          "name": "stderr",
          "text": [
            "Loading required package: SummarizedExperiment\n",
            "\n",
            "Loading required package: MatrixGenerics\n",
            "\n",
            "Loading required package: matrixStats\n",
            "\n",
            "\n",
            "Attaching package: ‘MatrixGenerics’\n",
            "\n",
            "\n",
            "The following objects are masked from ‘package:matrixStats’:\n",
            "\n",
            "    colAlls, colAnyNAs, colAnys, colAvgsPerRowSet, colCollapse,\n",
            "    colCounts, colCummaxs, colCummins, colCumprods, colCumsums,\n",
            "    colDiffs, colIQRDiffs, colIQRs, colLogSumExps, colMadDiffs,\n",
            "    colMads, colMaxs, colMeans2, colMedians, colMins, colOrderStats,\n",
            "    colProds, colQuantiles, colRanges, colRanks, colSdDiffs, colSds,\n",
            "    colSums2, colTabulates, colVarDiffs, colVars, colWeightedMads,\n",
            "    colWeightedMeans, colWeightedMedians, colWeightedSds,\n",
            "    colWeightedVars, rowAlls, rowAnyNAs, rowAnys, rowAvgsPerColSet,\n",
            "    rowCollapse, rowCounts, rowCummaxs, rowCummins, rowCumprods,\n",
            "    rowCumsums, rowDiffs, rowIQRDiffs, rowIQRs, rowLogSumExps,\n",
            "    rowMadDiffs, rowMads, rowMaxs, rowMeans2, rowMedians, rowMins,\n",
            "    rowOrderStats, rowProds, rowQuantiles, rowRanges, rowRanks,\n",
            "    rowSdDiffs, rowSds, rowSums2, rowTabulates, rowVarDiffs, rowVars,\n",
            "    rowWeightedMads, rowWeightedMeans, rowWeightedMedians,\n",
            "    rowWeightedSds, rowWeightedVars\n",
            "\n",
            "\n",
            "Loading required package: GenomicRanges\n",
            "\n",
            "Loading required package: stats4\n",
            "\n",
            "Loading required package: BiocGenerics\n",
            "\n",
            "\n",
            "Attaching package: ‘BiocGenerics’\n",
            "\n",
            "\n",
            "The following objects are masked from ‘package:stats’:\n",
            "\n",
            "    IQR, mad, sd, var, xtabs\n",
            "\n",
            "\n",
            "The following objects are masked from ‘package:base’:\n",
            "\n",
            "    anyDuplicated, aperm, append, as.data.frame, basename, cbind,\n",
            "    colnames, dirname, do.call, duplicated, eval, evalq, Filter, Find,\n",
            "    get, grep, grepl, intersect, is.unsorted, lapply, Map, mapply,\n",
            "    match, mget, order, paste, pmax, pmax.int, pmin, pmin.int,\n",
            "    Position, rank, rbind, Reduce, rownames, sapply, saveRDS, setdiff,\n",
            "    table, tapply, union, unique, unsplit, which.max, which.min\n",
            "\n",
            "\n",
            "Loading required package: S4Vectors\n",
            "\n",
            "\n",
            "Attaching package: ‘S4Vectors’\n",
            "\n",
            "\n",
            "The following object is masked from ‘package:utils’:\n",
            "\n",
            "    findMatches\n",
            "\n",
            "\n",
            "The following objects are masked from ‘package:base’:\n",
            "\n",
            "    expand.grid, I, unname\n",
            "\n",
            "\n",
            "Loading required package: IRanges\n",
            "\n",
            "Loading required package: GenomeInfoDb\n",
            "\n",
            "Loading required package: Biobase\n",
            "\n",
            "Welcome to Bioconductor\n",
            "\n",
            "    Vignettes contain introductory material; view with\n",
            "    'browseVignettes()'. To cite Bioconductor, see\n",
            "    'citation(\"Biobase\")', and for packages 'citation(\"pkgname\")'.\n",
            "\n",
            "\n",
            "\n",
            "Attaching package: ‘Biobase’\n",
            "\n",
            "\n",
            "The following object is masked from ‘package:MatrixGenerics’:\n",
            "\n",
            "    rowMedians\n",
            "\n",
            "\n",
            "The following objects are masked from ‘package:matrixStats’:\n",
            "\n",
            "    anyMissing, rowMedians\n",
            "\n",
            "\n"
          ]
        },
        {
          "output_type": "stream",
          "name": "stdout",
          "text": [
            "[1] \"The RDS file does not contain a data frame, list or matrix. Conversion failed.\"\n"
          ]
        }
      ]
    },
    {
      "cell_type": "code",
      "source": [
        "if (!requireNamespace(\"BiocManager\", quietly = TRUE))\n",
        "    install.packages(\"BiocManager\")\n",
        "\n",
        "BiocManager::install(\"SingleCellExperiment\")"
      ],
      "metadata": {
        "colab": {
          "base_uri": "https://localhost:8080/"
        },
        "id": "hniiNhLcFNYh",
        "outputId": "c4469952-4143-486b-b179-f9fc9693756c"
      },
      "execution_count": 7,
      "outputs": [
        {
          "output_type": "stream",
          "name": "stderr",
          "text": [
            "'getOption(\"repos\")' replaces Bioconductor standard repositories, see\n",
            "'help(\"repositories\", package = \"BiocManager\")' for details.\n",
            "Replacement repositories:\n",
            "    CRAN: https://cran.rstudio.com\n",
            "\n",
            "Bioconductor version 3.20 (BiocManager 1.30.25), R 4.4.2 (2024-10-31)\n",
            "\n",
            "Installing package(s) 'SingleCellExperiment'\n",
            "\n",
            "Old packages: 'MASS', 'readxl', 'xml2'\n",
            "\n"
          ]
        }
      ]
    },
    {
      "cell_type": "code",
      "source": [
        "library(SingleCellExperiment)"
      ],
      "metadata": {
        "id": "zP3f1VEjFGB2"
      },
      "execution_count": 8,
      "outputs": []
    },
    {
      "cell_type": "code",
      "source": [
        "filename <- '/content/klein.rds'\n",
        " Canteen_clean <- readRDS(filename)"
      ],
      "metadata": {
        "id": "qhuBMuhTFiCx"
      },
      "execution_count": 10,
      "outputs": []
    },
    {
      "cell_type": "code",
      "source": [
        "Canteen_clean"
      ],
      "metadata": {
        "colab": {
          "base_uri": "https://localhost:8080/",
          "height": 243
        },
        "id": "H7hOHarxGfHC",
        "outputId": "7da63372-1d21-4dcf-aaf6-5657475defa2"
      },
      "execution_count": 11,
      "outputs": [
        {
          "output_type": "display_data",
          "data": {
            "text/plain": [
              "class: SingleCellExperiment \n",
              "dim: 24175 2717 \n",
              "metadata(0):\n",
              "assays(2): counts logcounts\n",
              "rownames(24175): 0610005C13Rik 0610007P14Rik ... n-R5s146 n-R5s149\n",
              "rowData names(10): feature_symbol is_feature_control ... total_counts\n",
              "  log10_total_counts\n",
              "colnames(2717): cell1 cell2 ... cell2716 cell2717\n",
              "colData names(29): cell_type1 total_features ... pct_counts_ERCC\n",
              "  is_cell_control\n",
              "reducedDimNames(0):\n",
              "mainExpName: NULL\n",
              "altExpNames(0):"
            ]
          },
          "metadata": {}
        }
      ]
    },
    {
      "cell_type": "code",
      "source": [
        "sce <- Canteen_clean"
      ],
      "metadata": {
        "id": "ljTQ2dluGstR"
      },
      "execution_count": 12,
      "outputs": []
    },
    {
      "cell_type": "code",
      "source": [
        "counts <- assay(sce, \"counts\")\n",
        "counts"
      ],
      "metadata": {
        "colab": {
          "base_uri": "https://localhost:8080/",
          "height": 1000
        },
        "id": "Mya_-Ll3GxS7",
        "outputId": "37cc3ebb-861a-444e-dce5-475d9e3b6c7c"
      },
      "execution_count": 13,
      "outputs": [
        {
          "output_type": "display_data",
          "data": {
            "text/html": [
              "<table class=\"dataframe\">\n",
              "<caption>A matrix: 24175 × 2717 of type int</caption>\n",
              "<thead>\n",
              "\t<tr><th></th><th scope=col>cell1</th><th scope=col>cell2</th><th scope=col>cell3</th><th scope=col>cell4</th><th scope=col>cell5</th><th scope=col>cell6</th><th scope=col>cell7</th><th scope=col>cell8</th><th scope=col>cell9</th><th scope=col>cell10</th><th scope=col>⋯</th><th scope=col>cell2708</th><th scope=col>cell2709</th><th scope=col>cell2710</th><th scope=col>cell2711</th><th scope=col>cell2712</th><th scope=col>cell2713</th><th scope=col>cell2714</th><th scope=col>cell2715</th><th scope=col>cell2716</th><th scope=col>cell2717</th></tr>\n",
              "</thead>\n",
              "<tbody>\n",
              "\t<tr><th scope=row>0610005C13Rik</th><td>0</td><td>3</td><td> 1</td><td>0</td><td>0</td><td>0</td><td>0</td><td>0</td><td>1</td><td>1</td><td>⋯</td><td>3</td><td>0</td><td>0</td><td>0</td><td>0</td><td>2</td><td> 0</td><td>0</td><td>2</td><td>0</td></tr>\n",
              "\t<tr><th scope=row>0610007P14Rik</th><td>1</td><td>3</td><td> 2</td><td>1</td><td>0</td><td>0</td><td>0</td><td>5</td><td>1</td><td>0</td><td>⋯</td><td>1</td><td>1</td><td>0</td><td>0</td><td>2</td><td>0</td><td> 3</td><td>2</td><td>1</td><td>2</td></tr>\n",
              "\t<tr><th scope=row>0610009B22Rik</th><td>0</td><td>3</td><td> 0</td><td>0</td><td>0</td><td>1</td><td>0</td><td>1</td><td>0</td><td>0</td><td>⋯</td><td>1</td><td>0</td><td>0</td><td>0</td><td>3</td><td>0</td><td> 3</td><td>0</td><td>1</td><td>0</td></tr>\n",
              "\t<tr><th scope=row>0610009L18Rik</th><td>1</td><td>0</td><td> 1</td><td>1</td><td>0</td><td>0</td><td>0</td><td>0</td><td>0</td><td>0</td><td>⋯</td><td>1</td><td>1</td><td>0</td><td>0</td><td>1</td><td>0</td><td> 1</td><td>1</td><td>0</td><td>0</td></tr>\n",
              "\t<tr><th scope=row>0610009O20Rik</th><td>4</td><td>1</td><td> 3</td><td>1</td><td>0</td><td>4</td><td>1</td><td>2</td><td>0</td><td>1</td><td>⋯</td><td>2</td><td>0</td><td>0</td><td>1</td><td>0</td><td>1</td><td> 5</td><td>0</td><td>5</td><td>0</td></tr>\n",
              "\t<tr><th scope=row>0610010B08Rik</th><td>0</td><td>0</td><td> 1</td><td>0</td><td>0</td><td>0</td><td>0</td><td>0</td><td>0</td><td>0</td><td>⋯</td><td>0</td><td>0</td><td>0</td><td>0</td><td>0</td><td>0</td><td> 0</td><td>0</td><td>0</td><td>0</td></tr>\n",
              "\t<tr><th scope=row>0610010F05Rik</th><td>3</td><td>1</td><td> 3</td><td>0</td><td>0</td><td>5</td><td>1</td><td>3</td><td>0</td><td>0</td><td>⋯</td><td>2</td><td>1</td><td>3</td><td>0</td><td>1</td><td>2</td><td> 1</td><td>2</td><td>0</td><td>0</td></tr>\n",
              "\t<tr><th scope=row>0610010K14Rik</th><td>4</td><td>4</td><td> 1</td><td>1</td><td>3</td><td>4</td><td>4</td><td>2</td><td>1</td><td>3</td><td>⋯</td><td>1</td><td>0</td><td>0</td><td>0</td><td>2</td><td>0</td><td> 8</td><td>0</td><td>1</td><td>0</td></tr>\n",
              "\t<tr><th scope=row>0610011F06Rik</th><td>2</td><td>1</td><td> 1</td><td>1</td><td>1</td><td>1</td><td>0</td><td>0</td><td>0</td><td>0</td><td>⋯</td><td>0</td><td>1</td><td>0</td><td>0</td><td>1</td><td>0</td><td> 4</td><td>0</td><td>0</td><td>0</td></tr>\n",
              "\t<tr><th scope=row>0610012G03Rik</th><td>2</td><td>1</td><td> 1</td><td>1</td><td>0</td><td>0</td><td>0</td><td>3</td><td>0</td><td>0</td><td>⋯</td><td>1</td><td>0</td><td>0</td><td>0</td><td>3</td><td>1</td><td> 2</td><td>2</td><td>1</td><td>0</td></tr>\n",
              "\t<tr><th scope=row>0610030E20Rik</th><td>0</td><td>1</td><td> 1</td><td>0</td><td>0</td><td>4</td><td>0</td><td>6</td><td>0</td><td>2</td><td>⋯</td><td>3</td><td>1</td><td>0</td><td>0</td><td>2</td><td>1</td><td> 2</td><td>1</td><td>1</td><td>2</td></tr>\n",
              "\t<tr><th scope=row>0610031J06Rik</th><td>1</td><td>5</td><td> 1</td><td>0</td><td>0</td><td>2</td><td>1</td><td>5</td><td>2</td><td>4</td><td>⋯</td><td>0</td><td>0</td><td>0</td><td>0</td><td>3</td><td>3</td><td> 5</td><td>2</td><td>4</td><td>1</td></tr>\n",
              "\t<tr><th scope=row>0610031O16Rik</th><td>1</td><td>1</td><td> 1</td><td>0</td><td>0</td><td>0</td><td>0</td><td>0</td><td>0</td><td>0</td><td>⋯</td><td>0</td><td>0</td><td>0</td><td>0</td><td>0</td><td>0</td><td> 1</td><td>0</td><td>1</td><td>1</td></tr>\n",
              "\t<tr><th scope=row>0610037L13Rik</th><td>2</td><td>0</td><td> 3</td><td>2</td><td>0</td><td>3</td><td>1</td><td>1</td><td>0</td><td>0</td><td>⋯</td><td>1</td><td>0</td><td>0</td><td>0</td><td>0</td><td>3</td><td> 1</td><td>0</td><td>2</td><td>0</td></tr>\n",
              "\t<tr><th scope=row>0610038B21Rik</th><td>0</td><td>0</td><td> 1</td><td>1</td><td>0</td><td>2</td><td>1</td><td>0</td><td>1</td><td>0</td><td>⋯</td><td>0</td><td>0</td><td>0</td><td>0</td><td>2</td><td>0</td><td> 0</td><td>3</td><td>0</td><td>0</td></tr>\n",
              "\t<tr><th scope=row>0610039K10Rik</th><td>2</td><td>0</td><td> 2</td><td>0</td><td>1</td><td>1</td><td>1</td><td>1</td><td>0</td><td>0</td><td>⋯</td><td>0</td><td>0</td><td>1</td><td>0</td><td>0</td><td>0</td><td> 0</td><td>0</td><td>1</td><td>2</td></tr>\n",
              "\t<tr><th scope=row>0610040B10Rik</th><td>1</td><td>2</td><td> 0</td><td>0</td><td>0</td><td>0</td><td>2</td><td>0</td><td>1</td><td>0</td><td>⋯</td><td>1</td><td>1</td><td>0</td><td>0</td><td>0</td><td>0</td><td> 1</td><td>0</td><td>3</td><td>0</td></tr>\n",
              "\t<tr><th scope=row>0610040F04Rik</th><td>1</td><td>2</td><td> 3</td><td>1</td><td>0</td><td>4</td><td>1</td><td>7</td><td>1</td><td>1</td><td>⋯</td><td>2</td><td>0</td><td>0</td><td>0</td><td>2</td><td>3</td><td> 1</td><td>2</td><td>8</td><td>0</td></tr>\n",
              "\t<tr><th scope=row>0610040J01Rik</th><td>1</td><td>0</td><td> 2</td><td>0</td><td>0</td><td>1</td><td>0</td><td>3</td><td>0</td><td>0</td><td>⋯</td><td>1</td><td>0</td><td>0</td><td>0</td><td>0</td><td>2</td><td> 0</td><td>1</td><td>1</td><td>1</td></tr>\n",
              "\t<tr><th scope=row>0610043K17Rik</th><td>1</td><td>2</td><td> 0</td><td>0</td><td>0</td><td>0</td><td>1</td><td>2</td><td>0</td><td>0</td><td>⋯</td><td>1</td><td>0</td><td>0</td><td>0</td><td>1</td><td>0</td><td> 1</td><td>1</td><td>1</td><td>1</td></tr>\n",
              "\t<tr><th scope=row>1010001N08Rik</th><td>1</td><td>1</td><td> 0</td><td>1</td><td>0</td><td>3</td><td>0</td><td>2</td><td>1</td><td>0</td><td>⋯</td><td>0</td><td>0</td><td>0</td><td>0</td><td>0</td><td>1</td><td> 0</td><td>0</td><td>0</td><td>0</td></tr>\n",
              "\t<tr><th scope=row>1110001J03Rik</th><td>1</td><td>0</td><td> 0</td><td>1</td><td>1</td><td>1</td><td>1</td><td>1</td><td>1</td><td>0</td><td>⋯</td><td>1</td><td>0</td><td>0</td><td>2</td><td>0</td><td>1</td><td> 1</td><td>1</td><td>0</td><td>0</td></tr>\n",
              "\t<tr><th scope=row>1110002L01Rik</th><td>1</td><td>1</td><td> 1</td><td>1</td><td>0</td><td>0</td><td>2</td><td>1</td><td>0</td><td>0</td><td>⋯</td><td>2</td><td>0</td><td>0</td><td>0</td><td>1</td><td>1</td><td> 7</td><td>1</td><td>1</td><td>3</td></tr>\n",
              "\t<tr><th scope=row>1110004E09Rik</th><td>1</td><td>1</td><td> 0</td><td>0</td><td>1</td><td>1</td><td>1</td><td>0</td><td>1</td><td>1</td><td>⋯</td><td>1</td><td>0</td><td>0</td><td>0</td><td>1</td><td>1</td><td> 0</td><td>0</td><td>4</td><td>0</td></tr>\n",
              "\t<tr><th scope=row>1110004F10Rik</th><td>6</td><td>2</td><td> 3</td><td>1</td><td>2</td><td>2</td><td>2</td><td>3</td><td>1</td><td>1</td><td>⋯</td><td>1</td><td>0</td><td>4</td><td>0</td><td>4</td><td>2</td><td> 4</td><td>3</td><td>2</td><td>1</td></tr>\n",
              "\t<tr><th scope=row>1110006O24Rik</th><td>2</td><td>1</td><td> 0</td><td>0</td><td>0</td><td>0</td><td>0</td><td>2</td><td>0</td><td>0</td><td>⋯</td><td>0</td><td>0</td><td>0</td><td>0</td><td>1</td><td>0</td><td> 3</td><td>0</td><td>0</td><td>0</td></tr>\n",
              "\t<tr><th scope=row>1110007C09Rik</th><td>2</td><td>1</td><td> 1</td><td>0</td><td>0</td><td>0</td><td>1</td><td>1</td><td>1</td><td>1</td><td>⋯</td><td>0</td><td>1</td><td>0</td><td>0</td><td>1</td><td>4</td><td> 3</td><td>0</td><td>0</td><td>1</td></tr>\n",
              "\t<tr><th scope=row>1110008F13Rik</th><td>5</td><td>9</td><td>20</td><td>1</td><td>5</td><td>4</td><td>1</td><td>3</td><td>3</td><td>1</td><td>⋯</td><td>3</td><td>1</td><td>2</td><td>0</td><td>6</td><td>5</td><td>13</td><td>6</td><td>7</td><td>1</td></tr>\n",
              "\t<tr><th scope=row>1110008L16Rik</th><td>2</td><td>0</td><td> 0</td><td>2</td><td>1</td><td>1</td><td>1</td><td>3</td><td>0</td><td>0</td><td>⋯</td><td>0</td><td>0</td><td>0</td><td>0</td><td>3</td><td>0</td><td> 1</td><td>0</td><td>0</td><td>0</td></tr>\n",
              "\t<tr><th scope=row>1110008P14Rik</th><td>0</td><td>1</td><td> 0</td><td>4</td><td>0</td><td>2</td><td>0</td><td>0</td><td>1</td><td>0</td><td>⋯</td><td>1</td><td>0</td><td>1</td><td>1</td><td>0</td><td>1</td><td> 1</td><td>2</td><td>0</td><td>0</td></tr>\n",
              "\t<tr><th scope=row>⋮</th><td>⋮</td><td>⋮</td><td>⋮</td><td>⋮</td><td>⋮</td><td>⋮</td><td>⋮</td><td>⋮</td><td>⋮</td><td>⋮</td><td>⋱</td><td>⋮</td><td>⋮</td><td>⋮</td><td>⋮</td><td>⋮</td><td>⋮</td><td>⋮</td><td>⋮</td><td>⋮</td><td>⋮</td></tr>\n",
              "\t<tr><th scope=row>Zzef1</th><td>4</td><td>9</td><td>2</td><td>1</td><td>2</td><td>4</td><td>1</td><td> 5</td><td>1</td><td>0</td><td>⋯</td><td>4</td><td>0</td><td>1</td><td>0</td><td>3</td><td>2</td><td>4</td><td>2</td><td>7</td><td>3</td></tr>\n",
              "\t<tr><th scope=row>Zzz3</th><td>6</td><td>1</td><td>1</td><td>2</td><td>1</td><td>2</td><td>4</td><td>10</td><td>2</td><td>1</td><td>⋯</td><td>0</td><td>1</td><td>3</td><td>0</td><td>3</td><td>0</td><td>4</td><td>0</td><td>4</td><td>1</td></tr>\n",
              "\t<tr><th scope=row>a</th><td>0</td><td>0</td><td>0</td><td>0</td><td>0</td><td>0</td><td>1</td><td> 1</td><td>0</td><td>0</td><td>⋯</td><td>0</td><td>0</td><td>0</td><td>0</td><td>1</td><td>0</td><td>0</td><td>0</td><td>0</td><td>0</td></tr>\n",
              "\t<tr><th scope=row>associated</th><td>0</td><td>0</td><td>0</td><td>0</td><td>0</td><td>0</td><td>0</td><td> 0</td><td>0</td><td>0</td><td>⋯</td><td>0</td><td>0</td><td>0</td><td>0</td><td>0</td><td>0</td><td>0</td><td>0</td><td>0</td><td>1</td></tr>\n",
              "\t<tr><th scope=row>l7Rn6</th><td>3</td><td>3</td><td>5</td><td>2</td><td>1</td><td>2</td><td>4</td><td>12</td><td>3</td><td>3</td><td>⋯</td><td>1</td><td>0</td><td>0</td><td>2</td><td>1</td><td>3</td><td>6</td><td>2</td><td>4</td><td>2</td></tr>\n",
              "\t<tr><th scope=row>n-R5s100</th><td>0</td><td>0</td><td>0</td><td>0</td><td>0</td><td>0</td><td>0</td><td> 0</td><td>0</td><td>0</td><td>⋯</td><td>0</td><td>0</td><td>0</td><td>0</td><td>0</td><td>0</td><td>0</td><td>0</td><td>0</td><td>0</td></tr>\n",
              "\t<tr><th scope=row>n-R5s103</th><td>0</td><td>0</td><td>0</td><td>0</td><td>0</td><td>0</td><td>0</td><td> 0</td><td>0</td><td>0</td><td>⋯</td><td>0</td><td>0</td><td>0</td><td>0</td><td>0</td><td>0</td><td>0</td><td>0</td><td>0</td><td>0</td></tr>\n",
              "\t<tr><th scope=row>n-R5s104</th><td>0</td><td>0</td><td>0</td><td>0</td><td>0</td><td>0</td><td>0</td><td> 0</td><td>0</td><td>0</td><td>⋯</td><td>0</td><td>0</td><td>0</td><td>0</td><td>0</td><td>0</td><td>0</td><td>0</td><td>0</td><td>0</td></tr>\n",
              "\t<tr><th scope=row>n-R5s105</th><td>0</td><td>0</td><td>0</td><td>0</td><td>0</td><td>0</td><td>0</td><td> 0</td><td>0</td><td>0</td><td>⋯</td><td>0</td><td>0</td><td>0</td><td>0</td><td>0</td><td>0</td><td>0</td><td>0</td><td>0</td><td>0</td></tr>\n",
              "\t<tr><th scope=row>n-R5s108</th><td>0</td><td>0</td><td>0</td><td>0</td><td>0</td><td>0</td><td>0</td><td> 0</td><td>0</td><td>0</td><td>⋯</td><td>0</td><td>0</td><td>0</td><td>0</td><td>0</td><td>0</td><td>0</td><td>0</td><td>0</td><td>0</td></tr>\n",
              "\t<tr><th scope=row>n-R5s110</th><td>0</td><td>0</td><td>0</td><td>0</td><td>0</td><td>0</td><td>0</td><td> 0</td><td>0</td><td>0</td><td>⋯</td><td>0</td><td>0</td><td>0</td><td>0</td><td>0</td><td>0</td><td>0</td><td>0</td><td>0</td><td>0</td></tr>\n",
              "\t<tr><th scope=row>n-R5s111</th><td>0</td><td>0</td><td>0</td><td>0</td><td>0</td><td>0</td><td>0</td><td> 0</td><td>0</td><td>0</td><td>⋯</td><td>0</td><td>0</td><td>0</td><td>0</td><td>0</td><td>0</td><td>0</td><td>0</td><td>0</td><td>0</td></tr>\n",
              "\t<tr><th scope=row>n-R5s113</th><td>0</td><td>0</td><td>0</td><td>0</td><td>0</td><td>0</td><td>0</td><td> 0</td><td>0</td><td>0</td><td>⋯</td><td>0</td><td>0</td><td>0</td><td>0</td><td>0</td><td>0</td><td>0</td><td>0</td><td>0</td><td>0</td></tr>\n",
              "\t<tr><th scope=row>n-R5s117</th><td>0</td><td>0</td><td>0</td><td>0</td><td>0</td><td>0</td><td>0</td><td> 0</td><td>0</td><td>0</td><td>⋯</td><td>0</td><td>0</td><td>0</td><td>0</td><td>0</td><td>0</td><td>0</td><td>0</td><td>0</td><td>0</td></tr>\n",
              "\t<tr><th scope=row>n-R5s121</th><td>0</td><td>0</td><td>0</td><td>0</td><td>0</td><td>0</td><td>0</td><td> 0</td><td>0</td><td>0</td><td>⋯</td><td>0</td><td>0</td><td>0</td><td>0</td><td>0</td><td>0</td><td>0</td><td>0</td><td>0</td><td>0</td></tr>\n",
              "\t<tr><th scope=row>n-R5s122</th><td>0</td><td>0</td><td>0</td><td>0</td><td>0</td><td>0</td><td>0</td><td> 0</td><td>0</td><td>0</td><td>⋯</td><td>0</td><td>0</td><td>0</td><td>0</td><td>0</td><td>0</td><td>0</td><td>0</td><td>0</td><td>0</td></tr>\n",
              "\t<tr><th scope=row>n-R5s123</th><td>0</td><td>0</td><td>0</td><td>0</td><td>0</td><td>0</td><td>0</td><td> 0</td><td>0</td><td>0</td><td>⋯</td><td>0</td><td>0</td><td>0</td><td>0</td><td>0</td><td>0</td><td>0</td><td>0</td><td>0</td><td>0</td></tr>\n",
              "\t<tr><th scope=row>n-R5s124</th><td>0</td><td>0</td><td>0</td><td>0</td><td>0</td><td>0</td><td>0</td><td> 0</td><td>0</td><td>0</td><td>⋯</td><td>0</td><td>0</td><td>0</td><td>0</td><td>0</td><td>0</td><td>0</td><td>0</td><td>0</td><td>0</td></tr>\n",
              "\t<tr><th scope=row>n-R5s128</th><td>0</td><td>0</td><td>0</td><td>0</td><td>0</td><td>0</td><td>0</td><td> 0</td><td>0</td><td>0</td><td>⋯</td><td>0</td><td>0</td><td>0</td><td>0</td><td>0</td><td>0</td><td>0</td><td>0</td><td>0</td><td>0</td></tr>\n",
              "\t<tr><th scope=row>n-R5s133</th><td>0</td><td>0</td><td>0</td><td>0</td><td>0</td><td>0</td><td>0</td><td> 0</td><td>0</td><td>0</td><td>⋯</td><td>0</td><td>0</td><td>0</td><td>0</td><td>0</td><td>0</td><td>0</td><td>0</td><td>0</td><td>0</td></tr>\n",
              "\t<tr><th scope=row>n-R5s134</th><td>0</td><td>0</td><td>0</td><td>0</td><td>0</td><td>0</td><td>0</td><td> 0</td><td>0</td><td>0</td><td>⋯</td><td>0</td><td>0</td><td>0</td><td>0</td><td>0</td><td>0</td><td>0</td><td>0</td><td>0</td><td>0</td></tr>\n",
              "\t<tr><th scope=row>n-R5s136</th><td>0</td><td>0</td><td>0</td><td>0</td><td>0</td><td>0</td><td>0</td><td> 0</td><td>0</td><td>0</td><td>⋯</td><td>0</td><td>0</td><td>0</td><td>0</td><td>0</td><td>0</td><td>0</td><td>1</td><td>0</td><td>0</td></tr>\n",
              "\t<tr><th scope=row>n-R5s138</th><td>0</td><td>0</td><td>0</td><td>0</td><td>0</td><td>0</td><td>0</td><td> 0</td><td>0</td><td>0</td><td>⋯</td><td>0</td><td>0</td><td>0</td><td>0</td><td>0</td><td>0</td><td>0</td><td>0</td><td>0</td><td>0</td></tr>\n",
              "\t<tr><th scope=row>n-R5s139</th><td>0</td><td>0</td><td>0</td><td>0</td><td>0</td><td>0</td><td>0</td><td> 0</td><td>0</td><td>0</td><td>⋯</td><td>0</td><td>0</td><td>0</td><td>0</td><td>0</td><td>0</td><td>0</td><td>0</td><td>0</td><td>0</td></tr>\n",
              "\t<tr><th scope=row>n-R5s141</th><td>0</td><td>0</td><td>0</td><td>0</td><td>0</td><td>0</td><td>0</td><td> 0</td><td>0</td><td>0</td><td>⋯</td><td>0</td><td>0</td><td>0</td><td>0</td><td>0</td><td>0</td><td>0</td><td>0</td><td>0</td><td>0</td></tr>\n",
              "\t<tr><th scope=row>n-R5s142</th><td>0</td><td>0</td><td>0</td><td>0</td><td>0</td><td>0</td><td>0</td><td> 0</td><td>0</td><td>0</td><td>⋯</td><td>0</td><td>0</td><td>0</td><td>0</td><td>0</td><td>0</td><td>0</td><td>0</td><td>0</td><td>0</td></tr>\n",
              "\t<tr><th scope=row>n-R5s143</th><td>0</td><td>0</td><td>0</td><td>0</td><td>0</td><td>0</td><td>0</td><td> 0</td><td>0</td><td>0</td><td>⋯</td><td>0</td><td>0</td><td>0</td><td>0</td><td>0</td><td>0</td><td>0</td><td>0</td><td>0</td><td>0</td></tr>\n",
              "\t<tr><th scope=row>n-R5s144</th><td>0</td><td>0</td><td>0</td><td>0</td><td>0</td><td>0</td><td>0</td><td> 0</td><td>0</td><td>0</td><td>⋯</td><td>0</td><td>0</td><td>0</td><td>0</td><td>0</td><td>0</td><td>0</td><td>0</td><td>0</td><td>0</td></tr>\n",
              "\t<tr><th scope=row>n-R5s146</th><td>0</td><td>0</td><td>0</td><td>0</td><td>0</td><td>0</td><td>0</td><td> 0</td><td>0</td><td>0</td><td>⋯</td><td>0</td><td>0</td><td>0</td><td>0</td><td>0</td><td>0</td><td>0</td><td>0</td><td>0</td><td>0</td></tr>\n",
              "\t<tr><th scope=row>n-R5s149</th><td>0</td><td>0</td><td>0</td><td>0</td><td>0</td><td>0</td><td>0</td><td> 0</td><td>0</td><td>0</td><td>⋯</td><td>0</td><td>0</td><td>0</td><td>0</td><td>0</td><td>0</td><td>0</td><td>0</td><td>0</td><td>0</td></tr>\n",
              "</tbody>\n",
              "</table>\n"
            ],
            "text/markdown": "\nA matrix: 24175 × 2717 of type int\n\n| <!--/--> | cell1 | cell2 | cell3 | cell4 | cell5 | cell6 | cell7 | cell8 | cell9 | cell10 | ⋯ | cell2708 | cell2709 | cell2710 | cell2711 | cell2712 | cell2713 | cell2714 | cell2715 | cell2716 | cell2717 |\n|---|---|---|---|---|---|---|---|---|---|---|---|---|---|---|---|---|---|---|---|---|---|\n| 0610005C13Rik | 0 | 3 |  1 | 0 | 0 | 0 | 0 | 0 | 1 | 1 | ⋯ | 3 | 0 | 0 | 0 | 0 | 2 |  0 | 0 | 2 | 0 |\n| 0610007P14Rik | 1 | 3 |  2 | 1 | 0 | 0 | 0 | 5 | 1 | 0 | ⋯ | 1 | 1 | 0 | 0 | 2 | 0 |  3 | 2 | 1 | 2 |\n| 0610009B22Rik | 0 | 3 |  0 | 0 | 0 | 1 | 0 | 1 | 0 | 0 | ⋯ | 1 | 0 | 0 | 0 | 3 | 0 |  3 | 0 | 1 | 0 |\n| 0610009L18Rik | 1 | 0 |  1 | 1 | 0 | 0 | 0 | 0 | 0 | 0 | ⋯ | 1 | 1 | 0 | 0 | 1 | 0 |  1 | 1 | 0 | 0 |\n| 0610009O20Rik | 4 | 1 |  3 | 1 | 0 | 4 | 1 | 2 | 0 | 1 | ⋯ | 2 | 0 | 0 | 1 | 0 | 1 |  5 | 0 | 5 | 0 |\n| 0610010B08Rik | 0 | 0 |  1 | 0 | 0 | 0 | 0 | 0 | 0 | 0 | ⋯ | 0 | 0 | 0 | 0 | 0 | 0 |  0 | 0 | 0 | 0 |\n| 0610010F05Rik | 3 | 1 |  3 | 0 | 0 | 5 | 1 | 3 | 0 | 0 | ⋯ | 2 | 1 | 3 | 0 | 1 | 2 |  1 | 2 | 0 | 0 |\n| 0610010K14Rik | 4 | 4 |  1 | 1 | 3 | 4 | 4 | 2 | 1 | 3 | ⋯ | 1 | 0 | 0 | 0 | 2 | 0 |  8 | 0 | 1 | 0 |\n| 0610011F06Rik | 2 | 1 |  1 | 1 | 1 | 1 | 0 | 0 | 0 | 0 | ⋯ | 0 | 1 | 0 | 0 | 1 | 0 |  4 | 0 | 0 | 0 |\n| 0610012G03Rik | 2 | 1 |  1 | 1 | 0 | 0 | 0 | 3 | 0 | 0 | ⋯ | 1 | 0 | 0 | 0 | 3 | 1 |  2 | 2 | 1 | 0 |\n| 0610030E20Rik | 0 | 1 |  1 | 0 | 0 | 4 | 0 | 6 | 0 | 2 | ⋯ | 3 | 1 | 0 | 0 | 2 | 1 |  2 | 1 | 1 | 2 |\n| 0610031J06Rik | 1 | 5 |  1 | 0 | 0 | 2 | 1 | 5 | 2 | 4 | ⋯ | 0 | 0 | 0 | 0 | 3 | 3 |  5 | 2 | 4 | 1 |\n| 0610031O16Rik | 1 | 1 |  1 | 0 | 0 | 0 | 0 | 0 | 0 | 0 | ⋯ | 0 | 0 | 0 | 0 | 0 | 0 |  1 | 0 | 1 | 1 |\n| 0610037L13Rik | 2 | 0 |  3 | 2 | 0 | 3 | 1 | 1 | 0 | 0 | ⋯ | 1 | 0 | 0 | 0 | 0 | 3 |  1 | 0 | 2 | 0 |\n| 0610038B21Rik | 0 | 0 |  1 | 1 | 0 | 2 | 1 | 0 | 1 | 0 | ⋯ | 0 | 0 | 0 | 0 | 2 | 0 |  0 | 3 | 0 | 0 |\n| 0610039K10Rik | 2 | 0 |  2 | 0 | 1 | 1 | 1 | 1 | 0 | 0 | ⋯ | 0 | 0 | 1 | 0 | 0 | 0 |  0 | 0 | 1 | 2 |\n| 0610040B10Rik | 1 | 2 |  0 | 0 | 0 | 0 | 2 | 0 | 1 | 0 | ⋯ | 1 | 1 | 0 | 0 | 0 | 0 |  1 | 0 | 3 | 0 |\n| 0610040F04Rik | 1 | 2 |  3 | 1 | 0 | 4 | 1 | 7 | 1 | 1 | ⋯ | 2 | 0 | 0 | 0 | 2 | 3 |  1 | 2 | 8 | 0 |\n| 0610040J01Rik | 1 | 0 |  2 | 0 | 0 | 1 | 0 | 3 | 0 | 0 | ⋯ | 1 | 0 | 0 | 0 | 0 | 2 |  0 | 1 | 1 | 1 |\n| 0610043K17Rik | 1 | 2 |  0 | 0 | 0 | 0 | 1 | 2 | 0 | 0 | ⋯ | 1 | 0 | 0 | 0 | 1 | 0 |  1 | 1 | 1 | 1 |\n| 1010001N08Rik | 1 | 1 |  0 | 1 | 0 | 3 | 0 | 2 | 1 | 0 | ⋯ | 0 | 0 | 0 | 0 | 0 | 1 |  0 | 0 | 0 | 0 |\n| 1110001J03Rik | 1 | 0 |  0 | 1 | 1 | 1 | 1 | 1 | 1 | 0 | ⋯ | 1 | 0 | 0 | 2 | 0 | 1 |  1 | 1 | 0 | 0 |\n| 1110002L01Rik | 1 | 1 |  1 | 1 | 0 | 0 | 2 | 1 | 0 | 0 | ⋯ | 2 | 0 | 0 | 0 | 1 | 1 |  7 | 1 | 1 | 3 |\n| 1110004E09Rik | 1 | 1 |  0 | 0 | 1 | 1 | 1 | 0 | 1 | 1 | ⋯ | 1 | 0 | 0 | 0 | 1 | 1 |  0 | 0 | 4 | 0 |\n| 1110004F10Rik | 6 | 2 |  3 | 1 | 2 | 2 | 2 | 3 | 1 | 1 | ⋯ | 1 | 0 | 4 | 0 | 4 | 2 |  4 | 3 | 2 | 1 |\n| 1110006O24Rik | 2 | 1 |  0 | 0 | 0 | 0 | 0 | 2 | 0 | 0 | ⋯ | 0 | 0 | 0 | 0 | 1 | 0 |  3 | 0 | 0 | 0 |\n| 1110007C09Rik | 2 | 1 |  1 | 0 | 0 | 0 | 1 | 1 | 1 | 1 | ⋯ | 0 | 1 | 0 | 0 | 1 | 4 |  3 | 0 | 0 | 1 |\n| 1110008F13Rik | 5 | 9 | 20 | 1 | 5 | 4 | 1 | 3 | 3 | 1 | ⋯ | 3 | 1 | 2 | 0 | 6 | 5 | 13 | 6 | 7 | 1 |\n| 1110008L16Rik | 2 | 0 |  0 | 2 | 1 | 1 | 1 | 3 | 0 | 0 | ⋯ | 0 | 0 | 0 | 0 | 3 | 0 |  1 | 0 | 0 | 0 |\n| 1110008P14Rik | 0 | 1 |  0 | 4 | 0 | 2 | 0 | 0 | 1 | 0 | ⋯ | 1 | 0 | 1 | 1 | 0 | 1 |  1 | 2 | 0 | 0 |\n| ⋮ | ⋮ | ⋮ | ⋮ | ⋮ | ⋮ | ⋮ | ⋮ | ⋮ | ⋮ | ⋮ | ⋱ | ⋮ | ⋮ | ⋮ | ⋮ | ⋮ | ⋮ | ⋮ | ⋮ | ⋮ | ⋮ |\n| Zzef1 | 4 | 9 | 2 | 1 | 2 | 4 | 1 |  5 | 1 | 0 | ⋯ | 4 | 0 | 1 | 0 | 3 | 2 | 4 | 2 | 7 | 3 |\n| Zzz3 | 6 | 1 | 1 | 2 | 1 | 2 | 4 | 10 | 2 | 1 | ⋯ | 0 | 1 | 3 | 0 | 3 | 0 | 4 | 0 | 4 | 1 |\n| a | 0 | 0 | 0 | 0 | 0 | 0 | 1 |  1 | 0 | 0 | ⋯ | 0 | 0 | 0 | 0 | 1 | 0 | 0 | 0 | 0 | 0 |\n| associated | 0 | 0 | 0 | 0 | 0 | 0 | 0 |  0 | 0 | 0 | ⋯ | 0 | 0 | 0 | 0 | 0 | 0 | 0 | 0 | 0 | 1 |\n| l7Rn6 | 3 | 3 | 5 | 2 | 1 | 2 | 4 | 12 | 3 | 3 | ⋯ | 1 | 0 | 0 | 2 | 1 | 3 | 6 | 2 | 4 | 2 |\n| n-R5s100 | 0 | 0 | 0 | 0 | 0 | 0 | 0 |  0 | 0 | 0 | ⋯ | 0 | 0 | 0 | 0 | 0 | 0 | 0 | 0 | 0 | 0 |\n| n-R5s103 | 0 | 0 | 0 | 0 | 0 | 0 | 0 |  0 | 0 | 0 | ⋯ | 0 | 0 | 0 | 0 | 0 | 0 | 0 | 0 | 0 | 0 |\n| n-R5s104 | 0 | 0 | 0 | 0 | 0 | 0 | 0 |  0 | 0 | 0 | ⋯ | 0 | 0 | 0 | 0 | 0 | 0 | 0 | 0 | 0 | 0 |\n| n-R5s105 | 0 | 0 | 0 | 0 | 0 | 0 | 0 |  0 | 0 | 0 | ⋯ | 0 | 0 | 0 | 0 | 0 | 0 | 0 | 0 | 0 | 0 |\n| n-R5s108 | 0 | 0 | 0 | 0 | 0 | 0 | 0 |  0 | 0 | 0 | ⋯ | 0 | 0 | 0 | 0 | 0 | 0 | 0 | 0 | 0 | 0 |\n| n-R5s110 | 0 | 0 | 0 | 0 | 0 | 0 | 0 |  0 | 0 | 0 | ⋯ | 0 | 0 | 0 | 0 | 0 | 0 | 0 | 0 | 0 | 0 |\n| n-R5s111 | 0 | 0 | 0 | 0 | 0 | 0 | 0 |  0 | 0 | 0 | ⋯ | 0 | 0 | 0 | 0 | 0 | 0 | 0 | 0 | 0 | 0 |\n| n-R5s113 | 0 | 0 | 0 | 0 | 0 | 0 | 0 |  0 | 0 | 0 | ⋯ | 0 | 0 | 0 | 0 | 0 | 0 | 0 | 0 | 0 | 0 |\n| n-R5s117 | 0 | 0 | 0 | 0 | 0 | 0 | 0 |  0 | 0 | 0 | ⋯ | 0 | 0 | 0 | 0 | 0 | 0 | 0 | 0 | 0 | 0 |\n| n-R5s121 | 0 | 0 | 0 | 0 | 0 | 0 | 0 |  0 | 0 | 0 | ⋯ | 0 | 0 | 0 | 0 | 0 | 0 | 0 | 0 | 0 | 0 |\n| n-R5s122 | 0 | 0 | 0 | 0 | 0 | 0 | 0 |  0 | 0 | 0 | ⋯ | 0 | 0 | 0 | 0 | 0 | 0 | 0 | 0 | 0 | 0 |\n| n-R5s123 | 0 | 0 | 0 | 0 | 0 | 0 | 0 |  0 | 0 | 0 | ⋯ | 0 | 0 | 0 | 0 | 0 | 0 | 0 | 0 | 0 | 0 |\n| n-R5s124 | 0 | 0 | 0 | 0 | 0 | 0 | 0 |  0 | 0 | 0 | ⋯ | 0 | 0 | 0 | 0 | 0 | 0 | 0 | 0 | 0 | 0 |\n| n-R5s128 | 0 | 0 | 0 | 0 | 0 | 0 | 0 |  0 | 0 | 0 | ⋯ | 0 | 0 | 0 | 0 | 0 | 0 | 0 | 0 | 0 | 0 |\n| n-R5s133 | 0 | 0 | 0 | 0 | 0 | 0 | 0 |  0 | 0 | 0 | ⋯ | 0 | 0 | 0 | 0 | 0 | 0 | 0 | 0 | 0 | 0 |\n| n-R5s134 | 0 | 0 | 0 | 0 | 0 | 0 | 0 |  0 | 0 | 0 | ⋯ | 0 | 0 | 0 | 0 | 0 | 0 | 0 | 0 | 0 | 0 |\n| n-R5s136 | 0 | 0 | 0 | 0 | 0 | 0 | 0 |  0 | 0 | 0 | ⋯ | 0 | 0 | 0 | 0 | 0 | 0 | 0 | 1 | 0 | 0 |\n| n-R5s138 | 0 | 0 | 0 | 0 | 0 | 0 | 0 |  0 | 0 | 0 | ⋯ | 0 | 0 | 0 | 0 | 0 | 0 | 0 | 0 | 0 | 0 |\n| n-R5s139 | 0 | 0 | 0 | 0 | 0 | 0 | 0 |  0 | 0 | 0 | ⋯ | 0 | 0 | 0 | 0 | 0 | 0 | 0 | 0 | 0 | 0 |\n| n-R5s141 | 0 | 0 | 0 | 0 | 0 | 0 | 0 |  0 | 0 | 0 | ⋯ | 0 | 0 | 0 | 0 | 0 | 0 | 0 | 0 | 0 | 0 |\n| n-R5s142 | 0 | 0 | 0 | 0 | 0 | 0 | 0 |  0 | 0 | 0 | ⋯ | 0 | 0 | 0 | 0 | 0 | 0 | 0 | 0 | 0 | 0 |\n| n-R5s143 | 0 | 0 | 0 | 0 | 0 | 0 | 0 |  0 | 0 | 0 | ⋯ | 0 | 0 | 0 | 0 | 0 | 0 | 0 | 0 | 0 | 0 |\n| n-R5s144 | 0 | 0 | 0 | 0 | 0 | 0 | 0 |  0 | 0 | 0 | ⋯ | 0 | 0 | 0 | 0 | 0 | 0 | 0 | 0 | 0 | 0 |\n| n-R5s146 | 0 | 0 | 0 | 0 | 0 | 0 | 0 |  0 | 0 | 0 | ⋯ | 0 | 0 | 0 | 0 | 0 | 0 | 0 | 0 | 0 | 0 |\n| n-R5s149 | 0 | 0 | 0 | 0 | 0 | 0 | 0 |  0 | 0 | 0 | ⋯ | 0 | 0 | 0 | 0 | 0 | 0 | 0 | 0 | 0 | 0 |\n\n",
            "text/latex": "A matrix: 24175 × 2717 of type int\n\\begin{tabular}{r|lllllllllllllllllllll}\n  & cell1 & cell2 & cell3 & cell4 & cell5 & cell6 & cell7 & cell8 & cell9 & cell10 & ⋯ & cell2708 & cell2709 & cell2710 & cell2711 & cell2712 & cell2713 & cell2714 & cell2715 & cell2716 & cell2717\\\\\n\\hline\n\t0610005C13Rik & 0 & 3 &  1 & 0 & 0 & 0 & 0 & 0 & 1 & 1 & ⋯ & 3 & 0 & 0 & 0 & 0 & 2 &  0 & 0 & 2 & 0\\\\\n\t0610007P14Rik & 1 & 3 &  2 & 1 & 0 & 0 & 0 & 5 & 1 & 0 & ⋯ & 1 & 1 & 0 & 0 & 2 & 0 &  3 & 2 & 1 & 2\\\\\n\t0610009B22Rik & 0 & 3 &  0 & 0 & 0 & 1 & 0 & 1 & 0 & 0 & ⋯ & 1 & 0 & 0 & 0 & 3 & 0 &  3 & 0 & 1 & 0\\\\\n\t0610009L18Rik & 1 & 0 &  1 & 1 & 0 & 0 & 0 & 0 & 0 & 0 & ⋯ & 1 & 1 & 0 & 0 & 1 & 0 &  1 & 1 & 0 & 0\\\\\n\t0610009O20Rik & 4 & 1 &  3 & 1 & 0 & 4 & 1 & 2 & 0 & 1 & ⋯ & 2 & 0 & 0 & 1 & 0 & 1 &  5 & 0 & 5 & 0\\\\\n\t0610010B08Rik & 0 & 0 &  1 & 0 & 0 & 0 & 0 & 0 & 0 & 0 & ⋯ & 0 & 0 & 0 & 0 & 0 & 0 &  0 & 0 & 0 & 0\\\\\n\t0610010F05Rik & 3 & 1 &  3 & 0 & 0 & 5 & 1 & 3 & 0 & 0 & ⋯ & 2 & 1 & 3 & 0 & 1 & 2 &  1 & 2 & 0 & 0\\\\\n\t0610010K14Rik & 4 & 4 &  1 & 1 & 3 & 4 & 4 & 2 & 1 & 3 & ⋯ & 1 & 0 & 0 & 0 & 2 & 0 &  8 & 0 & 1 & 0\\\\\n\t0610011F06Rik & 2 & 1 &  1 & 1 & 1 & 1 & 0 & 0 & 0 & 0 & ⋯ & 0 & 1 & 0 & 0 & 1 & 0 &  4 & 0 & 0 & 0\\\\\n\t0610012G03Rik & 2 & 1 &  1 & 1 & 0 & 0 & 0 & 3 & 0 & 0 & ⋯ & 1 & 0 & 0 & 0 & 3 & 1 &  2 & 2 & 1 & 0\\\\\n\t0610030E20Rik & 0 & 1 &  1 & 0 & 0 & 4 & 0 & 6 & 0 & 2 & ⋯ & 3 & 1 & 0 & 0 & 2 & 1 &  2 & 1 & 1 & 2\\\\\n\t0610031J06Rik & 1 & 5 &  1 & 0 & 0 & 2 & 1 & 5 & 2 & 4 & ⋯ & 0 & 0 & 0 & 0 & 3 & 3 &  5 & 2 & 4 & 1\\\\\n\t0610031O16Rik & 1 & 1 &  1 & 0 & 0 & 0 & 0 & 0 & 0 & 0 & ⋯ & 0 & 0 & 0 & 0 & 0 & 0 &  1 & 0 & 1 & 1\\\\\n\t0610037L13Rik & 2 & 0 &  3 & 2 & 0 & 3 & 1 & 1 & 0 & 0 & ⋯ & 1 & 0 & 0 & 0 & 0 & 3 &  1 & 0 & 2 & 0\\\\\n\t0610038B21Rik & 0 & 0 &  1 & 1 & 0 & 2 & 1 & 0 & 1 & 0 & ⋯ & 0 & 0 & 0 & 0 & 2 & 0 &  0 & 3 & 0 & 0\\\\\n\t0610039K10Rik & 2 & 0 &  2 & 0 & 1 & 1 & 1 & 1 & 0 & 0 & ⋯ & 0 & 0 & 1 & 0 & 0 & 0 &  0 & 0 & 1 & 2\\\\\n\t0610040B10Rik & 1 & 2 &  0 & 0 & 0 & 0 & 2 & 0 & 1 & 0 & ⋯ & 1 & 1 & 0 & 0 & 0 & 0 &  1 & 0 & 3 & 0\\\\\n\t0610040F04Rik & 1 & 2 &  3 & 1 & 0 & 4 & 1 & 7 & 1 & 1 & ⋯ & 2 & 0 & 0 & 0 & 2 & 3 &  1 & 2 & 8 & 0\\\\\n\t0610040J01Rik & 1 & 0 &  2 & 0 & 0 & 1 & 0 & 3 & 0 & 0 & ⋯ & 1 & 0 & 0 & 0 & 0 & 2 &  0 & 1 & 1 & 1\\\\\n\t0610043K17Rik & 1 & 2 &  0 & 0 & 0 & 0 & 1 & 2 & 0 & 0 & ⋯ & 1 & 0 & 0 & 0 & 1 & 0 &  1 & 1 & 1 & 1\\\\\n\t1010001N08Rik & 1 & 1 &  0 & 1 & 0 & 3 & 0 & 2 & 1 & 0 & ⋯ & 0 & 0 & 0 & 0 & 0 & 1 &  0 & 0 & 0 & 0\\\\\n\t1110001J03Rik & 1 & 0 &  0 & 1 & 1 & 1 & 1 & 1 & 1 & 0 & ⋯ & 1 & 0 & 0 & 2 & 0 & 1 &  1 & 1 & 0 & 0\\\\\n\t1110002L01Rik & 1 & 1 &  1 & 1 & 0 & 0 & 2 & 1 & 0 & 0 & ⋯ & 2 & 0 & 0 & 0 & 1 & 1 &  7 & 1 & 1 & 3\\\\\n\t1110004E09Rik & 1 & 1 &  0 & 0 & 1 & 1 & 1 & 0 & 1 & 1 & ⋯ & 1 & 0 & 0 & 0 & 1 & 1 &  0 & 0 & 4 & 0\\\\\n\t1110004F10Rik & 6 & 2 &  3 & 1 & 2 & 2 & 2 & 3 & 1 & 1 & ⋯ & 1 & 0 & 4 & 0 & 4 & 2 &  4 & 3 & 2 & 1\\\\\n\t1110006O24Rik & 2 & 1 &  0 & 0 & 0 & 0 & 0 & 2 & 0 & 0 & ⋯ & 0 & 0 & 0 & 0 & 1 & 0 &  3 & 0 & 0 & 0\\\\\n\t1110007C09Rik & 2 & 1 &  1 & 0 & 0 & 0 & 1 & 1 & 1 & 1 & ⋯ & 0 & 1 & 0 & 0 & 1 & 4 &  3 & 0 & 0 & 1\\\\\n\t1110008F13Rik & 5 & 9 & 20 & 1 & 5 & 4 & 1 & 3 & 3 & 1 & ⋯ & 3 & 1 & 2 & 0 & 6 & 5 & 13 & 6 & 7 & 1\\\\\n\t1110008L16Rik & 2 & 0 &  0 & 2 & 1 & 1 & 1 & 3 & 0 & 0 & ⋯ & 0 & 0 & 0 & 0 & 3 & 0 &  1 & 0 & 0 & 0\\\\\n\t1110008P14Rik & 0 & 1 &  0 & 4 & 0 & 2 & 0 & 0 & 1 & 0 & ⋯ & 1 & 0 & 1 & 1 & 0 & 1 &  1 & 2 & 0 & 0\\\\\n\t⋮ & ⋮ & ⋮ & ⋮ & ⋮ & ⋮ & ⋮ & ⋮ & ⋮ & ⋮ & ⋮ & ⋱ & ⋮ & ⋮ & ⋮ & ⋮ & ⋮ & ⋮ & ⋮ & ⋮ & ⋮ & ⋮\\\\\n\tZzef1 & 4 & 9 & 2 & 1 & 2 & 4 & 1 &  5 & 1 & 0 & ⋯ & 4 & 0 & 1 & 0 & 3 & 2 & 4 & 2 & 7 & 3\\\\\n\tZzz3 & 6 & 1 & 1 & 2 & 1 & 2 & 4 & 10 & 2 & 1 & ⋯ & 0 & 1 & 3 & 0 & 3 & 0 & 4 & 0 & 4 & 1\\\\\n\ta & 0 & 0 & 0 & 0 & 0 & 0 & 1 &  1 & 0 & 0 & ⋯ & 0 & 0 & 0 & 0 & 1 & 0 & 0 & 0 & 0 & 0\\\\\n\tassociated & 0 & 0 & 0 & 0 & 0 & 0 & 0 &  0 & 0 & 0 & ⋯ & 0 & 0 & 0 & 0 & 0 & 0 & 0 & 0 & 0 & 1\\\\\n\tl7Rn6 & 3 & 3 & 5 & 2 & 1 & 2 & 4 & 12 & 3 & 3 & ⋯ & 1 & 0 & 0 & 2 & 1 & 3 & 6 & 2 & 4 & 2\\\\\n\tn-R5s100 & 0 & 0 & 0 & 0 & 0 & 0 & 0 &  0 & 0 & 0 & ⋯ & 0 & 0 & 0 & 0 & 0 & 0 & 0 & 0 & 0 & 0\\\\\n\tn-R5s103 & 0 & 0 & 0 & 0 & 0 & 0 & 0 &  0 & 0 & 0 & ⋯ & 0 & 0 & 0 & 0 & 0 & 0 & 0 & 0 & 0 & 0\\\\\n\tn-R5s104 & 0 & 0 & 0 & 0 & 0 & 0 & 0 &  0 & 0 & 0 & ⋯ & 0 & 0 & 0 & 0 & 0 & 0 & 0 & 0 & 0 & 0\\\\\n\tn-R5s105 & 0 & 0 & 0 & 0 & 0 & 0 & 0 &  0 & 0 & 0 & ⋯ & 0 & 0 & 0 & 0 & 0 & 0 & 0 & 0 & 0 & 0\\\\\n\tn-R5s108 & 0 & 0 & 0 & 0 & 0 & 0 & 0 &  0 & 0 & 0 & ⋯ & 0 & 0 & 0 & 0 & 0 & 0 & 0 & 0 & 0 & 0\\\\\n\tn-R5s110 & 0 & 0 & 0 & 0 & 0 & 0 & 0 &  0 & 0 & 0 & ⋯ & 0 & 0 & 0 & 0 & 0 & 0 & 0 & 0 & 0 & 0\\\\\n\tn-R5s111 & 0 & 0 & 0 & 0 & 0 & 0 & 0 &  0 & 0 & 0 & ⋯ & 0 & 0 & 0 & 0 & 0 & 0 & 0 & 0 & 0 & 0\\\\\n\tn-R5s113 & 0 & 0 & 0 & 0 & 0 & 0 & 0 &  0 & 0 & 0 & ⋯ & 0 & 0 & 0 & 0 & 0 & 0 & 0 & 0 & 0 & 0\\\\\n\tn-R5s117 & 0 & 0 & 0 & 0 & 0 & 0 & 0 &  0 & 0 & 0 & ⋯ & 0 & 0 & 0 & 0 & 0 & 0 & 0 & 0 & 0 & 0\\\\\n\tn-R5s121 & 0 & 0 & 0 & 0 & 0 & 0 & 0 &  0 & 0 & 0 & ⋯ & 0 & 0 & 0 & 0 & 0 & 0 & 0 & 0 & 0 & 0\\\\\n\tn-R5s122 & 0 & 0 & 0 & 0 & 0 & 0 & 0 &  0 & 0 & 0 & ⋯ & 0 & 0 & 0 & 0 & 0 & 0 & 0 & 0 & 0 & 0\\\\\n\tn-R5s123 & 0 & 0 & 0 & 0 & 0 & 0 & 0 &  0 & 0 & 0 & ⋯ & 0 & 0 & 0 & 0 & 0 & 0 & 0 & 0 & 0 & 0\\\\\n\tn-R5s124 & 0 & 0 & 0 & 0 & 0 & 0 & 0 &  0 & 0 & 0 & ⋯ & 0 & 0 & 0 & 0 & 0 & 0 & 0 & 0 & 0 & 0\\\\\n\tn-R5s128 & 0 & 0 & 0 & 0 & 0 & 0 & 0 &  0 & 0 & 0 & ⋯ & 0 & 0 & 0 & 0 & 0 & 0 & 0 & 0 & 0 & 0\\\\\n\tn-R5s133 & 0 & 0 & 0 & 0 & 0 & 0 & 0 &  0 & 0 & 0 & ⋯ & 0 & 0 & 0 & 0 & 0 & 0 & 0 & 0 & 0 & 0\\\\\n\tn-R5s134 & 0 & 0 & 0 & 0 & 0 & 0 & 0 &  0 & 0 & 0 & ⋯ & 0 & 0 & 0 & 0 & 0 & 0 & 0 & 0 & 0 & 0\\\\\n\tn-R5s136 & 0 & 0 & 0 & 0 & 0 & 0 & 0 &  0 & 0 & 0 & ⋯ & 0 & 0 & 0 & 0 & 0 & 0 & 0 & 1 & 0 & 0\\\\\n\tn-R5s138 & 0 & 0 & 0 & 0 & 0 & 0 & 0 &  0 & 0 & 0 & ⋯ & 0 & 0 & 0 & 0 & 0 & 0 & 0 & 0 & 0 & 0\\\\\n\tn-R5s139 & 0 & 0 & 0 & 0 & 0 & 0 & 0 &  0 & 0 & 0 & ⋯ & 0 & 0 & 0 & 0 & 0 & 0 & 0 & 0 & 0 & 0\\\\\n\tn-R5s141 & 0 & 0 & 0 & 0 & 0 & 0 & 0 &  0 & 0 & 0 & ⋯ & 0 & 0 & 0 & 0 & 0 & 0 & 0 & 0 & 0 & 0\\\\\n\tn-R5s142 & 0 & 0 & 0 & 0 & 0 & 0 & 0 &  0 & 0 & 0 & ⋯ & 0 & 0 & 0 & 0 & 0 & 0 & 0 & 0 & 0 & 0\\\\\n\tn-R5s143 & 0 & 0 & 0 & 0 & 0 & 0 & 0 &  0 & 0 & 0 & ⋯ & 0 & 0 & 0 & 0 & 0 & 0 & 0 & 0 & 0 & 0\\\\\n\tn-R5s144 & 0 & 0 & 0 & 0 & 0 & 0 & 0 &  0 & 0 & 0 & ⋯ & 0 & 0 & 0 & 0 & 0 & 0 & 0 & 0 & 0 & 0\\\\\n\tn-R5s146 & 0 & 0 & 0 & 0 & 0 & 0 & 0 &  0 & 0 & 0 & ⋯ & 0 & 0 & 0 & 0 & 0 & 0 & 0 & 0 & 0 & 0\\\\\n\tn-R5s149 & 0 & 0 & 0 & 0 & 0 & 0 & 0 &  0 & 0 & 0 & ⋯ & 0 & 0 & 0 & 0 & 0 & 0 & 0 & 0 & 0 & 0\\\\\n\\end{tabular}\n",
            "text/plain": [
              "              cell1 cell2 cell3 cell4 cell5 cell6 cell7 cell8 cell9 cell10 ⋯\n",
              "0610005C13Rik 0     3      1    0     0     0     0     0     1     1      ⋯\n",
              "0610007P14Rik 1     3      2    1     0     0     0     5     1     0      ⋯\n",
              "0610009B22Rik 0     3      0    0     0     1     0     1     0     0      ⋯\n",
              "0610009L18Rik 1     0      1    1     0     0     0     0     0     0      ⋯\n",
              "0610009O20Rik 4     1      3    1     0     4     1     2     0     1      ⋯\n",
              "0610010B08Rik 0     0      1    0     0     0     0     0     0     0      ⋯\n",
              "0610010F05Rik 3     1      3    0     0     5     1     3     0     0      ⋯\n",
              "0610010K14Rik 4     4      1    1     3     4     4     2     1     3      ⋯\n",
              "0610011F06Rik 2     1      1    1     1     1     0     0     0     0      ⋯\n",
              "0610012G03Rik 2     1      1    1     0     0     0     3     0     0      ⋯\n",
              "0610030E20Rik 0     1      1    0     0     4     0     6     0     2      ⋯\n",
              "0610031J06Rik 1     5      1    0     0     2     1     5     2     4      ⋯\n",
              "0610031O16Rik 1     1      1    0     0     0     0     0     0     0      ⋯\n",
              "0610037L13Rik 2     0      3    2     0     3     1     1     0     0      ⋯\n",
              "0610038B21Rik 0     0      1    1     0     2     1     0     1     0      ⋯\n",
              "0610039K10Rik 2     0      2    0     1     1     1     1     0     0      ⋯\n",
              "0610040B10Rik 1     2      0    0     0     0     2     0     1     0      ⋯\n",
              "0610040F04Rik 1     2      3    1     0     4     1     7     1     1      ⋯\n",
              "0610040J01Rik 1     0      2    0     0     1     0     3     0     0      ⋯\n",
              "0610043K17Rik 1     2      0    0     0     0     1     2     0     0      ⋯\n",
              "1010001N08Rik 1     1      0    1     0     3     0     2     1     0      ⋯\n",
              "1110001J03Rik 1     0      0    1     1     1     1     1     1     0      ⋯\n",
              "1110002L01Rik 1     1      1    1     0     0     2     1     0     0      ⋯\n",
              "1110004E09Rik 1     1      0    0     1     1     1     0     1     1      ⋯\n",
              "1110004F10Rik 6     2      3    1     2     2     2     3     1     1      ⋯\n",
              "1110006O24Rik 2     1      0    0     0     0     0     2     0     0      ⋯\n",
              "1110007C09Rik 2     1      1    0     0     0     1     1     1     1      ⋯\n",
              "1110008F13Rik 5     9     20    1     5     4     1     3     3     1      ⋯\n",
              "1110008L16Rik 2     0      0    2     1     1     1     3     0     0      ⋯\n",
              "1110008P14Rik 0     1      0    4     0     2     0     0     1     0      ⋯\n",
              "⋮             ⋮     ⋮     ⋮     ⋮     ⋮     ⋮     ⋮     ⋮     ⋮     ⋮      ⋱\n",
              "Zzef1         4     9     2     1     2     4     1      5    1     0      ⋯\n",
              "Zzz3          6     1     1     2     1     2     4     10    2     1      ⋯\n",
              "a             0     0     0     0     0     0     1      1    0     0      ⋯\n",
              "associated    0     0     0     0     0     0     0      0    0     0      ⋯\n",
              "l7Rn6         3     3     5     2     1     2     4     12    3     3      ⋯\n",
              "n-R5s100      0     0     0     0     0     0     0      0    0     0      ⋯\n",
              "n-R5s103      0     0     0     0     0     0     0      0    0     0      ⋯\n",
              "n-R5s104      0     0     0     0     0     0     0      0    0     0      ⋯\n",
              "n-R5s105      0     0     0     0     0     0     0      0    0     0      ⋯\n",
              "n-R5s108      0     0     0     0     0     0     0      0    0     0      ⋯\n",
              "n-R5s110      0     0     0     0     0     0     0      0    0     0      ⋯\n",
              "n-R5s111      0     0     0     0     0     0     0      0    0     0      ⋯\n",
              "n-R5s113      0     0     0     0     0     0     0      0    0     0      ⋯\n",
              "n-R5s117      0     0     0     0     0     0     0      0    0     0      ⋯\n",
              "n-R5s121      0     0     0     0     0     0     0      0    0     0      ⋯\n",
              "n-R5s122      0     0     0     0     0     0     0      0    0     0      ⋯\n",
              "n-R5s123      0     0     0     0     0     0     0      0    0     0      ⋯\n",
              "n-R5s124      0     0     0     0     0     0     0      0    0     0      ⋯\n",
              "n-R5s128      0     0     0     0     0     0     0      0    0     0      ⋯\n",
              "n-R5s133      0     0     0     0     0     0     0      0    0     0      ⋯\n",
              "n-R5s134      0     0     0     0     0     0     0      0    0     0      ⋯\n",
              "n-R5s136      0     0     0     0     0     0     0      0    0     0      ⋯\n",
              "n-R5s138      0     0     0     0     0     0     0      0    0     0      ⋯\n",
              "n-R5s139      0     0     0     0     0     0     0      0    0     0      ⋯\n",
              "n-R5s141      0     0     0     0     0     0     0      0    0     0      ⋯\n",
              "n-R5s142      0     0     0     0     0     0     0      0    0     0      ⋯\n",
              "n-R5s143      0     0     0     0     0     0     0      0    0     0      ⋯\n",
              "n-R5s144      0     0     0     0     0     0     0      0    0     0      ⋯\n",
              "n-R5s146      0     0     0     0     0     0     0      0    0     0      ⋯\n",
              "n-R5s149      0     0     0     0     0     0     0      0    0     0      ⋯\n",
              "              cell2708 cell2709 cell2710 cell2711 cell2712 cell2713 cell2714\n",
              "0610005C13Rik 3        0        0        0        0        2         0      \n",
              "0610007P14Rik 1        1        0        0        2        0         3      \n",
              "0610009B22Rik 1        0        0        0        3        0         3      \n",
              "0610009L18Rik 1        1        0        0        1        0         1      \n",
              "0610009O20Rik 2        0        0        1        0        1         5      \n",
              "0610010B08Rik 0        0        0        0        0        0         0      \n",
              "0610010F05Rik 2        1        3        0        1        2         1      \n",
              "0610010K14Rik 1        0        0        0        2        0         8      \n",
              "0610011F06Rik 0        1        0        0        1        0         4      \n",
              "0610012G03Rik 1        0        0        0        3        1         2      \n",
              "0610030E20Rik 3        1        0        0        2        1         2      \n",
              "0610031J06Rik 0        0        0        0        3        3         5      \n",
              "0610031O16Rik 0        0        0        0        0        0         1      \n",
              "0610037L13Rik 1        0        0        0        0        3         1      \n",
              "0610038B21Rik 0        0        0        0        2        0         0      \n",
              "0610039K10Rik 0        0        1        0        0        0         0      \n",
              "0610040B10Rik 1        1        0        0        0        0         1      \n",
              "0610040F04Rik 2        0        0        0        2        3         1      \n",
              "0610040J01Rik 1        0        0        0        0        2         0      \n",
              "0610043K17Rik 1        0        0        0        1        0         1      \n",
              "1010001N08Rik 0        0        0        0        0        1         0      \n",
              "1110001J03Rik 1        0        0        2        0        1         1      \n",
              "1110002L01Rik 2        0        0        0        1        1         7      \n",
              "1110004E09Rik 1        0        0        0        1        1         0      \n",
              "1110004F10Rik 1        0        4        0        4        2         4      \n",
              "1110006O24Rik 0        0        0        0        1        0         3      \n",
              "1110007C09Rik 0        1        0        0        1        4         3      \n",
              "1110008F13Rik 3        1        2        0        6        5        13      \n",
              "1110008L16Rik 0        0        0        0        3        0         1      \n",
              "1110008P14Rik 1        0        1        1        0        1         1      \n",
              "⋮             ⋮        ⋮        ⋮        ⋮        ⋮        ⋮        ⋮       \n",
              "Zzef1         4        0        1        0        3        2        4       \n",
              "Zzz3          0        1        3        0        3        0        4       \n",
              "a             0        0        0        0        1        0        0       \n",
              "associated    0        0        0        0        0        0        0       \n",
              "l7Rn6         1        0        0        2        1        3        6       \n",
              "n-R5s100      0        0        0        0        0        0        0       \n",
              "n-R5s103      0        0        0        0        0        0        0       \n",
              "n-R5s104      0        0        0        0        0        0        0       \n",
              "n-R5s105      0        0        0        0        0        0        0       \n",
              "n-R5s108      0        0        0        0        0        0        0       \n",
              "n-R5s110      0        0        0        0        0        0        0       \n",
              "n-R5s111      0        0        0        0        0        0        0       \n",
              "n-R5s113      0        0        0        0        0        0        0       \n",
              "n-R5s117      0        0        0        0        0        0        0       \n",
              "n-R5s121      0        0        0        0        0        0        0       \n",
              "n-R5s122      0        0        0        0        0        0        0       \n",
              "n-R5s123      0        0        0        0        0        0        0       \n",
              "n-R5s124      0        0        0        0        0        0        0       \n",
              "n-R5s128      0        0        0        0        0        0        0       \n",
              "n-R5s133      0        0        0        0        0        0        0       \n",
              "n-R5s134      0        0        0        0        0        0        0       \n",
              "n-R5s136      0        0        0        0        0        0        0       \n",
              "n-R5s138      0        0        0        0        0        0        0       \n",
              "n-R5s139      0        0        0        0        0        0        0       \n",
              "n-R5s141      0        0        0        0        0        0        0       \n",
              "n-R5s142      0        0        0        0        0        0        0       \n",
              "n-R5s143      0        0        0        0        0        0        0       \n",
              "n-R5s144      0        0        0        0        0        0        0       \n",
              "n-R5s146      0        0        0        0        0        0        0       \n",
              "n-R5s149      0        0        0        0        0        0        0       \n",
              "              cell2715 cell2716 cell2717\n",
              "0610005C13Rik 0        2        0       \n",
              "0610007P14Rik 2        1        2       \n",
              "0610009B22Rik 0        1        0       \n",
              "0610009L18Rik 1        0        0       \n",
              "0610009O20Rik 0        5        0       \n",
              "0610010B08Rik 0        0        0       \n",
              "0610010F05Rik 2        0        0       \n",
              "0610010K14Rik 0        1        0       \n",
              "0610011F06Rik 0        0        0       \n",
              "0610012G03Rik 2        1        0       \n",
              "0610030E20Rik 1        1        2       \n",
              "0610031J06Rik 2        4        1       \n",
              "0610031O16Rik 0        1        1       \n",
              "0610037L13Rik 0        2        0       \n",
              "0610038B21Rik 3        0        0       \n",
              "0610039K10Rik 0        1        2       \n",
              "0610040B10Rik 0        3        0       \n",
              "0610040F04Rik 2        8        0       \n",
              "0610040J01Rik 1        1        1       \n",
              "0610043K17Rik 1        1        1       \n",
              "1010001N08Rik 0        0        0       \n",
              "1110001J03Rik 1        0        0       \n",
              "1110002L01Rik 1        1        3       \n",
              "1110004E09Rik 0        4        0       \n",
              "1110004F10Rik 3        2        1       \n",
              "1110006O24Rik 0        0        0       \n",
              "1110007C09Rik 0        0        1       \n",
              "1110008F13Rik 6        7        1       \n",
              "1110008L16Rik 0        0        0       \n",
              "1110008P14Rik 2        0        0       \n",
              "⋮             ⋮        ⋮        ⋮       \n",
              "Zzef1         2        7        3       \n",
              "Zzz3          0        4        1       \n",
              "a             0        0        0       \n",
              "associated    0        0        1       \n",
              "l7Rn6         2        4        2       \n",
              "n-R5s100      0        0        0       \n",
              "n-R5s103      0        0        0       \n",
              "n-R5s104      0        0        0       \n",
              "n-R5s105      0        0        0       \n",
              "n-R5s108      0        0        0       \n",
              "n-R5s110      0        0        0       \n",
              "n-R5s111      0        0        0       \n",
              "n-R5s113      0        0        0       \n",
              "n-R5s117      0        0        0       \n",
              "n-R5s121      0        0        0       \n",
              "n-R5s122      0        0        0       \n",
              "n-R5s123      0        0        0       \n",
              "n-R5s124      0        0        0       \n",
              "n-R5s128      0        0        0       \n",
              "n-R5s133      0        0        0       \n",
              "n-R5s134      0        0        0       \n",
              "n-R5s136      1        0        0       \n",
              "n-R5s138      0        0        0       \n",
              "n-R5s139      0        0        0       \n",
              "n-R5s141      0        0        0       \n",
              "n-R5s142      0        0        0       \n",
              "n-R5s143      0        0        0       \n",
              "n-R5s144      0        0        0       \n",
              "n-R5s146      0        0        0       \n",
              "n-R5s149      0        0        0       "
            ]
          },
          "metadata": {}
        }
      ]
    },
    {
      "cell_type": "code",
      "source": [
        "write.csv(counts,\"scrnaseq_Klein_mouse_embryo.csv\")"
      ],
      "metadata": {
        "id": "CoClSntUG-Ss"
      },
      "execution_count": 14,
      "outputs": []
    }
  ]
}