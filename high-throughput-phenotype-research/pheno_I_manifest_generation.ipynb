# prompt: write python code to convert /content/sample_data/inventory-w-rowid-utf-8.json to rdf and save to /content/sample_data/inventory-w-rowid-utf-8.rdf

import json
import pandas as pd
from rdflib import Graph, Literal, URIRef
from rdflib.namespace import RDF, RDFS, XSD

# Load the JSON data
with open('/content/sample_data/inventory-w-rowid-utf-8-1.json', 'r', encoding='utf-8') as f:
    data = json.load(f)

# Create a new RDF graph
g = Graph()

# Define a base URI for the resources
base_uri = URIRef("http://example.com/inventory/")

# Define namespaces
# Corrected the typo from URFL to URIRef
inv = URIRef("http://example.com/ontology/inventory#")
g.bind("inv", inv)

# Iterate over the JSON objects
for item in data:
    # Create a URI for the item
    # Assuming 'row_id' is the unique identifier in your JSON based on the filename
    if 'row_id' in item:
        item_uri = base_uri + str(item['row_id'])

        # Add triples to the graph
        g.add((item_uri, RDF.type, inv.InventoryItem))
        # Add properties based on the columns in your JSON

        if 'row-id' in item: g.add((item_uri, inv.RowId, Literal(item['row-id'], datatype=XSD.string)))
        if 'organization' in item: g.add((item_uri, inv.Organization, Literal(item['organization'], datatype=XSD.string)))
        if 'sub-organization' in item: g.add((item_uri, inv.SubOrganization, Literal(item['sub-organization'], datatype=XSD.string)))
        if 'research -omain' in item: g.add((item_uri, inv.ResearchOmain, Literal(item['research -omain'], datatype=XSD.string)))
        if 'crop' in item: g.add((item_uri, inv.Crop, Literal(item['crop'], datatype=XSD.string)))
        if 'name' in item: g.add((item_uri, inv.Name, Literal(item['name'], datatype=XSD.string)))
        if 'url' in item: g.add((item_uri, inv.Url, Literal(item['url'], datatype=XSD.string)))
        if 'purpose' in item: g.add((item_uri, inv.Purpose, Literal(item['purpose'], datatype=XSD.string)))
        if 'key features' in item: g.add((item_uri, inv.KeyFeatures, Literal(item['key features'], datatype=XSD.string)))
        if 'source' in item: g.add((item_uri, inv.Source, Literal(item['source'], datatype=XSD.string)))
        if 'type' in item: g.add((item_uri, inv.Type, Literal(item['type'], datatype=XSD.string)))
        if 'status' in item: g.add((item_uri, inv.Status, Literal(item['status'], datatype=XSD.string)))
        if 'keywords-tags' in item: g.add((item_uri, inv.KeywordsTags, Literal(item['keywords-tags'], datatype=XSD.string)))
        if 'metadata-array' in item: g.add((item_uri, inv.MetadataArray, Literal(item['metadata-array'], datatype=XSD.string)))

    else:
        print(f"Warning: Skipping item with no 'row_id': {item}")


# Serialize the graph to RDF/XML format and save to a file
g.serialize(destination='/content/sample_data/inventory-w-rowid-utf-8-1.rdf', format='xml')

print("JSON converted to RDF and saved to /content/sample_data/inventory-w-rowid-utf-8-1.rdf")
