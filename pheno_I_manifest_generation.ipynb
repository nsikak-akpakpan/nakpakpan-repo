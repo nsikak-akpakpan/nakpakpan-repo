{
  "nbformat": 4,
  "nbformat_minor": 0,
  "metadata": {
    "colab": {
      "provenance": [],
      "authorship_tag": "ABX9TyPWtEyY6MNjJDV7dtaORJyv",
      "include_colab_link": true
    },
    "kernelspec": {
      "name": "python3",
      "display_name": "Python 3"
    },
    "language_info": {
      "name": "python"
    }
  },
  "cells": [
    {
      "cell_type": "markdown",
      "metadata": {
        "id": "view-in-github",
        "colab_type": "text"
      },
      "source": [
        "<a href=\"https://colab.research.google.com/github/nsikak-akpakpan/nakpakpan-repo/blob/master/pheno_I_manifest_generation.ipynb\" target=\"_parent\"><img src=\"https://colab.research.google.com/assets/colab-badge.svg\" alt=\"Open In Colab\"/></a>"
      ]
    },
    {
      "cell_type": "code",
      "execution_count": null,
      "metadata": {
        "id": "qZckx2KeIJ_b"
      },
      "outputs": [],
      "source": [
        "# prompt: write python code to convert /content/sample_data/inventory.csv to json and save to /content/sample_data/inventory.json\n",
        "\n",
        "import pandas as pd\n",
        "\n",
        "df = pd.read_csv('/content/sample_data/inventory.csv')\n",
        "\n",
        "df.to_json('/content/sample_data/inventory.json', orient='records', indent=2)"
      ]
    },
    {
      "cell_type": "code",
      "source": [],
      "metadata": {
        "id": "53AqcaQlNDm0"
      },
      "execution_count": null,
      "outputs": []
    },
    {
      "cell_type": "code",
      "source": [
        "# prompt: write python code to convert /content/sample_data/inventory.csv to rfd and save to /content/sample_data/inventory.rdf\n",
        "\n",
        "!pip install pandas rdflib\n",
        "import pandas as pd\n",
        "from rdflib import Graph, Literal, URIRef\n",
        "from rdflib.namespace import RDF, RDFS, XSD\n",
        "\n",
        "# Load the CSV data\n",
        "df = pd.read_csv('/content/sample_data/inventory.csv')\n",
        "\n",
        "# Create a new RDF graph\n",
        "g = Graph()\n",
        "\n",
        "# Define a base URI for the resources\n",
        "base_uri = URIRef(\"http://example.com/inventory/\")\n",
        "\n",
        "# Define namespaces\n",
        "inv = URIRef(\"http://example.com/ontology/inventory#\")\n",
        "g.bind(\"inv\", inv)\n",
        "\n",
        "# Iterate over the DataFrame rows\n",
        "for index, row in df.iterrows():\n",
        "    # Create a URI for the item\n",
        "    item_uri = base_uri + str(row['item_id'])\n",
        "\n",
        "    # Add triples to the graph\n",
        "    g.add((item_uri, RDF.type, inv.InventoryItem))\n",
        "    g.add((item_uri, inv.itemName, Literal(row['item_name'], datatype=XSD.string)))\n",
        "    g.add((item_uri, inv.itemQuantity, Literal(row['quantity'], datatype=XSD.integer)))\n",
        "    g.add((item_uri, inv.itemPrice, Literal(row['price'], datatype=XSD.decimal)))\n",
        "\n",
        "# Serialize the graph to RDF/XML format and save to a file\n",
        "g.serialize(destination='/content/sample_data/inventory.rdf', format='xml')\n",
        "\n",
        "print(\"CSV converted to RDF and saved to /content/sample_data/inventory.rdf\")"
      ],
      "metadata": {
        "colab": {
          "base_uri": "https://localhost:8080/",
          "height": 889
        },
        "id": "_NLuVpQEJHOp",
        "outputId": "b7b29e6e-df7a-4e7b-9661-c0499596cba1"
      },
      "execution_count": null,
      "outputs": [
        {
          "output_type": "stream",
          "name": "stdout",
          "text": [
            "Requirement already satisfied: pandas in /usr/local/lib/python3.11/dist-packages (2.2.2)\n",
            "Collecting rdflib\n",
            "  Downloading rdflib-7.1.4-py3-none-any.whl.metadata (11 kB)\n",
            "Requirement already satisfied: numpy>=1.23.2 in /usr/local/lib/python3.11/dist-packages (from pandas) (2.0.2)\n",
            "Requirement already satisfied: python-dateutil>=2.8.2 in /usr/local/lib/python3.11/dist-packages (from pandas) (2.9.0.post0)\n",
            "Requirement already satisfied: pytz>=2020.1 in /usr/local/lib/python3.11/dist-packages (from pandas) (2025.2)\n",
            "Requirement already satisfied: tzdata>=2022.7 in /usr/local/lib/python3.11/dist-packages (from pandas) (2025.2)\n",
            "Requirement already satisfied: pyparsing<4,>=2.1.0 in /usr/local/lib/python3.11/dist-packages (from rdflib) (3.2.3)\n",
            "Requirement already satisfied: six>=1.5 in /usr/local/lib/python3.11/dist-packages (from python-dateutil>=2.8.2->pandas) (1.17.0)\n",
            "Downloading rdflib-7.1.4-py3-none-any.whl (565 kB)\n",
            "\u001b[2K   \u001b[90m━━━━━━━━━━━━━━━━━━━━━━━━━━━━━━━━━━━━━━━━\u001b[0m \u001b[32m565.1/565.1 kB\u001b[0m \u001b[31m8.3 MB/s\u001b[0m eta \u001b[36m0:00:00\u001b[0m\n",
            "\u001b[?25hInstalling collected packages: rdflib\n",
            "Successfully installed rdflib-7.1.4\n"
          ]
        },
        {
          "output_type": "error",
          "ename": "KeyError",
          "evalue": "'item_id'",
          "traceback": [
            "\u001b[0;31m---------------------------------------------------------------------------\u001b[0m",
            "\u001b[0;31mKeyError\u001b[0m                                  Traceback (most recent call last)",
            "\u001b[0;32m/usr/local/lib/python3.11/dist-packages/pandas/core/indexes/base.py\u001b[0m in \u001b[0;36mget_loc\u001b[0;34m(self, key)\u001b[0m\n\u001b[1;32m   3804\u001b[0m         \u001b[0;32mtry\u001b[0m\u001b[0;34m:\u001b[0m\u001b[0;34m\u001b[0m\u001b[0;34m\u001b[0m\u001b[0m\n\u001b[0;32m-> 3805\u001b[0;31m             \u001b[0;32mreturn\u001b[0m \u001b[0mself\u001b[0m\u001b[0;34m.\u001b[0m\u001b[0m_engine\u001b[0m\u001b[0;34m.\u001b[0m\u001b[0mget_loc\u001b[0m\u001b[0;34m(\u001b[0m\u001b[0mcasted_key\u001b[0m\u001b[0;34m)\u001b[0m\u001b[0;34m\u001b[0m\u001b[0;34m\u001b[0m\u001b[0m\n\u001b[0m\u001b[1;32m   3806\u001b[0m         \u001b[0;32mexcept\u001b[0m \u001b[0mKeyError\u001b[0m \u001b[0;32mas\u001b[0m \u001b[0merr\u001b[0m\u001b[0;34m:\u001b[0m\u001b[0;34m\u001b[0m\u001b[0;34m\u001b[0m\u001b[0m\n",
            "\u001b[0;32mindex.pyx\u001b[0m in \u001b[0;36mpandas._libs.index.IndexEngine.get_loc\u001b[0;34m()\u001b[0m\n",
            "\u001b[0;32mindex.pyx\u001b[0m in \u001b[0;36mpandas._libs.index.IndexEngine.get_loc\u001b[0;34m()\u001b[0m\n",
            "\u001b[0;32mpandas/_libs/hashtable_class_helper.pxi\u001b[0m in \u001b[0;36mpandas._libs.hashtable.PyObjectHashTable.get_item\u001b[0;34m()\u001b[0m\n",
            "\u001b[0;32mpandas/_libs/hashtable_class_helper.pxi\u001b[0m in \u001b[0;36mpandas._libs.hashtable.PyObjectHashTable.get_item\u001b[0;34m()\u001b[0m\n",
            "\u001b[0;31mKeyError\u001b[0m: 'item_id'",
            "\nThe above exception was the direct cause of the following exception:\n",
            "\u001b[0;31mKeyError\u001b[0m                                  Traceback (most recent call last)",
            "\u001b[0;32m<ipython-input-2-74564f98a520>\u001b[0m in \u001b[0;36m<cell line: 0>\u001b[0;34m()\u001b[0m\n\u001b[1;32m     22\u001b[0m \u001b[0;32mfor\u001b[0m \u001b[0mindex\u001b[0m\u001b[0;34m,\u001b[0m \u001b[0mrow\u001b[0m \u001b[0;32min\u001b[0m \u001b[0mdf\u001b[0m\u001b[0;34m.\u001b[0m\u001b[0miterrows\u001b[0m\u001b[0;34m(\u001b[0m\u001b[0;34m)\u001b[0m\u001b[0;34m:\u001b[0m\u001b[0;34m\u001b[0m\u001b[0;34m\u001b[0m\u001b[0m\n\u001b[1;32m     23\u001b[0m     \u001b[0;31m# Create a URI for the item\u001b[0m\u001b[0;34m\u001b[0m\u001b[0;34m\u001b[0m\u001b[0m\n\u001b[0;32m---> 24\u001b[0;31m     \u001b[0mitem_uri\u001b[0m \u001b[0;34m=\u001b[0m \u001b[0mbase_uri\u001b[0m \u001b[0;34m+\u001b[0m \u001b[0mstr\u001b[0m\u001b[0;34m(\u001b[0m\u001b[0mrow\u001b[0m\u001b[0;34m[\u001b[0m\u001b[0;34m'item_id'\u001b[0m\u001b[0;34m]\u001b[0m\u001b[0;34m)\u001b[0m\u001b[0;34m\u001b[0m\u001b[0;34m\u001b[0m\u001b[0m\n\u001b[0m\u001b[1;32m     25\u001b[0m \u001b[0;34m\u001b[0m\u001b[0m\n\u001b[1;32m     26\u001b[0m     \u001b[0;31m# Add triples to the graph\u001b[0m\u001b[0;34m\u001b[0m\u001b[0;34m\u001b[0m\u001b[0m\n",
            "\u001b[0;32m/usr/local/lib/python3.11/dist-packages/pandas/core/series.py\u001b[0m in \u001b[0;36m__getitem__\u001b[0;34m(self, key)\u001b[0m\n\u001b[1;32m   1119\u001b[0m \u001b[0;34m\u001b[0m\u001b[0m\n\u001b[1;32m   1120\u001b[0m         \u001b[0;32melif\u001b[0m \u001b[0mkey_is_scalar\u001b[0m\u001b[0;34m:\u001b[0m\u001b[0;34m\u001b[0m\u001b[0;34m\u001b[0m\u001b[0m\n\u001b[0;32m-> 1121\u001b[0;31m             \u001b[0;32mreturn\u001b[0m \u001b[0mself\u001b[0m\u001b[0;34m.\u001b[0m\u001b[0m_get_value\u001b[0m\u001b[0;34m(\u001b[0m\u001b[0mkey\u001b[0m\u001b[0;34m)\u001b[0m\u001b[0;34m\u001b[0m\u001b[0;34m\u001b[0m\u001b[0m\n\u001b[0m\u001b[1;32m   1122\u001b[0m \u001b[0;34m\u001b[0m\u001b[0m\n\u001b[1;32m   1123\u001b[0m         \u001b[0;31m# Convert generator to list before going through hashable part\u001b[0m\u001b[0;34m\u001b[0m\u001b[0;34m\u001b[0m\u001b[0m\n",
            "\u001b[0;32m/usr/local/lib/python3.11/dist-packages/pandas/core/series.py\u001b[0m in \u001b[0;36m_get_value\u001b[0;34m(self, label, takeable)\u001b[0m\n\u001b[1;32m   1235\u001b[0m \u001b[0;34m\u001b[0m\u001b[0m\n\u001b[1;32m   1236\u001b[0m         \u001b[0;31m# Similar to Index.get_value, but we do not fall back to positional\u001b[0m\u001b[0;34m\u001b[0m\u001b[0;34m\u001b[0m\u001b[0m\n\u001b[0;32m-> 1237\u001b[0;31m         \u001b[0mloc\u001b[0m \u001b[0;34m=\u001b[0m \u001b[0mself\u001b[0m\u001b[0;34m.\u001b[0m\u001b[0mindex\u001b[0m\u001b[0;34m.\u001b[0m\u001b[0mget_loc\u001b[0m\u001b[0;34m(\u001b[0m\u001b[0mlabel\u001b[0m\u001b[0;34m)\u001b[0m\u001b[0;34m\u001b[0m\u001b[0;34m\u001b[0m\u001b[0m\n\u001b[0m\u001b[1;32m   1238\u001b[0m \u001b[0;34m\u001b[0m\u001b[0m\n\u001b[1;32m   1239\u001b[0m         \u001b[0;32mif\u001b[0m \u001b[0mis_integer\u001b[0m\u001b[0;34m(\u001b[0m\u001b[0mloc\u001b[0m\u001b[0;34m)\u001b[0m\u001b[0;34m:\u001b[0m\u001b[0;34m\u001b[0m\u001b[0;34m\u001b[0m\u001b[0m\n",
            "\u001b[0;32m/usr/local/lib/python3.11/dist-packages/pandas/core/indexes/base.py\u001b[0m in \u001b[0;36mget_loc\u001b[0;34m(self, key)\u001b[0m\n\u001b[1;32m   3810\u001b[0m             ):\n\u001b[1;32m   3811\u001b[0m                 \u001b[0;32mraise\u001b[0m \u001b[0mInvalidIndexError\u001b[0m\u001b[0;34m(\u001b[0m\u001b[0mkey\u001b[0m\u001b[0;34m)\u001b[0m\u001b[0;34m\u001b[0m\u001b[0;34m\u001b[0m\u001b[0m\n\u001b[0;32m-> 3812\u001b[0;31m             \u001b[0;32mraise\u001b[0m \u001b[0mKeyError\u001b[0m\u001b[0;34m(\u001b[0m\u001b[0mkey\u001b[0m\u001b[0;34m)\u001b[0m \u001b[0;32mfrom\u001b[0m \u001b[0merr\u001b[0m\u001b[0;34m\u001b[0m\u001b[0;34m\u001b[0m\u001b[0m\n\u001b[0m\u001b[1;32m   3813\u001b[0m         \u001b[0;32mexcept\u001b[0m \u001b[0mTypeError\u001b[0m\u001b[0;34m:\u001b[0m\u001b[0;34m\u001b[0m\u001b[0;34m\u001b[0m\u001b[0m\n\u001b[1;32m   3814\u001b[0m             \u001b[0;31m# If we have a listlike key, _check_indexing_error will raise\u001b[0m\u001b[0;34m\u001b[0m\u001b[0;34m\u001b[0m\u001b[0m\n",
            "\u001b[0;31mKeyError\u001b[0m: 'item_id'"
          ]
        }
      ]
    },
    {
      "source": [
        "# prompt: write python code to convert /content/sample_data/inventory.csv to rfd and save to /content/sample_data/inventory.rdf\n",
        "\n",
        "!pip install pandas rdflib\n",
        "import pandas as pd\n",
        "from rdflib import Graph, Literal, URIRef\n",
        "from rdflib.namespace import RDF, RDFS, XSD\n",
        "\n",
        "# Load the CSV data\n",
        "df = pd.read_csv('/content/sample_data/inventory.csv')\n",
        "\n",
        "# Create a new RDF graph\n",
        "g = Graph()\n",
        "\n",
        "# Define a base URI for the resources\n",
        "base_uri = URIRef(\"http://example.com/inventory/\")\n",
        "\n",
        "# Define namespaces\n",
        "inv = URIRef(\"http://example.com/ontology/inventory#\")\n",
        "g.bind(\"inv\", inv)\n",
        "\n",
        "# Iterate over the DataFrame rows\n",
        "for index, row in df.iterrows():\n",
        "    # Create a URI for the item\n",
        "    # Assuming the correct column name is 'ItemID' based on the error.\n",
        "    # Replace 'ItemID' with the actual column name if it's different.\n",
        "    item_uri = base_uri + str(row['ItemID'])\n",
        "\n",
        "    # Add triples to the graph\n",
        "    g.add((item_uri, RDF.type, inv.InventoryItem))\n",
        "    g.add((item_uri, inv.itemName, Literal(row['item_name'], datatype=XSD.string)))\n",
        "    g.add((item_uri, inv.itemQuantity, Literal(row['quantity'], datatype=XSD.integer)))\n",
        "    g.add((item_uri, inv.itemPrice, Literal(row['price'], datatype=XSD.decimal)))\n",
        "\n",
        "# Serialize the graph to RDF/XML format and save to a file\n",
        "g.serialize(destination='/content/sample_data/inventory.rdf', format='xml')\n",
        "\n",
        "print(\"CSV converted to RDF and saved to /content/sample_data/inventory.rdf\")"
      ],
      "cell_type": "code",
      "metadata": {
        "colab": {
          "base_uri": "https://localhost:8080/",
          "height": 799
        },
        "id": "IwsQy5z8JkI1",
        "outputId": "5276f17d-e651-4941-ec4e-531eec68150b"
      },
      "execution_count": null,
      "outputs": [
        {
          "output_type": "stream",
          "name": "stdout",
          "text": [
            "Requirement already satisfied: pandas in /usr/local/lib/python3.11/dist-packages (2.2.2)\n",
            "Requirement already satisfied: rdflib in /usr/local/lib/python3.11/dist-packages (7.1.4)\n",
            "Requirement already satisfied: numpy>=1.23.2 in /usr/local/lib/python3.11/dist-packages (from pandas) (2.0.2)\n",
            "Requirement already satisfied: python-dateutil>=2.8.2 in /usr/local/lib/python3.11/dist-packages (from pandas) (2.9.0.post0)\n",
            "Requirement already satisfied: pytz>=2020.1 in /usr/local/lib/python3.11/dist-packages (from pandas) (2025.2)\n",
            "Requirement already satisfied: tzdata>=2022.7 in /usr/local/lib/python3.11/dist-packages (from pandas) (2025.2)\n",
            "Requirement already satisfied: pyparsing<4,>=2.1.0 in /usr/local/lib/python3.11/dist-packages (from rdflib) (3.2.3)\n",
            "Requirement already satisfied: six>=1.5 in /usr/local/lib/python3.11/dist-packages (from python-dateutil>=2.8.2->pandas) (1.17.0)\n"
          ]
        },
        {
          "output_type": "error",
          "ename": "KeyError",
          "evalue": "'ItemID'",
          "traceback": [
            "\u001b[0;31m---------------------------------------------------------------------------\u001b[0m",
            "\u001b[0;31mKeyError\u001b[0m                                  Traceback (most recent call last)",
            "\u001b[0;32m/usr/local/lib/python3.11/dist-packages/pandas/core/indexes/base.py\u001b[0m in \u001b[0;36mget_loc\u001b[0;34m(self, key)\u001b[0m\n\u001b[1;32m   3804\u001b[0m         \u001b[0;32mtry\u001b[0m\u001b[0;34m:\u001b[0m\u001b[0;34m\u001b[0m\u001b[0;34m\u001b[0m\u001b[0m\n\u001b[0;32m-> 3805\u001b[0;31m             \u001b[0;32mreturn\u001b[0m \u001b[0mself\u001b[0m\u001b[0;34m.\u001b[0m\u001b[0m_engine\u001b[0m\u001b[0;34m.\u001b[0m\u001b[0mget_loc\u001b[0m\u001b[0;34m(\u001b[0m\u001b[0mcasted_key\u001b[0m\u001b[0;34m)\u001b[0m\u001b[0;34m\u001b[0m\u001b[0;34m\u001b[0m\u001b[0m\n\u001b[0m\u001b[1;32m   3806\u001b[0m         \u001b[0;32mexcept\u001b[0m \u001b[0mKeyError\u001b[0m \u001b[0;32mas\u001b[0m \u001b[0merr\u001b[0m\u001b[0;34m:\u001b[0m\u001b[0;34m\u001b[0m\u001b[0;34m\u001b[0m\u001b[0m\n",
            "\u001b[0;32mindex.pyx\u001b[0m in \u001b[0;36mpandas._libs.index.IndexEngine.get_loc\u001b[0;34m()\u001b[0m\n",
            "\u001b[0;32mindex.pyx\u001b[0m in \u001b[0;36mpandas._libs.index.IndexEngine.get_loc\u001b[0;34m()\u001b[0m\n",
            "\u001b[0;32mpandas/_libs/hashtable_class_helper.pxi\u001b[0m in \u001b[0;36mpandas._libs.hashtable.PyObjectHashTable.get_item\u001b[0;34m()\u001b[0m\n",
            "\u001b[0;32mpandas/_libs/hashtable_class_helper.pxi\u001b[0m in \u001b[0;36mpandas._libs.hashtable.PyObjectHashTable.get_item\u001b[0;34m()\u001b[0m\n",
            "\u001b[0;31mKeyError\u001b[0m: 'ItemID'",
            "\nThe above exception was the direct cause of the following exception:\n",
            "\u001b[0;31mKeyError\u001b[0m                                  Traceback (most recent call last)",
            "\u001b[0;32m<ipython-input-3-55ca41561178>\u001b[0m in \u001b[0;36m<cell line: 0>\u001b[0;34m()\u001b[0m\n\u001b[1;32m     24\u001b[0m     \u001b[0;31m# Assuming the correct column name is 'ItemID' based on the error.\u001b[0m\u001b[0;34m\u001b[0m\u001b[0;34m\u001b[0m\u001b[0m\n\u001b[1;32m     25\u001b[0m     \u001b[0;31m# Replace 'ItemID' with the actual column name if it's different.\u001b[0m\u001b[0;34m\u001b[0m\u001b[0;34m\u001b[0m\u001b[0m\n\u001b[0;32m---> 26\u001b[0;31m     \u001b[0mitem_uri\u001b[0m \u001b[0;34m=\u001b[0m \u001b[0mbase_uri\u001b[0m \u001b[0;34m+\u001b[0m \u001b[0mstr\u001b[0m\u001b[0;34m(\u001b[0m\u001b[0mrow\u001b[0m\u001b[0;34m[\u001b[0m\u001b[0;34m'ItemID'\u001b[0m\u001b[0;34m]\u001b[0m\u001b[0;34m)\u001b[0m\u001b[0;34m\u001b[0m\u001b[0;34m\u001b[0m\u001b[0m\n\u001b[0m\u001b[1;32m     27\u001b[0m \u001b[0;34m\u001b[0m\u001b[0m\n\u001b[1;32m     28\u001b[0m     \u001b[0;31m# Add triples to the graph\u001b[0m\u001b[0;34m\u001b[0m\u001b[0;34m\u001b[0m\u001b[0m\n",
            "\u001b[0;32m/usr/local/lib/python3.11/dist-packages/pandas/core/series.py\u001b[0m in \u001b[0;36m__getitem__\u001b[0;34m(self, key)\u001b[0m\n\u001b[1;32m   1119\u001b[0m \u001b[0;34m\u001b[0m\u001b[0m\n\u001b[1;32m   1120\u001b[0m         \u001b[0;32melif\u001b[0m \u001b[0mkey_is_scalar\u001b[0m\u001b[0;34m:\u001b[0m\u001b[0;34m\u001b[0m\u001b[0;34m\u001b[0m\u001b[0m\n\u001b[0;32m-> 1121\u001b[0;31m             \u001b[0;32mreturn\u001b[0m \u001b[0mself\u001b[0m\u001b[0;34m.\u001b[0m\u001b[0m_get_value\u001b[0m\u001b[0;34m(\u001b[0m\u001b[0mkey\u001b[0m\u001b[0;34m)\u001b[0m\u001b[0;34m\u001b[0m\u001b[0;34m\u001b[0m\u001b[0m\n\u001b[0m\u001b[1;32m   1122\u001b[0m \u001b[0;34m\u001b[0m\u001b[0m\n\u001b[1;32m   1123\u001b[0m         \u001b[0;31m# Convert generator to list before going through hashable part\u001b[0m\u001b[0;34m\u001b[0m\u001b[0;34m\u001b[0m\u001b[0m\n",
            "\u001b[0;32m/usr/local/lib/python3.11/dist-packages/pandas/core/series.py\u001b[0m in \u001b[0;36m_get_value\u001b[0;34m(self, label, takeable)\u001b[0m\n\u001b[1;32m   1235\u001b[0m \u001b[0;34m\u001b[0m\u001b[0m\n\u001b[1;32m   1236\u001b[0m         \u001b[0;31m# Similar to Index.get_value, but we do not fall back to positional\u001b[0m\u001b[0;34m\u001b[0m\u001b[0;34m\u001b[0m\u001b[0m\n\u001b[0;32m-> 1237\u001b[0;31m         \u001b[0mloc\u001b[0m \u001b[0;34m=\u001b[0m \u001b[0mself\u001b[0m\u001b[0;34m.\u001b[0m\u001b[0mindex\u001b[0m\u001b[0;34m.\u001b[0m\u001b[0mget_loc\u001b[0m\u001b[0;34m(\u001b[0m\u001b[0mlabel\u001b[0m\u001b[0;34m)\u001b[0m\u001b[0;34m\u001b[0m\u001b[0;34m\u001b[0m\u001b[0m\n\u001b[0m\u001b[1;32m   1238\u001b[0m \u001b[0;34m\u001b[0m\u001b[0m\n\u001b[1;32m   1239\u001b[0m         \u001b[0;32mif\u001b[0m \u001b[0mis_integer\u001b[0m\u001b[0;34m(\u001b[0m\u001b[0mloc\u001b[0m\u001b[0;34m)\u001b[0m\u001b[0;34m:\u001b[0m\u001b[0;34m\u001b[0m\u001b[0;34m\u001b[0m\u001b[0m\n",
            "\u001b[0;32m/usr/local/lib/python3.11/dist-packages/pandas/core/indexes/base.py\u001b[0m in \u001b[0;36mget_loc\u001b[0;34m(self, key)\u001b[0m\n\u001b[1;32m   3810\u001b[0m             ):\n\u001b[1;32m   3811\u001b[0m                 \u001b[0;32mraise\u001b[0m \u001b[0mInvalidIndexError\u001b[0m\u001b[0;34m(\u001b[0m\u001b[0mkey\u001b[0m\u001b[0;34m)\u001b[0m\u001b[0;34m\u001b[0m\u001b[0;34m\u001b[0m\u001b[0m\n\u001b[0;32m-> 3812\u001b[0;31m             \u001b[0;32mraise\u001b[0m \u001b[0mKeyError\u001b[0m\u001b[0;34m(\u001b[0m\u001b[0mkey\u001b[0m\u001b[0;34m)\u001b[0m \u001b[0;32mfrom\u001b[0m \u001b[0merr\u001b[0m\u001b[0;34m\u001b[0m\u001b[0;34m\u001b[0m\u001b[0m\n\u001b[0m\u001b[1;32m   3813\u001b[0m         \u001b[0;32mexcept\u001b[0m \u001b[0mTypeError\u001b[0m\u001b[0;34m:\u001b[0m\u001b[0;34m\u001b[0m\u001b[0;34m\u001b[0m\u001b[0m\n\u001b[1;32m   3814\u001b[0m             \u001b[0;31m# If we have a listlike key, _check_indexing_error will raise\u001b[0m\u001b[0;34m\u001b[0m\u001b[0;34m\u001b[0m\u001b[0m\n",
            "\u001b[0;31mKeyError\u001b[0m: 'ItemID'"
          ]
        }
      ]
    },
    {
      "cell_type": "code",
      "source": [
        "# prompt: write python code to convert /content/sample_data/inventory.json to rdf and save to /content/sample_data/inventory.rdf\n",
        "\n",
        "import json\n",
        "import pandas as pd\n",
        "from rdflib import Graph, Literal, URIRef\n",
        "from rdflib.namespace import RDF, RDFS, XSD\n",
        "\n",
        "# Load the JSON data\n",
        "with open('/content/sample_data/inventory.json', 'r') as f:\n",
        "    data = json.load(f)\n",
        "\n",
        "# Create a new RDF graph\n",
        "g = Graph()\n",
        "\n",
        "# Define a base URI for the resources\n",
        "base_uri = URIRef(\"http://example.com/inventory/\")\n",
        "\n",
        "# Define namespaces\n",
        "inv = URIRef(\"http://example.com/ontology/inventory#\")\n",
        "g.bind(\"inv\", inv)\n",
        "\n",
        "# Iterate over the JSON objects\n",
        "for item in data:\n",
        "    # Create a URI for the item\n",
        "    # Assuming 'item_id' is the unique identifier in your JSON\n",
        "    if 'item_id' in item:\n",
        "        item_uri = base_uri + str(item['item_id'])\n",
        "\n",
        "        # Add triples to the graph\n",
        "        g.add((item_uri, RDF.type, inv.InventoryItem))\n",
        "        if 'item_name' in item:\n",
        "            g.add((item_uri, inv.itemName, Literal(item['item_name'], datatype=XSD.string)))\n",
        "        if 'quantity' in item:\n",
        "            g.add((item_uri, inv.itemQuantity, Literal(item['quantity'], datatype=XSD.integer)))\n",
        "        if 'price' in item:\n",
        "            g.add((item_uri, inv.itemPrice, Literal(item['price'], datatype=XSD.decimal)))\n",
        "    else:\n",
        "        print(f\"Warning: Skipping item with no 'item_id': {item}\")\n",
        "\n",
        "\n",
        "# Serialize the graph to RDF/XML format and save to a file\n",
        "g.serialize(destination='/content/sample_data/inventory.rdf', format='xml')\n",
        "\n",
        "print(\"JSON converted to RDF and saved to /content/sample_data/inventory.rdf\")"
      ],
      "metadata": {
        "colab": {
          "base_uri": "https://localhost:8080/"
        },
        "id": "u0Q2GgbhJ0HU",
        "outputId": "fc72d298-c7f9-4e9b-bc82-f577b179de0f"
      },
      "execution_count": null,
      "outputs": [
        {
          "output_type": "stream",
          "name": "stdout",
          "text": [
            "Warning: Skipping item with no 'item_id': {'Organiuzation': 'CGIAR', 'Sub-organization': 'IRRI', 'Research Domain': 'High-Throughput Phenotyping / Automated Trait Annotation', 'Crop': 'Rice', 'Name': 'Pheno-I demonstration video', 'URL': 'https://youtu.be/hnq_ydC1-rw?si=SsZHY1xR0zBNoKFA\\xa0', 'Purpose': 'Video presentation of Pheno-I', 'Key Features': 'Video presentation of Pheno-I', 'Source': 'You Tube', 'Type': 'Video', 'Status': None, 'Keywords & Tags': None, 'Metadata array': None}\n",
            "Warning: Skipping item with no 'item_id': {'Organiuzation': 'CGIAR', 'Sub-organization': 'IRRI', 'Research Domain': 'High-Throughput Phenotyping / Automated Trait Annotation', 'Crop': 'Rice', 'Name': 'Pheno-I SOP on CGSpace', 'URL': 'https://cgspace.cgiar.org/items/0c08e9a9-f3ab-4f1a-a3bf-f73db59b07ac\\xa0', 'Purpose': 'Pheno-I article on CGSpace', 'Key Features': 'Published Report on CGSpace', 'Source': 'CGSpace', 'Type': 'Article', 'Status': None, 'Keywords & Tags': None, 'Metadata array': None}\n",
            "Warning: Skipping item with no 'item_id': {'Organiuzation': 'CGIAR', 'Sub-organization': 'IRRI', 'Research Domain': 'High-Throughput Phenotyping / Automated Trait Annotation', 'Crop': 'Rice', 'Name': 'Pheno-I SOP on CGSpace', 'URL': 'https://cgspace.cgiar.org/items/ba751b31-3c3a-47df-85ec-af9a4ba580f7 ', 'Purpose': 'Pheno-I article on CGSpace', 'Key Features': 'Published Report on CGSpace', 'Source': 'CGSpace', 'Type': 'Article', 'Status': None, 'Keywords & Tags': None, 'Metadata array': None}\n",
            "Warning: Skipping item with no 'item_id': {'Organiuzation': 'CGIAR', 'Sub-organization': 'IRRI', 'Research Domain': 'High-Throughput Phenotyping / Automated Trait Annotation', 'Crop': 'Rice', 'Name': 'Pheno-I article on ResearchGate', 'URL': 'https://www.researchsquare.com/article/rs-14707/v1,\\xa0', 'Purpose': 'ResearchGate', 'Key Features': 'Peer reviewed paper on   Research Gate', 'Source': 'ResearchGate', 'Type': 'Article', 'Status': None, 'Keywords & Tags': None, 'Metadata array': None}\n",
            "Warning: Skipping item with no 'item_id': {'Organiuzation': 'CGIAR', 'Sub-organization': 'IRRI', 'Research Domain': 'High-Throughput Phenotyping / Automated Trait Annotation', 'Crop': 'Rice', 'Name': 'Pheno-I article on ResearchGate', 'URL': 'https://www.sciencedirect.com/science/article/pii/S0924271620302410.', 'Purpose': 'ResearchGate', 'Key Features': 'Peer reviewed paper on   Research Gate', 'Source': None, 'Type': 'Article', 'Status': None, 'Keywords & Tags': None, 'Metadata array': None}\n",
            "Warning: Skipping item with no 'item_id': {'Organiuzation': 'CGIAR', 'Sub-organization': 'IRRI', 'Research Domain': 'High-Throughput Phenotyping / Automated Trait Annotation', 'Crop': 'Rice', 'Name': 'Pheno-I article google scholar query 1', 'URL': 'https://scholar.google.com/scholar?start=0&q=%22ciat+pheno-i%22&hl=en&as_sdt=0,14', 'Purpose': 'Goole Scholar Scholar', 'Key Features': 'Google Scholar query using key words CIAT and Pheno-I', 'Source': 'Goole Scholar Scholar', 'Type': 'Search Results', 'Status': None, 'Keywords & Tags': None, 'Metadata array': None}\n",
            "Warning: Skipping item with no 'item_id': {'Organiuzation': 'CGIAR', 'Sub-organization': 'IRRI', 'Research Domain': 'High-Throughput Phenotyping / Automated Trait Annotation', 'Crop': 'Rice', 'Name': 'Pheno-I article google scholar query 2', 'URL': 'https://scholar.google.com/scholar?hl=en&as_sdt=0%2C14&q=%22pheno-i+ciat%22&btnG=', 'Purpose': 'Google Scholar Search', 'Key Features': 'Google Scholar query using key words CIAT and Pheno-I', 'Source': 'Google Scholar Search', 'Type': 'Search Results', 'Status': None, 'Keywords & Tags': None, 'Metadata array': None}\n",
            "Warning: Skipping item with no 'item_id': {'Organiuzation': 'CGIAR', 'Sub-organization': 'IRRI', 'Research Domain': 'High-Throughput Phenotyping / Automated Trait Annotation', 'Crop': 'Rice', 'Name': 'Pheno-I DOI', 'URL': 'https://doi.org/10.1186/s13007-020-00625-1', 'Purpose': 'DOI link to the research article', 'Key Features': 'Digital object identifier', 'Source': 'Link', 'Type': 'DOI', 'Status': None, 'Keywords & Tags': None, 'Metadata array': None}\n",
            "Warning: Skipping item with no 'item_id': {'Organiuzation': 'CGIAR', 'Sub-organization': 'IRRI', 'Research Domain': 'High-Throughput Phenotyping / Automated Trait Annotation', 'Crop': 'Rice', 'Name': 'Pheno-I License 1', 'URL': 'http://creativecommons.org/licenses/by/4.0/', 'Purpose': 'Creative Commons Attribution 4.0 License information', 'Key Features': 'Creative Commons license', 'Source': 'Link', 'Type': 'License', 'Status': None, 'Keywords & Tags': None, 'Metadata array': None}\n",
            "Warning: Skipping item with no 'item_id': {'Organiuzation': 'CGIAR', 'Sub-organization': 'IRRI', 'Research Domain': 'High-Throughput Phenotyping / Automated Trait Annotation', 'Crop': 'Rice', 'Name': 'Pheno-I License 2', 'URL': 'http://creativecommons.org/publicdomain/zero/1.0/', 'Purpose': 'Creative Commons Public Domain Dedication information', 'Key Features': 'Creative Commons license', 'Source': 'Link', 'Type': 'License', 'Status': None, 'Keywords & Tags': None, 'Metadata array': None}\n",
            "Warning: Skipping item with no 'item_id': {'Organiuzation': 'CGIAR', 'Sub-organization': 'IRRI', 'Research Domain': 'High-Throughput Phenotyping / Automated Trait Annotation', 'Crop': 'Rice', 'Name': 'Phenomics web site', 'URL': 'https://phenomics.ciat.cgiar.org/', 'Purpose': 'CIAT Phenomics platform website', 'Key Features': 'Phenomics platform website', 'Source': 'Link', 'Type': 'Web site', 'Status': None, 'Keywords & Tags': None, 'Metadata array': None}\n",
            "Warning: Skipping item with no 'item_id': {'Organiuzation': 'CGIAR', 'Sub-organization': 'IRRI', 'Research Domain': 'High-Throughput Phenotyping / Automated Trait Annotation', 'Crop': 'Rice', 'Name': 'Pheno-I web application', 'URL': 'http://pheno-i.ciat.cgiar.org/', 'Purpose': 'CIAT Pheno-i web-based application', 'Key Features': 'Phenomics platform wenb app', 'Source': 'Link', 'Type': 'Web Application', 'Status': 'broken', 'Keywords & Tags': None, 'Metadata array': None}\n",
            "Warning: Skipping item with no 'item_id': {'Organiuzation': 'CGIAR', 'Sub-organization': 'IRRI', 'Research Domain': 'High-Throughput Phenotyping / Automated Trait Annotation', 'Crop': 'Rice', 'Name': 'Agisoft Metashape Pro software website', 'URL': 'http://www.agisoft.com ', 'Purpose': 'Agisoft Metashape Pro Python Library', 'Key Features': 'Agisogy Metashape software website', 'Source': 'Link', 'Type': 'Code Library', 'Status': None, 'Keywords & Tags': None, 'Metadata array': None}\n",
            "Warning: Skipping item with no 'item_id': {'Organiuzation': 'CGIAR', 'Sub-organization': 'IRRI', 'Research Domain': 'High-Throughput Phenotyping / Automated Trait Annotation', 'Crop': 'Rice', 'Name': 'SciPy Python package website', 'URL': 'https://www.scipy.org/', 'Purpose': 'SciPy Python package ', 'Key Features': 'SciPy package website', 'Source': 'Link', 'Type': 'Code Library', 'Status': None, 'Keywords & Tags': None, 'Metadata array': None}\n",
            "Warning: Skipping item with no 'item_id': {'Organiuzation': 'CGIAR', 'Sub-organization': 'IRRI', 'Research Domain': 'High-Throughput Phenotyping / Automated Trait Annotation', 'Crop': 'Rice', 'Name': 'Agisoft processing workflow reference', 'URL': 'https://bit.ly/32swtn2', 'Purpose': 'Agisoft processing workflow reference library', 'Key Features': 'Agisoft workflow', 'Source': 'Link', 'Type': 'Workflow reference', 'Status': None, 'Keywords & Tags': None, 'Metadata array': None}\n",
            "Warning: Skipping item with no 'item_id': {'Organiuzation': 'CGIAR', 'Sub-organization': 'IRRI', 'Research Domain': 'High-Throughput Phenotyping / Automated Trait Annotation', 'Crop': 'Rice', 'Name': 'OpenStreetMap homepage', 'URL': 'https://www.openstreetmap.org/', 'Purpose': 'OpenStreetMap visualization library', 'Key Features': 'Open Street Map website', 'Source': 'Link', 'Type': 'Code Library', 'Status': None, 'Keywords & Tags': None, 'Metadata array': None}\n",
            "Warning: Skipping item with no 'item_id': {'Organiuzation': 'CGIAR', 'Sub-organization': 'IRRI', 'Research Domain': 'High-Throughput Phenotyping / Automated Trait Annotation', 'Crop': 'Rice', 'Name': 'LeafletJS API for map visualization', 'URL': 'https://leafletjs.com/', 'Purpose': 'LeafletJS API for map visualization library', 'Key Features': 'API for visualization', 'Source': 'Link', 'Type': 'API', 'Status': None, 'Keywords & Tags': None, 'Metadata array': None}\n",
            "Warning: Skipping item with no 'item_id': {'Organiuzation': 'CGIAR', 'Sub-organization': 'IRRI', 'Research Domain': 'High-Throughput Phenotyping / Automated Trait Annotation', 'Crop': 'Rice', 'Name': 'Material-UI for user interface components', 'URL': 'https://material-ui.com/', 'Purpose': 'Material-UI for user interface components library', 'Key Features': 'UI components', 'Source': 'Link', 'Type': 'UI components', 'Status': None, 'Keywords & Tags': None, 'Metadata array': None}\n",
            "Warning: Skipping item with no 'item_id': {'Organiuzation': 'CGIAR', 'Sub-organization': 'IRRI', 'Research Domain': 'High-Throughput Phenotyping / Automated Trait Annotation', 'Crop': 'Rice', 'Name': 'Field experimental specs for Trial 1', 'URL': None, 'Purpose': None, 'Key Features': None, 'Source': 'Field specs', 'Type': None, 'Status': None, 'Keywords & Tags': None, 'Metadata array': None}\n",
            "Warning: Skipping item with no 'item_id': {'Organiuzation': 'CGIAR', 'Sub-organization': 'IRRI', 'Research Domain': 'High-Throughput Phenotyping / Automated Trait Annotation', 'Crop': 'Rice', 'Name': 'Field experimental specs for Trial 2', 'URL': None, 'Purpose': None, 'Key Features': None, 'Source': 'Field specs', 'Type': None, 'Status': None, 'Keywords & Tags': None, 'Metadata array': None}\n",
            "Warning: Skipping item with no 'item_id': {'Organiuzation': 'CGIAR', 'Sub-organization': 'IRRI', 'Research Domain': 'High-Throughput Phenotyping / Automated Trait Annotation', 'Crop': 'Rice', 'Name': 'Unmanned aerial vehicle (UAE)', 'URL': None, 'Purpose': 'areal imaging', 'Key Features': 'DJI S1000s', 'Source': 'Equipment', 'Type': None, 'Status': None, 'Keywords & Tags': None, 'Metadata array': None}\n",
            "Warning: Skipping item with no 'item_id': {'Organiuzation': 'CGIAR', 'Sub-organization': 'IRRI', 'Research Domain': 'High-Throughput Phenotyping / Automated Trait Annotation', 'Crop': 'Rice', 'Name': 'Multispexctral camera', 'URL': None, 'Purpose': 'Multispectal imaging', 'Key Features': 'Micasense RedEdge', 'Source': 'Equipment', 'Type': None, 'Status': None, 'Keywords & Tags': None, 'Metadata array': None}\n",
            "Warning: Skipping item with no 'item_id': {'Organiuzation': 'CGIAR', 'Sub-organization': 'IRRI', 'Research Domain': 'High-Throughput Phenotyping / Automated Trait Annotation', 'Crop': 'Rice', 'Name': 'Multispexctral camera', 'URL': None, 'Purpose': 'Multispectal imaging', 'Key Features': 'Arduino nano', 'Source': 'Equipment', 'Type': None, 'Status': None, 'Keywords & Tags': None, 'Metadata array': None}\n",
            "Warning: Skipping item with no 'item_id': {'Organiuzation': 'CGIAR', 'Sub-organization': 'IRRI', 'Research Domain': 'High-Throughput Phenotyping / Automated Trait Annotation', 'Crop': 'Rice', 'Name': 'Ground Control Point Sensors', 'URL': None, 'Purpose': 'Ground Control point tagging', 'Key Features': 'Ground Control Point Sensors', 'Source': 'Equipment', 'Type': None, 'Status': None, 'Keywords & Tags': None, 'Metadata array': None}\n",
            "Warning: Skipping item with no 'item_id': {'Organiuzation': 'CGIAR', 'Sub-organization': 'IRRI', 'Research Domain': 'High-Throughput Phenotyping / Automated Trait Annotation', 'Crop': 'Rice', 'Name': 'RTK-GPS system', 'URL': None, 'Purpose': 'Rover & Base', 'Key Features': 'RTK-GPS system', 'Source': 'Equipment', 'Type': None, 'Status': None, 'Keywords & Tags': None, 'Metadata array': None}\n",
            "Warning: Skipping item with no 'item_id': {'Organiuzation': 'CGIAR', 'Sub-organization': 'IRRI', 'Research Domain': 'High-Throughput Phenotyping / Automated Trait Annotation', 'Crop': 'Rice', 'Name': 'Micasense reflectance panel', 'URL': None, 'Purpose': 'Reflectance panel', 'Key Features': 'Micasense reflectance panel', 'Source': 'Equipment', 'Type': None, 'Status': None, 'Keywords & Tags': None, 'Metadata array': None}\n",
            "Warning: Skipping item with no 'item_id': {'Organiuzation': 'CGIAR', 'Sub-organization': 'IRRI', 'Research Domain': 'High-Throughput Phenotyping / Automated Trait Annotation', 'Crop': 'Rice', 'Name': 'DataSet.py', 'URL': None, 'Purpose': 'Defines and manages experiment data', 'Key Features': 'Supports structured experiment descriptions', 'Source': 'Python', 'Type': 'Code', 'Status': None, 'Keywords & Tags': None, 'Metadata array': None}\n",
            "Warning: Skipping item with no 'item_id': {'Organiuzation': 'CGIAR', 'Sub-organization': 'IRRI', 'Research Domain': 'High-Throughput Phenotyping / Automated Trait Annotation', 'Crop': 'Rice', 'Name': 'Image.py', 'URL': None, 'Purpose': 'Handles raw image dataset', 'Key Features': 'Manages image acquisition and preprocessing', 'Source': 'Python', 'Type': 'Code', 'Status': None, 'Keywords & Tags': None, 'Metadata array': None}\n",
            "Warning: Skipping item with no 'item_id': {'Organiuzation': 'CGIAR', 'Sub-organization': 'IRRI', 'Research Domain': 'High-Throughput Phenotyping / Automated Trait Annotation', 'Crop': 'Rice', 'Name': 'Mosaic.py', 'URL': None, 'Purpose': 'Generates orthomosaics', 'Key Features': 'Creates georeferenced mosaics from UAV imagery', 'Source': 'Python', 'Type': 'Code', 'Status': None, 'Keywords & Tags': None, 'Metadata array': None}\n",
            "Warning: Skipping item with no 'item_id': {'Organiuzation': 'CGIAR', 'Sub-organization': 'IRRI', 'Research Domain': 'High-Throughput Phenotyping / Automated Trait Annotation', 'Crop': 'Rice', 'Name': 'TimeSeries.py', 'URL': None, 'Purpose': 'Processes time-series data', 'Key Features': 'Analyzes vegetation indices over multiple time points', 'Source': 'Python', 'Type': 'Code', 'Status': None, 'Keywords & Tags': None, 'Metadata array': None}\n",
            "Warning: Skipping item with no 'item_id': {'Organiuzation': 'CGIAR', 'Sub-organization': 'IRRI', 'Research Domain': 'High-Throughput Phenotyping / Automated Trait Annotation', 'Crop': 'Rice', 'Name': 'Shape.py', 'URL': None, 'Purpose': 'Manages shapefile manipulation', 'Key Features': 'Supports spatial data analysis and visualization', 'Source': 'Python', 'Type': 'Code', 'Status': None, 'Keywords & Tags': None, 'Metadata array': None}\n",
            "Warning: Skipping item with no 'item_id': {'Organiuzation': 'CGIAR', 'Sub-organization': 'IRRI', 'Research Domain': 'High-Throughput Phenotyping / Automated Trait Annotation', 'Crop': 'Rice', 'Name': 'Misc.py', 'URL': None, 'Purpose': 'Contains core data structures', 'Key Features': 'Provides essential utilities for various processing tasks', 'Source': 'Python', 'Type': 'Code', 'Status': None, 'Keywords & Tags': None, 'Metadata array': None}\n",
            "Warning: Skipping item with no 'item_id': {'Organiuzation': 'CGIAR', 'Sub-organization': 'IRRI', 'Research Domain': 'High-Throughput Phenotyping / Automated Trait Annotation', 'Crop': 'Rice', 'Name': 'Calibration.py', 'URL': None, 'Purpose': 'Performs radiometric calibration', 'Key Features': 'Implements empirical line calibration (ELC) method', 'Source': 'Python', 'Type': 'Code', 'Status': None, 'Keywords & Tags': None, 'Metadata array': None}\n",
            "Warning: Skipping item with no 'item_id': {'Organiuzation': 'CGIAR', 'Sub-organization': 'IRRI', 'Research Domain': 'High-Throughput Phenotyping / Automated Trait Annotation', 'Crop': 'Rice', 'Name': 'FeatureExtractor.py', 'URL': None, 'Purpose': 'Extracts image features', 'Key Features': 'Computes vegetation indices and statistical parameters', 'Source': 'Python', 'Type': 'Code', 'Status': None, 'Keywords & Tags': None, 'Metadata array': None}\n",
            "Warning: Skipping item with no 'item_id': {'Organiuzation': 'CGIAR', 'Sub-organization': 'IRRI', 'Research Domain': 'High-Throughput Phenotyping / Automated Trait Annotation', 'Crop': 'Rice', 'Name': 'MachineLearning.py', 'URL': None, 'Purpose': 'Implements machine learning models', 'Key Features': 'Supports classification and regression tasks', 'Source': 'Python', 'Type': 'Code', 'Status': None, 'Keywords & Tags': None, 'Metadata array': None}\n",
            "Warning: Skipping item with no 'item_id': {'Organiuzation': 'CGIAR', 'Sub-organization': 'IRRI', 'Research Domain': 'High-Throughput Phenotyping / Automated Trait Annotation', 'Crop': 'Rice', 'Name': 'Statistical.py', 'URL': None, 'Purpose': 'Provides statistical analysis tools', 'Key Features': 'Performs correlation analysis and data transformation', 'Source': 'Python', 'Type': 'Code', 'Status': None, 'Keywords & Tags': None, 'Metadata array': None}\n",
            "Warning: Skipping item with no 'item_id': {'Organiuzation': 'CGIAR', 'Sub-organization': 'IRRI', 'Research Domain': 'High-Throughput Phenotyping / Automated Trait Annotation', 'Crop': 'Rice', 'Name': 'Radiometric Calibration', 'URL': None, 'Purpose': 'Adjusts image reflectance values for accuracy', 'Key Features': 'Uses Empirical Line Calibration (ELC) method', 'Source': 'Workflow component', 'Type': 'Module', 'Status': None, 'Keywords & Tags': None, 'Metadata array': None}\n",
            "Warning: Skipping item with no 'item_id': {'Organiuzation': 'CGIAR', 'Sub-organization': 'IRRI', 'Research Domain': 'High-Throughput Phenotyping / Automated Trait Annotation', 'Crop': 'Rice', 'Name': 'Crop Masking', 'URL': None, 'Purpose': 'Segments cassava canopy from background', 'Key Features': 'Applies Green Minus Red (GMR) processing', 'Source': 'Workflow component', 'Type': 'Module', 'Status': None, 'Keywords & Tags': None, 'Metadata array': None}\n",
            "Warning: Skipping item with no 'item_id': {'Organiuzation': 'CGIAR', 'Sub-organization': 'IRRI', 'Research Domain': 'High-Throughput Phenotyping / Automated Trait Annotation', 'Crop': 'Rice', 'Name': 'Vegetation Indices Calculation', 'URL': None, 'Purpose': 'Computes key vegetation indices (VIs)', 'Key Features': 'Supports multiple spectral bands (NIR, RedEdge, etc.)', 'Source': 'Workflow component', 'Type': 'Module', 'Status': None, 'Keywords & Tags': None, 'Metadata array': '[\\n  {\"abbr\": \"NDVI\", \"full_name\": \"Normalized Difference Vegetation Index\"},\\n  {\"abbr\": \"GNDVI\", \"full_name\": \"Green Normalized Difference Vegetation Index\"},\\n  {\"abbr\": \"MSAVI\", \"full_name\": \"Modified Soil-Adjusted Vegetation Index\"},\\n  {\"abbr\": \"NDRE\", \"full_name\": \"Normalized Difference Red Edge\"},\\n  {\"abbr\": \"EVI\", \"full_name\": \"Enhanced Vegetation Index\"},\\n  {\"abbr\": \"SAVI\", \"full_name\": \"Soil-Adjusted Vegetation Index\"},\\n  {\"abbr\": \"TCI\", \"full_name\": \"True Color Image\"},\\n  {\"abbr\": \"CCCI\", \"full_name\": \"Canopy Chlorophyll Content Index\"},\\n  {\"abbr\": \"NDWI\", \"full_name\": \"Normalized Difference Water Index\"}\\n]'}\n",
            "Warning: Skipping item with no 'item_id': {'Organiuzation': 'CGIAR', 'Sub-organization': 'IRRI', 'Research Domain': 'High-Throughput Phenotyping / Automated Trait Annotation', 'Crop': 'Rice', 'Name': 'Plot-Level Data Extraction', 'URL': None, 'Purpose': 'Extracts pixel values for statistical analysis', 'Key Features': 'Generates CSV reports with mean, variance, and other metrics', 'Source': 'Workflow component', 'Type': 'Module', 'Status': None, 'Keywords & Tags': None, 'Metadata array': None}\n",
            "Warning: Skipping item with no 'item_id': {'Organiuzation': 'CGIAR', 'Sub-organization': 'IRRI', 'Research Domain': 'High-Throughput Phenotyping / Automated Trait Annotation', 'Crop': 'Rice', 'Name': 'Machine Learning Model Development', 'URL': None, 'Purpose': 'Builds predictive models for phenotyping', 'Key Features': 'Implements kNN, SVM, RF, and ANN algorithms', 'Source': 'Workflow component', 'Type': 'Module', 'Status': None, 'Keywords & Tags': None, 'Metadata array': None}\n",
            "Warning: Skipping item with no 'item_id': {'Organiuzation': 'CGIAR', 'Sub-organization': 'IRRI', 'Research Domain': 'High-Throughput Phenotyping / Automated Trait Annotation', 'Crop': 'Rice', 'Name': 'Data Visualization', 'URL': None, 'Purpose': 'Displays processed data in a web-based interface', 'Key Features': 'Uses LeafletJS for geospatial visualization', 'Source': 'Workflow component', 'Type': 'Module', 'Status': None, 'Keywords & Tags': None, 'Metadata array': None}\n",
            "Warning: Skipping item with no 'item_id': {'Organiuzation': 'CGIAR', 'Sub-organization': 'IRRI', 'Research Domain': 'High-Throughput Phenotyping / Automated Trait Annotation', 'Crop': 'Rice', 'Name': 'Automated Orthomosaic Generation', 'URL': None, 'Purpose': 'Creates georeferenced mosaics from UAV imagery', 'Key Features': 'Reduces processing time by ~30% using Python API', 'Source': 'Workflow component', 'Type': 'Module', 'Status': None, 'Keywords & Tags': None, 'Metadata array': None}\n",
            "Warning: Skipping item with no 'item_id': {'Organiuzation': 'CGIAR', 'Sub-organization': 'IRRI', 'Research Domain': 'High-Throughput Phenotyping / Automated Trait Annotation', 'Crop': 'Rice', 'Name': 'Trial One Dataset', 'URL': None, 'Purpose': 'Validate Pheno-i framework using cassava field trials', 'Key Features': 'Includes multispectral UAV imagery, ground-truth measurements, and phenotypic traits', 'Source': 'Dataset', 'Type': 'Dataset', 'Status': None, 'Keywords & Tags': None, 'Metadata array': None}\n",
            "Warning: Skipping item with no 'item_id': {'Organiuzation': 'CGIAR', 'Sub-organization': 'IRRI', 'Research Domain': 'High-Throughput Phenotyping / Automated Trait Annotation', 'Crop': 'Rice', 'Name': 'Trial Two Dataset', 'URL': None, 'Purpose': 'Second season validation of Pheno-i framework', 'Key Features': 'Contains additional cassava genotypes, expanded phenotypic measurements, and UAV imagery', 'Source': 'Dataset', 'Type': 'Dataset', 'Status': None, 'Keywords & Tags': None, 'Metadata array': None}\n",
            "Warning: Skipping item with no 'item_id': {'Organiuzation': 'CGIAR', 'Sub-organization': 'IRRI', 'Research Domain': 'High-Throughput Phenotyping / Automated Trait Annotation', 'Crop': 'Rice', 'Name': 'Vegetation Indices Dataset', 'URL': None, 'Purpose': 'Compute key vegetation indices (VIs) for phenotyping', 'Key Features': 'Includes NDVI, GNDVI, NDRE, and other spectral indices', 'Source': 'Dataset', 'Type': 'Dataset', 'Status': None, 'Keywords & Tags': None, 'Metadata array': None}\n",
            "Warning: Skipping item with no 'item_id': {'Organiuzation': 'CGIAR', 'Sub-organization': 'IRRI', 'Research Domain': 'High-Throughput Phenotyping / Automated Trait Annotation', 'Crop': 'Rice', 'Name': 'Canopy Metrics Dataset', 'URL': None, 'Purpose': 'Extract canopy height, cover, and volume', 'Key Features': 'Uses UAV-derived digital elevation models (DEM) and orthomosaics', 'Source': 'Dataset', 'Type': 'Dataset', 'Status': None, 'Keywords & Tags': None, 'Metadata array': None}\n",
            "Warning: Skipping item with no 'item_id': {'Organiuzation': 'CGIAR', 'Sub-organization': 'IRRI', 'Research Domain': 'High-Throughput Phenotyping / Automated Trait Annotation', 'Crop': 'Rice', 'Name': 'Machine Learning Training Dataset', 'URL': None, 'Purpose': 'Develop predictive models for cassava root yield', 'Key Features': 'Contains plot-level extracted features, statistical analysis, and ML-ready data', 'Source': 'Dataset', 'Type': 'Dataset', 'Status': None, 'Keywords & Tags': None, 'Metadata array': None}\n",
            "Warning: Skipping item with no 'item_id': {'Organiuzation': 'CGIAR', 'Sub-organization': 'IRRI', 'Research Domain': 'High-Throughput Phenotyping / Automated Trait Annotation', 'Crop': 'Rice', 'Name': 'Ground-Truth Measurements Dataset', 'URL': None, 'Purpose': 'Validate UAV-based phenotyping accuracy', 'Key Features': 'Includes manual measurements of canopy height, biomass, and leaf area index', 'Source': 'Dataset', 'Type': 'Dataset', 'Status': None, 'Keywords & Tags': None, 'Metadata array': None}\n",
            "Warning: Skipping item with no 'item_id': {'Organiuzation': 'CGIAR', 'Sub-organization': 'IRRI', 'Research Domain': 'High-Throughput Phenotyping / Automated Trait Annotation', 'Crop': 'Rice', 'Name': 'CIAT Pheno-I workflow', 'URL': None, 'Purpose': ' Applying image processing for plot level data generation and use it on identification, classification, quantification \\nand prediction', 'Key Features': None, 'Source': 'Workflow', 'Type': 'Workflow', 'Status': None, 'Keywords & Tags': None, 'Metadata array': None}\n",
            "Warning: Skipping item with no 'item_id': {'Organiuzation': 'CGIAR', 'Sub-organization': 'IRRI', 'Research Domain': 'High-Throughput Phenotyping / Automated Trait Annotation', 'Crop': 'Rice', 'Name': 'Spectral panels', 'URL': None, 'Purpose': 'reflectance measurements', 'Key Features': 'reflectance measurements', 'Source': 'Workflow component', 'Type': 'Workflow component', 'Status': None, 'Keywords & Tags': None, 'Metadata array': None}\n",
            "Warning: Skipping item with no 'item_id': {'Organiuzation': 'CGIAR', 'Sub-organization': 'IRRI', 'Research Domain': 'High-Throughput Phenotyping / Automated Trait Annotation', 'Crop': 'Rice', 'Name': 'Orthmosaic / Digital Elevation Model (DEM)', 'URL': None, 'Purpose': 'geometrically corrected DEM mapping', 'Key Features': 'geometrically corrected DEM mapping', 'Source': 'Workflow component', 'Type': 'Workflow component', 'Status': None, 'Keywords & Tags': None, 'Metadata array': None}\n",
            "Warning: Skipping item with no 'item_id': {'Organiuzation': 'CGIAR', 'Sub-organization': 'IRRI', 'Research Domain': 'High-Throughput Phenotyping / Automated Trait Annotation', 'Crop': 'Rice', 'Name': 'Plot ROI*.SHP', 'URL': None, 'Purpose': 'Plot region of interest shape file', 'Key Features': 'Plot region of interest shape file', 'Source': 'Workflow component', 'Type': 'Workflow component', 'Status': None, 'Keywords & Tags': None, 'Metadata array': None}\n",
            "Warning: Skipping item with no 'item_id': {'Organiuzation': 'CGIAR', 'Sub-organization': 'IRRI', 'Research Domain': 'High-Throughput Phenotyping / Automated Trait Annotation', 'Crop': 'Rice', 'Name': 'VI* Feature Extraction', 'URL': None, 'Purpose': 'Vegetation index feature extraction', 'Key Features': 'Vegetation index feature extraction', 'Source': 'Workflow component', 'Type': 'Workflow component', 'Status': None, 'Keywords & Tags': None, 'Metadata array': None}\n",
            "Warning: Skipping item with no 'item_id': {'Organiuzation': 'CGIAR', 'Sub-organization': 'IRRI', 'Research Domain': 'High-Throughput Phenotyping / Automated Trait Annotation', 'Crop': 'Rice', 'Name': 'Plot-level data extraction .CSV', 'URL': None, 'Purpose': 'Plot level commer seperated dataset', 'Key Features': 'Plot level commer seperated dataset', 'Source': 'Workflow component', 'Type': 'Workflow component', 'Status': None, 'Keywords & Tags': None, 'Metadata array': None}\n",
            "Warning: Skipping item with no 'item_id': {'Organiuzation': 'CGIAR', 'Sub-organization': 'IRRI', 'Research Domain': 'High-Throughput Phenotyping / Automated Trait Annotation', 'Crop': 'Rice', 'Name': 'Data modeling', 'URL': None, 'Purpose': 'extracting associations from tha data with machine learning models', 'Key Features': 'extracting associations from tha data with machine learning models', 'Source': 'Workflow component', 'Type': 'Workflow component', 'Status': None, 'Keywords & Tags': None, 'Metadata array': None}\n",
            "Warning: Skipping item with no 'item_id': {'Organiuzation': 'CGIAR', 'Sub-organization': 'IRRI', 'Research Domain': 'High-Throughput Phenotyping / Automated Trait Annotation', 'Crop': 'Rice', 'Name': 'identification, classification, quantification & prediction', 'URL': None, 'Purpose': 'results dataset', 'Key Features': 'results dataset', 'Source': 'Workflow component', 'Type': 'Workflow component', 'Status': None, 'Keywords & Tags': None, 'Metadata array': None}\n",
            "Warning: Skipping item with no 'item_id': {'Organiuzation': 'CGIAR', 'Sub-organization': 'IRRI', 'Research Domain': 'High-Throughput Phenotyping / Automated Trait Annotation', 'Crop': 'Rice', 'Name': 'Africa Rice Phenotype Repositiory', 'URL': 'https://dataverse.harvard.edu/dataverse/AfricaRice_Pheno', 'Purpose': 'Africa Rice Phenotyping Dataverse with articles on Pheno-I', 'Key Features': 'Africa Rice Phenotyping Dataverse', 'Source': 'Repository', 'Type': 'Repository', 'Status': None, 'Keywords & Tags': None, 'Metadata array': None}\n",
            "Warning: Skipping item with no 'item_id': {'Organiuzation': 'CGIAR', 'Sub-organization': 'IRRI', 'Research Domain': 'High-Throughput Phenotyping / Automated Trait Annotation', 'Crop': 'Rice', 'Name': 'CIAT  Phenotype Repositiory', 'URL': 'https://dataverse.harvard.edu/dataverse/CIAT_pheno', 'Purpose': 'CIAT Phenotyping Dataverse with articles on Pheno-I', 'Key Features': 'CIAT Phenotyping Dataverse', 'Source': 'Repository', 'Type': 'Repository', 'Status': None, 'Keywords & Tags': None, 'Metadata array': None}\n",
            "Warning: Skipping item with no 'item_id': {'Organiuzation': 'CGIAR', 'Sub-organization': 'IRRI', 'Research Domain': 'High-Throughput Phenotyping / Automated Trait Annotation', 'Crop': 'Rice', 'Name': 'IRRI Phenotype Repositiory', 'URL': 'https://dataverse.harvard.edu/dataverse/IRRI_Pheno', 'Purpose': 'IRRI Phenotying Datavserse with articles on Pheno-I', 'Key Features': 'IRRI Phenotying Datavserse', 'Source': 'Repository', 'Type': 'Repository', 'Status': None, 'Keywords & Tags': None, 'Metadata array': None}\n",
            "Warning: Skipping item with no 'item_id': {'Organiuzation': 'CGIAR', 'Sub-organization': None, 'Research Domain': 'High-Throughput Phenotyping / Automated Trait Annotation', 'Crop': 'Rice', 'Name': 'Abbrevoations', 'URL': None, 'Purpose': 'Abbreviations used', 'Key Features': None, 'Source': None, 'Type': None, 'Status': None, 'Keywords & Tags': None, 'Metadata array': '```json\\n[\\n  {\"abbr\": \"AGB\", \"full_name\": \"Above-ground biomass\"},\\n  {\"abbr\": \"ANN\", \"full_name\": \"Artificial neural networks\"},\\n  {\"abbr\": \"API\", \"full_name\": \"Application program interface\"},\\n  {\"abbr\": \"BGB\", \"full_name\": \"Below-ground biomass\"},\\n  {\"abbr\": \"BNDVI\", \"full_name\": \"Blue normalized difference vegetation index\"},\\n  {\"abbr\": \"CCuav\", \"full_name\": \"Canopy cover estimate from UAV\"},\\n  {\"abbr\": \"CH\", \"full_name\": \"Canopy height\"},\\n  {\"abbr\": \"CHuav\", \"full_name\": \"Canopy height estimate from UAV\"},\\n  {\"abbr\": \"CIAT Pheno-i\", \"full_name\": \"Automated image analytical framework\"},\\n  {\"abbr\": \"CPU\", \"full_name\": \"Central processing unit\"},\\n  {\"abbr\": \"CSV\", \"full_name\": \"Comma separated values\"},\\n  {\"abbr\": \"DEM\", \"full_name\": \"Digital elevation model\"},\\n  {\"abbr\": \"DMA\", \"full_name\": \"Dry matter accumulation\"},\\n  {\"abbr\": \"EBK\", \"full_name\": \"Early bulking\"},\\n  {\"abbr\": \"EL\", \"full_name\": \"Elongation\"},\\n  {\"abbr\": \"ELC\", \"full_name\": \"Empirical line calibration\"},\\n  {\"abbr\": \"GNDVI\", \"full_name\": \"Green normalized difference vegetation index\"},\\n  {\"abbr\": \"GCPs\", \"full_name\": \"Ground control points\"},\\n  {\"abbr\": \"GRVI\", \"full_name\": \"Green-Red vegetation index\"},\\n  {\"abbr\": \"GNSS\", \"full_name\": \"Global navigation satellite system\"},\\n  {\"abbr\": \"GUI\", \"full_name\": \"Graphical user interface\"},\\n  {\"abbr\": \"GIS\", \"full_name\": \"Geographic information system\"},\\n  {\"abbr\": \"GMR\", \"full_name\": \"Green minus red\"},\\n  {\"abbr\": \"GPR\", \"full_name\": \"Ground penetrating radar\"},\\n  {\"abbr\": \"GDAL\", \"full_name\": \"Geospatial data abstraction library\"},\\n  {\"abbr\": \"HTFP\", \"full_name\": \"High-throughput field phenotyping\"},\\n  {\"abbr\": \"KNN\", \"full_name\": \"k-Nearest neighbors\"},\\n  {\"abbr\": \"LAI\", \"full_name\": \"Leaf area index\"},\\n  {\"abbr\": \"LBK\", \"full_name\": \"Late bulking\"},\\n  {\"abbr\": \"ML\", \"full_name\": \"Machine learning\"},\\n  {\"abbr\": \"MLP\", \"full_name\": \"Multi-Layer perceptron\"},\\n  {\"abbr\": \"MS\", \"full_name\": \"Multispectral\"},\\n  {\"abbr\": \"NIR\", \"full_name\": \"Near-infrared\"},\\n  {\"abbr\": \"NDRE\", \"full_name\": \"Normalized difference Red-Edge\"},\\n  {\"abbr\": \"NDVI\", \"full_name\": \"Normalized difference vegetation index\"},\\n  {\"abbr\": \"NDREI\", \"full_name\": \"Normalized difference Vegetation Index Red-Edge\"},\\n  {\"abbr\": \"NGBDI\", \"full_name\": \"Normalized Green–Blue Difference Index\"},\\n  {\"abbr\": \"NPCI\", \"full_name\": \"Normalized pigment chlorophyll index\"},\\n  {\"abbr\": \"CVuav\", \"full_name\": \"Canopy volume estimate from UAV\"},\\n  {\"abbr\": \"RTK-GPS\", \"full_name\": \"Real-time kinematic global positioning system\"},\\n  {\"abbr\": \"RF\", \"full_name\": \"Random forest\"},\\n  {\"abbr\": \"REST\", \"full_name\": \"Representational state transfer\"},\\n  {\"abbr\": \"IMU\", \"full_name\": \"Inertial measurement unit\"},\\n  {\"abbr\": \"RGB\", \"full_name\": \"Red, green, blue\"},\\n  {\"abbr\": \"RMSE\", \"full_name\": \"Root median square error\"},\\n  {\"abbr\": \"PCA\", \"full_name\": \"Principal component analysis\"},\\n  {\"abbr\": \"PCR\", \"full_name\": \"Principal component regression\"},\\n  {\"abbr\": \"RRMSE\", \"full_name\": \"Relative root median square error\"},\\n  {\"abbr\": \"SPA\", \"full_name\": \"Single page app\"},\\n  {\"abbr\": \"SVM\", \"full_name\": \"Support Vector Machine\"},\\n  {\"abbr\": \"UAV\", \"full_name\": \"Unmanned aerial vehicles\"},\\n  {\"abbr\": \"VIs\", \"full_name\": \"Vegetation indices\"},\\n  {\"abbr\": \"VRT\", \"full_name\": \"Variable rate technology\"}\\n]'}\n",
            "Warning: Skipping item with no 'item_id': {'Organiuzation': 'CGIAR', 'Sub-organization': None, 'Research Domain': 'High-Throughput Phenotyping / Automated Trait Annotation', 'Crop': 'Rice', 'Name': 'Study keywords', 'URL': None, 'Purpose': None, 'Key Features': None, 'Source': None, 'Type': None, 'Status': None, 'Keywords & Tags': None, 'Metadata array': '[\\n  \"Machine learning\",\\n  \"High-throughput field phenotyping\",\\n  \"Image processing\",\\n  \"Cassava\",\\n  \"Above-ground biomass\",\\n  \"Below-ground biomass\",\\n  \"Vegetation indices\",\\n  \"Multispectral UAV imagery\",\\n  \"Root yield prediction\",\\n  \"Automated aerial image processing\",\\n  \"CIAT Pheno-i\",\\n  \"Canopy metrics\",\\n  \"Radiometric calibration\",\\n  \"Crop masking\",\\n  \"Feature extraction\",\\n  \"Plot-level data extraction\",\\n  \"Data modeling\",\\n  \"Regression models\",\\n  \"Random Forest\",\\n  \"Support Vector Machine\",\\n  \"k-Nearest Neighbors\",\\n  \"Artificial Neural Networks\",\\n  \"Principal Component Analysis\",\\n  \"Digital elevation model\",\\n  \"Orthomosaic generation\",\\n  \"Remote sensing\",\\n  \"Precision agriculture\",\\n  \"Geospatial data abstraction\",\\n  \"Ground control points\",\\n  \"Real-time kinematic GPS\",\\n  \"Spectral indices\"\\n]'}\n",
            "Warning: Skipping item with no 'item_id': {'Organiuzation': 'CGIAR', 'Sub-organization': 'IRRI', 'Research Domain': 'High-Throughput Phenotyping / Automated Trait Annotation', 'Crop': 'Rice', 'Name': 'Collaboration workspace - On Prem', 'URL': None, 'Purpose': 'Workspace for experimenting with trhe assets without downloaading', 'Key Features': None, 'Source': None, 'Type': None, 'Status': None, 'Keywords & Tags': None, 'Metadata array': None}\n",
            "Warning: Skipping item with no 'item_id': {'Organiuzation': None, 'Sub-organization': None, 'Research Domain': None, 'Crop': None, 'Name': 'Collaboration workspcace - On Cloud', 'URL': None, 'Purpose': 'Workspace for experimenting with trhe assets without downloaading', 'Key Features': None, 'Source': None, 'Type': None, 'Status': None, 'Keywords & Tags': None, 'Metadata array': None}\n",
            "JSON converted to RDF and saved to /content/sample_data/inventory.rdf\n"
          ]
        }
      ]
    },
    {
      "cell_type": "code",
      "source": [],
      "metadata": {
        "colab": {
          "base_uri": "https://localhost:8080/",
          "height": 582
        },
        "id": "t5KqrEC5LkRG",
        "outputId": "87ee1af9-4599-4142-e369-208fece48e74"
      },
      "execution_count": null,
      "outputs": [
        {
          "output_type": "error",
          "ename": "UnicodeDecodeError",
          "evalue": "'utf-8' codec can't decode byte 0xa0 in position 290: invalid start byte",
          "traceback": [
            "\u001b[0;31m---------------------------------------------------------------------------\u001b[0m",
            "\u001b[0;31mUnicodeDecodeError\u001b[0m                        Traceback (most recent call last)",
            "\u001b[0;32m<ipython-input-7-4474119b8c85>\u001b[0m in \u001b[0;36m<cell line: 0>\u001b[0;34m()\u001b[0m\n\u001b[1;32m      3\u001b[0m \u001b[0;32mimport\u001b[0m \u001b[0mpandas\u001b[0m \u001b[0;32mas\u001b[0m \u001b[0mpd\u001b[0m\u001b[0;34m\u001b[0m\u001b[0;34m\u001b[0m\u001b[0m\n\u001b[1;32m      4\u001b[0m \u001b[0;31m# Load the CSV data\u001b[0m\u001b[0;34m\u001b[0m\u001b[0;34m\u001b[0m\u001b[0m\n\u001b[0;32m----> 5\u001b[0;31m \u001b[0mdf_w_row_id\u001b[0m \u001b[0;34m=\u001b[0m \u001b[0mpd\u001b[0m\u001b[0;34m.\u001b[0m\u001b[0mread_csv\u001b[0m\u001b[0;34m(\u001b[0m\u001b[0;34m'/content/sample_data/inventory-w-rowid.csv'\u001b[0m\u001b[0;34m)\u001b[0m\u001b[0;34m\u001b[0m\u001b[0;34m\u001b[0m\u001b[0m\n\u001b[0m\u001b[1;32m      6\u001b[0m \u001b[0;34m\u001b[0m\u001b[0m\n\u001b[1;32m      7\u001b[0m \u001b[0;31m# Convert to JSON and save to a file\u001b[0m\u001b[0;34m\u001b[0m\u001b[0;34m\u001b[0m\u001b[0m\n",
            "\u001b[0;32m/usr/local/lib/python3.11/dist-packages/pandas/io/parsers/readers.py\u001b[0m in \u001b[0;36mread_csv\u001b[0;34m(filepath_or_buffer, sep, delimiter, header, names, index_col, usecols, dtype, engine, converters, true_values, false_values, skipinitialspace, skiprows, skipfooter, nrows, na_values, keep_default_na, na_filter, verbose, skip_blank_lines, parse_dates, infer_datetime_format, keep_date_col, date_parser, date_format, dayfirst, cache_dates, iterator, chunksize, compression, thousands, decimal, lineterminator, quotechar, quoting, doublequote, escapechar, comment, encoding, encoding_errors, dialect, on_bad_lines, delim_whitespace, low_memory, memory_map, float_precision, storage_options, dtype_backend)\u001b[0m\n\u001b[1;32m   1024\u001b[0m     \u001b[0mkwds\u001b[0m\u001b[0;34m.\u001b[0m\u001b[0mupdate\u001b[0m\u001b[0;34m(\u001b[0m\u001b[0mkwds_defaults\u001b[0m\u001b[0;34m)\u001b[0m\u001b[0;34m\u001b[0m\u001b[0;34m\u001b[0m\u001b[0m\n\u001b[1;32m   1025\u001b[0m \u001b[0;34m\u001b[0m\u001b[0m\n\u001b[0;32m-> 1026\u001b[0;31m     \u001b[0;32mreturn\u001b[0m \u001b[0m_read\u001b[0m\u001b[0;34m(\u001b[0m\u001b[0mfilepath_or_buffer\u001b[0m\u001b[0;34m,\u001b[0m \u001b[0mkwds\u001b[0m\u001b[0;34m)\u001b[0m\u001b[0;34m\u001b[0m\u001b[0;34m\u001b[0m\u001b[0m\n\u001b[0m\u001b[1;32m   1027\u001b[0m \u001b[0;34m\u001b[0m\u001b[0m\n\u001b[1;32m   1028\u001b[0m \u001b[0;34m\u001b[0m\u001b[0m\n",
            "\u001b[0;32m/usr/local/lib/python3.11/dist-packages/pandas/io/parsers/readers.py\u001b[0m in \u001b[0;36m_read\u001b[0;34m(filepath_or_buffer, kwds)\u001b[0m\n\u001b[1;32m    618\u001b[0m \u001b[0;34m\u001b[0m\u001b[0m\n\u001b[1;32m    619\u001b[0m     \u001b[0;31m# Create the parser.\u001b[0m\u001b[0;34m\u001b[0m\u001b[0;34m\u001b[0m\u001b[0m\n\u001b[0;32m--> 620\u001b[0;31m     \u001b[0mparser\u001b[0m \u001b[0;34m=\u001b[0m \u001b[0mTextFileReader\u001b[0m\u001b[0;34m(\u001b[0m\u001b[0mfilepath_or_buffer\u001b[0m\u001b[0;34m,\u001b[0m \u001b[0;34m**\u001b[0m\u001b[0mkwds\u001b[0m\u001b[0;34m)\u001b[0m\u001b[0;34m\u001b[0m\u001b[0;34m\u001b[0m\u001b[0m\n\u001b[0m\u001b[1;32m    621\u001b[0m \u001b[0;34m\u001b[0m\u001b[0m\n\u001b[1;32m    622\u001b[0m     \u001b[0;32mif\u001b[0m \u001b[0mchunksize\u001b[0m \u001b[0;32mor\u001b[0m \u001b[0miterator\u001b[0m\u001b[0;34m:\u001b[0m\u001b[0;34m\u001b[0m\u001b[0;34m\u001b[0m\u001b[0m\n",
            "\u001b[0;32m/usr/local/lib/python3.11/dist-packages/pandas/io/parsers/readers.py\u001b[0m in \u001b[0;36m__init__\u001b[0;34m(self, f, engine, **kwds)\u001b[0m\n\u001b[1;32m   1618\u001b[0m \u001b[0;34m\u001b[0m\u001b[0m\n\u001b[1;32m   1619\u001b[0m         \u001b[0mself\u001b[0m\u001b[0;34m.\u001b[0m\u001b[0mhandles\u001b[0m\u001b[0;34m:\u001b[0m \u001b[0mIOHandles\u001b[0m \u001b[0;34m|\u001b[0m \u001b[0;32mNone\u001b[0m \u001b[0;34m=\u001b[0m \u001b[0;32mNone\u001b[0m\u001b[0;34m\u001b[0m\u001b[0;34m\u001b[0m\u001b[0m\n\u001b[0;32m-> 1620\u001b[0;31m         \u001b[0mself\u001b[0m\u001b[0;34m.\u001b[0m\u001b[0m_engine\u001b[0m \u001b[0;34m=\u001b[0m \u001b[0mself\u001b[0m\u001b[0;34m.\u001b[0m\u001b[0m_make_engine\u001b[0m\u001b[0;34m(\u001b[0m\u001b[0mf\u001b[0m\u001b[0;34m,\u001b[0m \u001b[0mself\u001b[0m\u001b[0;34m.\u001b[0m\u001b[0mengine\u001b[0m\u001b[0;34m)\u001b[0m\u001b[0;34m\u001b[0m\u001b[0;34m\u001b[0m\u001b[0m\n\u001b[0m\u001b[1;32m   1621\u001b[0m \u001b[0;34m\u001b[0m\u001b[0m\n\u001b[1;32m   1622\u001b[0m     \u001b[0;32mdef\u001b[0m \u001b[0mclose\u001b[0m\u001b[0;34m(\u001b[0m\u001b[0mself\u001b[0m\u001b[0;34m)\u001b[0m \u001b[0;34m->\u001b[0m \u001b[0;32mNone\u001b[0m\u001b[0;34m:\u001b[0m\u001b[0;34m\u001b[0m\u001b[0;34m\u001b[0m\u001b[0m\n",
            "\u001b[0;32m/usr/local/lib/python3.11/dist-packages/pandas/io/parsers/readers.py\u001b[0m in \u001b[0;36m_make_engine\u001b[0;34m(self, f, engine)\u001b[0m\n\u001b[1;32m   1896\u001b[0m \u001b[0;34m\u001b[0m\u001b[0m\n\u001b[1;32m   1897\u001b[0m         \u001b[0;32mtry\u001b[0m\u001b[0;34m:\u001b[0m\u001b[0;34m\u001b[0m\u001b[0;34m\u001b[0m\u001b[0m\n\u001b[0;32m-> 1898\u001b[0;31m             \u001b[0;32mreturn\u001b[0m \u001b[0mmapping\u001b[0m\u001b[0;34m[\u001b[0m\u001b[0mengine\u001b[0m\u001b[0;34m]\u001b[0m\u001b[0;34m(\u001b[0m\u001b[0mf\u001b[0m\u001b[0;34m,\u001b[0m \u001b[0;34m**\u001b[0m\u001b[0mself\u001b[0m\u001b[0;34m.\u001b[0m\u001b[0moptions\u001b[0m\u001b[0;34m)\u001b[0m\u001b[0;34m\u001b[0m\u001b[0;34m\u001b[0m\u001b[0m\n\u001b[0m\u001b[1;32m   1899\u001b[0m         \u001b[0;32mexcept\u001b[0m \u001b[0mException\u001b[0m\u001b[0;34m:\u001b[0m\u001b[0;34m\u001b[0m\u001b[0;34m\u001b[0m\u001b[0m\n\u001b[1;32m   1900\u001b[0m             \u001b[0;32mif\u001b[0m \u001b[0mself\u001b[0m\u001b[0;34m.\u001b[0m\u001b[0mhandles\u001b[0m \u001b[0;32mis\u001b[0m \u001b[0;32mnot\u001b[0m \u001b[0;32mNone\u001b[0m\u001b[0;34m:\u001b[0m\u001b[0;34m\u001b[0m\u001b[0;34m\u001b[0m\u001b[0m\n",
            "\u001b[0;32m/usr/local/lib/python3.11/dist-packages/pandas/io/parsers/c_parser_wrapper.py\u001b[0m in \u001b[0;36m__init__\u001b[0;34m(self, src, **kwds)\u001b[0m\n\u001b[1;32m     91\u001b[0m             \u001b[0;31m# Fail here loudly instead of in cython after reading\u001b[0m\u001b[0;34m\u001b[0m\u001b[0;34m\u001b[0m\u001b[0m\n\u001b[1;32m     92\u001b[0m             \u001b[0mimport_optional_dependency\u001b[0m\u001b[0;34m(\u001b[0m\u001b[0;34m\"pyarrow\"\u001b[0m\u001b[0;34m)\u001b[0m\u001b[0;34m\u001b[0m\u001b[0;34m\u001b[0m\u001b[0m\n\u001b[0;32m---> 93\u001b[0;31m         \u001b[0mself\u001b[0m\u001b[0;34m.\u001b[0m\u001b[0m_reader\u001b[0m \u001b[0;34m=\u001b[0m \u001b[0mparsers\u001b[0m\u001b[0;34m.\u001b[0m\u001b[0mTextReader\u001b[0m\u001b[0;34m(\u001b[0m\u001b[0msrc\u001b[0m\u001b[0;34m,\u001b[0m \u001b[0;34m**\u001b[0m\u001b[0mkwds\u001b[0m\u001b[0;34m)\u001b[0m\u001b[0;34m\u001b[0m\u001b[0;34m\u001b[0m\u001b[0m\n\u001b[0m\u001b[1;32m     94\u001b[0m \u001b[0;34m\u001b[0m\u001b[0m\n\u001b[1;32m     95\u001b[0m         \u001b[0mself\u001b[0m\u001b[0;34m.\u001b[0m\u001b[0munnamed_cols\u001b[0m \u001b[0;34m=\u001b[0m \u001b[0mself\u001b[0m\u001b[0;34m.\u001b[0m\u001b[0m_reader\u001b[0m\u001b[0;34m.\u001b[0m\u001b[0munnamed_cols\u001b[0m\u001b[0;34m\u001b[0m\u001b[0;34m\u001b[0m\u001b[0m\n",
            "\u001b[0;32mparsers.pyx\u001b[0m in \u001b[0;36mpandas._libs.parsers.TextReader.__cinit__\u001b[0;34m()\u001b[0m\n",
            "\u001b[0;32mparsers.pyx\u001b[0m in \u001b[0;36mpandas._libs.parsers.TextReader._get_header\u001b[0;34m()\u001b[0m\n",
            "\u001b[0;32mparsers.pyx\u001b[0m in \u001b[0;36mpandas._libs.parsers.TextReader._tokenize_rows\u001b[0;34m()\u001b[0m\n",
            "\u001b[0;32mparsers.pyx\u001b[0m in \u001b[0;36mpandas._libs.parsers.TextReader._check_tokenize_status\u001b[0;34m()\u001b[0m\n",
            "\u001b[0;32mparsers.pyx\u001b[0m in \u001b[0;36mpandas._libs.parsers.raise_parser_error\u001b[0;34m()\u001b[0m\n",
            "\u001b[0;31mUnicodeDecodeError\u001b[0m: 'utf-8' codec can't decode byte 0xa0 in position 290: invalid start byte"
          ]
        }
      ]
    },
    {
      "cell_type": "code",
      "source": [
        "# prompt: write python code to convert /content/sample_data/inventory-w-rowid-utf-8-1.csv to json and save to /content/sample_data/inventory-w-rowid-utf-8.json\n",
        "\n",
        "import pandas as pd\n",
        "import json\n",
        "\n",
        "# Load the CSV file\n",
        "df = pd.read_csv('/content/sample_data/inventory-w-rowid-utf-8-1.csv')\n",
        "\n",
        "# Convert the DataFrame to JSON format\n",
        "json_data = df.to_json(orient='records', indent=2)\n",
        "\n",
        "# Save the JSON data to a file\n",
        "with open('/content/sample_data/inventory-w-rowid-utf-8-1.json', 'w', encoding='utf-8') as f:\n",
        "    f.write(json_data)\n",
        "\n",
        "print(\"CSV converted to JSON and saved to /content/sample_data/inventory-w-rowid-utf-8-1.json\")\n"
      ],
      "metadata": {
        "colab": {
          "base_uri": "https://localhost:8080/"
        },
        "id": "_ATbyahQNH3d",
        "outputId": "7b127e92-e8f5-4e6e-b3a4-112b52a91c75"
      },
      "execution_count": 10,
      "outputs": [
        {
          "output_type": "stream",
          "name": "stdout",
          "text": [
            "CSV converted to JSON and saved to /content/sample_data/inventory-w-rowid-utf-8-1.json\n"
          ]
        }
      ]
    },
    {
      "cell_type": "code",
      "source": [
        "# prompt: write python code to convert /content/sample_data/inventory-w-rowid-utf-8.json to rdf and save to /content/sample_data/inventory-w-rowid-utf-8.rdf\n",
        "\n",
        "# Load the JSON data\n",
        "with open('/content/sample_data/inventory-w-rowid-utf-8-1.json', 'r', encoding='utf-8') as f:\n",
        "    data = json.load(f)\n",
        "\n",
        "# Create a new RDF graph\n",
        "g = Graph()\n",
        "\n",
        "# Define a base URI for the resources\n",
        "base_uri = URIRef(\"http://example.com/inventory/\")\n",
        "\n",
        "# Define namespaces\n",
        "inv = URFL(\"http://example.com/ontology/inventory#\")\n",
        "g.bind(\"inv\", inv)\n",
        "\n",
        "# Iterate over the JSON objects\n",
        "for item in data:\n",
        "    # Create a URI for the item\n",
        "    # Assuming 'row_id' is the unique identifier in your JSON based on the filename\n",
        "    if 'row_id' in item:\n",
        "        item_uri = base_uri + str(item['row_id'])\n",
        "\n",
        "        # Add triples to the graph\n",
        "        g.add((item_uri, RDF.type, inv.InventoryItem))\n",
        "        # Add properties based on the columns in your JSON\n",
        "\n",
        "        if 'row-id' in item: g.add((item_uri, inv.RowId, Literal(item['row-id'], datatype=XSD.string)))\n",
        "        if 'organization' in item: g.add((item_uri, inv.Organization, Literal(item['organization'], datatype=XSD.string)))\n",
        "        if 'sub-organization' in item: g.add((item_uri, inv.SubOrganization, Literal(item['sub-organization'], datatype=XSD.string)))\n",
        "        if 'research -omain' in item: g.add((item_uri, inv.ResearchOmain, Literal(item['research -omain'], datatype=XSD.string)))\n",
        "        if 'crop' in item: g.add((item_uri, inv.Crop, Literal(item['crop'], datatype=XSD.string)))\n",
        "        if 'name' in item: g.add((item_uri, inv.Name, Literal(item['name'], datatype=XSD.string)))\n",
        "        if 'url' in item: g.add((item_uri, inv.Url, Literal(item['url'], datatype=XSD.string)))\n",
        "        if 'purpose' in item: g.add((item_uri, inv.Purpose, Literal(item['purpose'], datatype=XSD.string)))\n",
        "        if 'key features' in item: g.add((item_uri, inv.KeyFeatures, Literal(item['key features'], datatype=XSD.string)))\n",
        "        if 'source' in item: g.add((item_uri, inv.Source, Literal(item['source'], datatype=XSD.string)))\n",
        "        if 'type' in item: g.add((item_uri, inv.Type, Literal(item['type'], datatype=XSD.string)))\n",
        "        if 'status' in item: g.add((item_uri, inv.Status, Literal(item['status'], datatype=XSD.string)))\n",
        "        if 'keywords-tags' in item: g.add((item_uri, inv.KeywordsTags, Literal(item['keywords-tags'], datatype=XSD.string)))\n",
        "        if 'metadata-array' in item: g.add((item_uri, inv.MetadataArray, Literal(item['metadata-array'], datatype=XSD.string)))\n",
        "\n",
        "    else:\n",
        "        print(f\"Warning: Skipping item with no 'row_id': {item}\")\n",
        "\n",
        "\n",
        "# Serialize the graph to RDF/XML format and save to a file\n",
        "g.serialize(destination='/content/sample_data/inventory-w-rowid-utf-8-1.rdf', format='xml')\n",
        "\n",
        "print(\"JSON converted to RDF and saved to /content/sample_data/inventory-w-rowid-utf-8-1.rdf\")"
      ],
      "metadata": {
        "id": "VuG1RTgtNWp6",
        "colab": {
          "base_uri": "https://localhost:8080/",
          "height": 217
        },
        "outputId": "873c3ad0-3131-4ecb-e13f-12ee17ef3f61"
      },
      "execution_count": 13,
      "outputs": [
        {
          "output_type": "error",
          "ename": "NameError",
          "evalue": "name 'URFL' is not defined",
          "traceback": [
            "\u001b[0;31m---------------------------------------------------------------------------\u001b[0m",
            "\u001b[0;31mNameError\u001b[0m                                 Traceback (most recent call last)",
            "\u001b[0;32m<ipython-input-13-d84f87b4fbf7>\u001b[0m in \u001b[0;36m<cell line: 0>\u001b[0;34m()\u001b[0m\n\u001b[1;32m     12\u001b[0m \u001b[0;34m\u001b[0m\u001b[0m\n\u001b[1;32m     13\u001b[0m \u001b[0;31m# Define namespaces\u001b[0m\u001b[0;34m\u001b[0m\u001b[0;34m\u001b[0m\u001b[0m\n\u001b[0;32m---> 14\u001b[0;31m \u001b[0minv\u001b[0m \u001b[0;34m=\u001b[0m \u001b[0mURFL\u001b[0m\u001b[0;34m(\u001b[0m\u001b[0;34m\"http://example.com/ontology/inventory#\"\u001b[0m\u001b[0;34m)\u001b[0m\u001b[0;34m\u001b[0m\u001b[0;34m\u001b[0m\u001b[0m\n\u001b[0m\u001b[1;32m     15\u001b[0m \u001b[0mg\u001b[0m\u001b[0;34m.\u001b[0m\u001b[0mbind\u001b[0m\u001b[0;34m(\u001b[0m\u001b[0;34m\"inv\"\u001b[0m\u001b[0;34m,\u001b[0m \u001b[0minv\u001b[0m\u001b[0;34m)\u001b[0m\u001b[0;34m\u001b[0m\u001b[0;34m\u001b[0m\u001b[0m\n\u001b[1;32m     16\u001b[0m \u001b[0;34m\u001b[0m\u001b[0m\n",
            "\u001b[0;31mNameError\u001b[0m: name 'URFL' is not defined"
          ]
        }
      ]
    },
    {
      "source": [
        "# prompt: write python code to convert /content/sample_data/inventory-w-rowid-utf-8.json to rdf and save to /content/sample_data/inventory-w-rowid-utf-8.rdf\n",
        "\n",
        "import json\n",
        "import pandas as pd\n",
        "from rdflib import Graph, Literal, URIRef\n",
        "from rdflib.namespace import RDF, RDFS, XSD\n",
        "\n",
        "# Load the JSON data\n",
        "with open('/content/sample_data/inventory-w-rowid-utf-8-1.json', 'r', encoding='utf-8') as f:\n",
        "    data = json.load(f)\n",
        "\n",
        "# Create a new RDF graph\n",
        "g = Graph()\n",
        "\n",
        "# Define a base URI for the resources\n",
        "base_uri = URIRef(\"http://example.com/inventory/\")\n",
        "\n",
        "# Define namespaces\n",
        "# Corrected the typo from URFL to URIRef\n",
        "inv = URIRef(\"http://example.com/ontology/inventory#\")\n",
        "g.bind(\"inv\", inv)\n",
        "\n",
        "# Iterate over the JSON objects\n",
        "for item in data:\n",
        "    # Create a URI for the item\n",
        "    # Assuming 'row_id' is the unique identifier in your JSON based on the filename\n",
        "    if 'row_id' in item:\n",
        "        item_uri = base_uri + str(item['row_id'])\n",
        "\n",
        "        # Add triples to the graph\n",
        "        g.add((item_uri, RDF.type, inv.InventoryItem))\n",
        "        # Add properties based on the columns in your JSON\n",
        "\n",
        "        if 'row-id' in item: g.add((item_uri, inv.RowId, Literal(item['row-id'], datatype=XSD.string)))\n",
        "        if 'organization' in item: g.add((item_uri, inv.Organization, Literal(item['organization'], datatype=XSD.string)))\n",
        "        if 'sub-organization' in item: g.add((item_uri, inv.SubOrganization, Literal(item['sub-organization'], datatype=XSD.string)))\n",
        "        if 'research -omain' in item: g.add((item_uri, inv.ResearchOmain, Literal(item['research -omain'], datatype=XSD.string)))\n",
        "        if 'crop' in item: g.add((item_uri, inv.Crop, Literal(item['crop'], datatype=XSD.string)))\n",
        "        if 'name' in item: g.add((item_uri, inv.Name, Literal(item['name'], datatype=XSD.string)))\n",
        "        if 'url' in item: g.add((item_uri, inv.Url, Literal(item['url'], datatype=XSD.string)))\n",
        "        if 'purpose' in item: g.add((item_uri, inv.Purpose, Literal(item['purpose'], datatype=XSD.string)))\n",
        "        if 'key features' in item: g.add((item_uri, inv.KeyFeatures, Literal(item['key features'], datatype=XSD.string)))\n",
        "        if 'source' in item: g.add((item_uri, inv.Source, Literal(item['source'], datatype=XSD.string)))\n",
        "        if 'type' in item: g.add((item_uri, inv.Type, Literal(item['type'], datatype=XSD.string)))\n",
        "        if 'status' in item: g.add((item_uri, inv.Status, Literal(item['status'], datatype=XSD.string)))\n",
        "        if 'keywords-tags' in item: g.add((item_uri, inv.KeywordsTags, Literal(item['keywords-tags'], datatype=XSD.string)))\n",
        "        if 'metadata-array' in item: g.add((item_uri, inv.MetadataArray, Literal(item['metadata-array'], datatype=XSD.string)))\n",
        "\n",
        "    else:\n",
        "        print(f\"Warning: Skipping item with no 'row_id': {item}\")\n",
        "\n",
        "\n",
        "# Serialize the graph to RDF/XML format and save to a file\n",
        "g.serialize(destination='/content/sample_data/inventory-w-rowid-utf-8-1.rdf', format='xml')\n",
        "\n",
        "print(\"JSON converted to RDF and saved to /content/sample_data/inventory-w-rowid-utf-8-1.rdf\")"
      ],
      "cell_type": "code",
      "metadata": {
        "colab": {
          "base_uri": "https://localhost:8080/"
        },
        "id": "EiYpK1qPUpIH",
        "outputId": "ec415caa-098b-46c7-eb82-b064cee18d90"
      },
      "execution_count": 14,
      "outputs": [
        {
          "output_type": "stream",
          "name": "stdout",
          "text": [
            "Warning: Skipping item with no 'row_id': {'Row-ID': 1, 'Organization': 'CGIAR', 'Sub-organization': 'IRRI', 'Research -omain': 'High-Throughput Phenotyping / Automated Trait Annotation', 'Crop': 'Rice', 'Name': 'Pheno-I demonstration video', 'URL': 'https://youtu.be/hnq_ydC1-rw?si=SsZHY1xR0zBNoKFA\\xa0', 'Purpose': 'Video presentation of Pheno-I', 'Key Features': 'Video presentation of Pheno-I', 'Source': 'You Tube', 'Type': 'Video', 'Status': None, 'Keywords-Tags': None, 'Metadata-array': None}\n",
            "Warning: Skipping item with no 'row_id': {'Row-ID': 2, 'Organization': 'CGIAR', 'Sub-organization': 'IRRI', 'Research -omain': 'High-Throughput Phenotyping / Automated Trait Annotation', 'Crop': 'Rice', 'Name': 'Pheno-I SOP on CGSpace', 'URL': 'https://cgspace.cgiar.org/items/0c08e9a9-f3ab-4f1a-a3bf-f73db59b07ac\\xa0', 'Purpose': 'Pheno-I article on CGSpace', 'Key Features': 'Published Report on CGSpace', 'Source': 'CGSpace', 'Type': 'Article', 'Status': None, 'Keywords-Tags': None, 'Metadata-array': None}\n",
            "Warning: Skipping item with no 'row_id': {'Row-ID': 3, 'Organization': 'CGIAR', 'Sub-organization': 'IRRI', 'Research -omain': 'High-Throughput Phenotyping / Automated Trait Annotation', 'Crop': 'Rice', 'Name': 'Pheno-I SOP on CGSpace', 'URL': 'https://cgspace.cgiar.org/items/ba751b31-3c3a-47df-85ec-af9a4ba580f7 ', 'Purpose': 'Pheno-I article on CGSpace', 'Key Features': 'Published Report on CGSpace', 'Source': 'CGSpace', 'Type': 'Article', 'Status': None, 'Keywords-Tags': None, 'Metadata-array': None}\n",
            "Warning: Skipping item with no 'row_id': {'Row-ID': 4, 'Organization': 'CGIAR', 'Sub-organization': 'IRRI', 'Research -omain': 'High-Throughput Phenotyping / Automated Trait Annotation', 'Crop': 'Rice', 'Name': 'Pheno-I article on ResearchGate', 'URL': 'https://www.researchsquare.com/article/rs-14707/v1,\\xa0', 'Purpose': 'ResearchGate', 'Key Features': 'Peer reviewed paper on   Research Gate', 'Source': 'ResearchGate', 'Type': 'Article', 'Status': None, 'Keywords-Tags': None, 'Metadata-array': None}\n",
            "Warning: Skipping item with no 'row_id': {'Row-ID': 5, 'Organization': 'CGIAR', 'Sub-organization': 'IRRI', 'Research -omain': 'High-Throughput Phenotyping / Automated Trait Annotation', 'Crop': 'Rice', 'Name': 'Pheno-I article on ResearchGate', 'URL': 'https://www.sciencedirect.com/science/article/pii/S0924271620302410.', 'Purpose': 'ResearchGate', 'Key Features': 'Peer reviewed paper on   Research Gate', 'Source': None, 'Type': 'Article', 'Status': None, 'Keywords-Tags': None, 'Metadata-array': None}\n",
            "Warning: Skipping item with no 'row_id': {'Row-ID': 6, 'Organization': 'CGIAR', 'Sub-organization': 'IRRI', 'Research -omain': 'High-Throughput Phenotyping / Automated Trait Annotation', 'Crop': 'Rice', 'Name': 'Pheno-I article google scholar query 1', 'URL': 'https://scholar.google.com/scholar?start=0&q=%22ciat+pheno-i%22&hl=en&as_sdt=0,14', 'Purpose': 'Goole Scholar Scholar', 'Key Features': 'Google Scholar query using key words CIAT and Pheno-I', 'Source': 'Goole Scholar Scholar', 'Type': 'Search Results', 'Status': None, 'Keywords-Tags': None, 'Metadata-array': None}\n",
            "Warning: Skipping item with no 'row_id': {'Row-ID': 7, 'Organization': 'CGIAR', 'Sub-organization': 'IRRI', 'Research -omain': 'High-Throughput Phenotyping / Automated Trait Annotation', 'Crop': 'Rice', 'Name': 'Pheno-I article google scholar query 2', 'URL': 'https://scholar.google.com/scholar?hl=en&as_sdt=0%2C14&q=%22pheno-i+ciat%22&btnG=', 'Purpose': 'Google Scholar Search', 'Key Features': 'Google Scholar query using key words CIAT and Pheno-I', 'Source': 'Google Scholar Search', 'Type': 'Search Results', 'Status': None, 'Keywords-Tags': None, 'Metadata-array': None}\n",
            "Warning: Skipping item with no 'row_id': {'Row-ID': 8, 'Organization': 'CGIAR', 'Sub-organization': 'IRRI', 'Research -omain': 'High-Throughput Phenotyping / Automated Trait Annotation', 'Crop': 'Rice', 'Name': 'Pheno-I DOI', 'URL': 'https://doi.org/10.1186/s13007-020-00625-1', 'Purpose': 'DOI link to the research article', 'Key Features': 'Digital object identifier', 'Source': 'Link', 'Type': 'DOI', 'Status': None, 'Keywords-Tags': None, 'Metadata-array': None}\n",
            "Warning: Skipping item with no 'row_id': {'Row-ID': 9, 'Organization': 'CGIAR', 'Sub-organization': 'IRRI', 'Research -omain': 'High-Throughput Phenotyping / Automated Trait Annotation', 'Crop': 'Rice', 'Name': 'Pheno-I License 1', 'URL': 'http://creativecommons.org/licenses/by/4.0/', 'Purpose': 'Creative Commons Attribution 4.0 License information', 'Key Features': 'Creative Commons license', 'Source': 'Link', 'Type': 'License', 'Status': None, 'Keywords-Tags': None, 'Metadata-array': None}\n",
            "Warning: Skipping item with no 'row_id': {'Row-ID': 10, 'Organization': 'CGIAR', 'Sub-organization': 'IRRI', 'Research -omain': 'High-Throughput Phenotyping / Automated Trait Annotation', 'Crop': 'Rice', 'Name': 'Pheno-I License 2', 'URL': 'http://creativecommons.org/publicdomain/zero/1.0/', 'Purpose': 'Creative Commons Public Domain Dedication information', 'Key Features': 'Creative Commons license', 'Source': 'Link', 'Type': 'License', 'Status': None, 'Keywords-Tags': None, 'Metadata-array': None}\n",
            "Warning: Skipping item with no 'row_id': {'Row-ID': 11, 'Organization': 'CGIAR', 'Sub-organization': 'IRRI', 'Research -omain': 'High-Throughput Phenotyping / Automated Trait Annotation', 'Crop': 'Rice', 'Name': 'Phenomics web site', 'URL': 'https://phenomics.ciat.cgiar.org/', 'Purpose': 'CIAT Phenomics platform website', 'Key Features': 'Phenomics platform website', 'Source': 'Link', 'Type': 'Web site', 'Status': None, 'Keywords-Tags': None, 'Metadata-array': None}\n",
            "Warning: Skipping item with no 'row_id': {'Row-ID': 12, 'Organization': 'CGIAR', 'Sub-organization': 'IRRI', 'Research -omain': 'High-Throughput Phenotyping / Automated Trait Annotation', 'Crop': 'Rice', 'Name': 'Pheno-I web application', 'URL': 'http://pheno-i.ciat.cgiar.org/', 'Purpose': 'CIAT Pheno-i web-based application', 'Key Features': 'Phenomics platform wenb app', 'Source': 'Link', 'Type': 'Web Application', 'Status': 'broken', 'Keywords-Tags': None, 'Metadata-array': None}\n",
            "Warning: Skipping item with no 'row_id': {'Row-ID': 13, 'Organization': 'CGIAR', 'Sub-organization': 'IRRI', 'Research -omain': 'High-Throughput Phenotyping / Automated Trait Annotation', 'Crop': 'Rice', 'Name': 'Agisoft Metashape Pro software website', 'URL': 'http://www.agisoft.com ', 'Purpose': 'Agisoft Metashape Pro Python Library', 'Key Features': 'Agisogy Metashape software website', 'Source': 'Link', 'Type': 'Code Library', 'Status': None, 'Keywords-Tags': None, 'Metadata-array': None}\n",
            "Warning: Skipping item with no 'row_id': {'Row-ID': 14, 'Organization': 'CGIAR', 'Sub-organization': 'IRRI', 'Research -omain': 'High-Throughput Phenotyping / Automated Trait Annotation', 'Crop': 'Rice', 'Name': 'SciPy Python package website', 'URL': 'https://www.scipy.org/', 'Purpose': 'SciPy Python package ', 'Key Features': 'SciPy package website', 'Source': 'Link', 'Type': 'Code Library', 'Status': None, 'Keywords-Tags': None, 'Metadata-array': None}\n",
            "Warning: Skipping item with no 'row_id': {'Row-ID': 15, 'Organization': 'CGIAR', 'Sub-organization': 'IRRI', 'Research -omain': 'High-Throughput Phenotyping / Automated Trait Annotation', 'Crop': 'Rice', 'Name': 'Agisoft processing workflow reference', 'URL': 'https://bit.ly/32swtn2', 'Purpose': 'Agisoft processing workflow reference library', 'Key Features': 'Agisoft workflow', 'Source': 'Link', 'Type': 'Workflow reference', 'Status': None, 'Keywords-Tags': None, 'Metadata-array': None}\n",
            "Warning: Skipping item with no 'row_id': {'Row-ID': 16, 'Organization': 'CGIAR', 'Sub-organization': 'IRRI', 'Research -omain': 'High-Throughput Phenotyping / Automated Trait Annotation', 'Crop': 'Rice', 'Name': 'OpenStreetMap homepage', 'URL': 'https://www.openstreetmap.org/', 'Purpose': 'OpenStreetMap visualization library', 'Key Features': 'Open Street Map website', 'Source': 'Link', 'Type': 'Code Library', 'Status': None, 'Keywords-Tags': None, 'Metadata-array': None}\n",
            "Warning: Skipping item with no 'row_id': {'Row-ID': 17, 'Organization': 'CGIAR', 'Sub-organization': 'IRRI', 'Research -omain': 'High-Throughput Phenotyping / Automated Trait Annotation', 'Crop': 'Rice', 'Name': 'LeafletJS API for map visualization', 'URL': 'https://leafletjs.com/', 'Purpose': 'LeafletJS API for map visualization library', 'Key Features': 'API for visualization', 'Source': 'Link', 'Type': 'API', 'Status': None, 'Keywords-Tags': None, 'Metadata-array': None}\n",
            "Warning: Skipping item with no 'row_id': {'Row-ID': 18, 'Organization': 'CGIAR', 'Sub-organization': 'IRRI', 'Research -omain': 'High-Throughput Phenotyping / Automated Trait Annotation', 'Crop': 'Rice', 'Name': 'Material-UI for user interface components', 'URL': 'https://material-ui.com/', 'Purpose': 'Material-UI for user interface components library', 'Key Features': 'UI components', 'Source': 'Link', 'Type': 'UI components', 'Status': None, 'Keywords-Tags': None, 'Metadata-array': None}\n",
            "Warning: Skipping item with no 'row_id': {'Row-ID': 19, 'Organization': 'CGIAR', 'Sub-organization': 'IRRI', 'Research -omain': 'High-Throughput Phenotyping / Automated Trait Annotation', 'Crop': 'Rice', 'Name': 'Field experimental specs for Trial 1', 'URL': None, 'Purpose': None, 'Key Features': None, 'Source': 'Field specs', 'Type': None, 'Status': None, 'Keywords-Tags': None, 'Metadata-array': None}\n",
            "Warning: Skipping item with no 'row_id': {'Row-ID': 20, 'Organization': 'CGIAR', 'Sub-organization': 'IRRI', 'Research -omain': 'High-Throughput Phenotyping / Automated Trait Annotation', 'Crop': 'Rice', 'Name': 'Field experimental specs for Trial 2', 'URL': None, 'Purpose': None, 'Key Features': None, 'Source': 'Field specs', 'Type': None, 'Status': None, 'Keywords-Tags': None, 'Metadata-array': None}\n",
            "Warning: Skipping item with no 'row_id': {'Row-ID': 21, 'Organization': 'CGIAR', 'Sub-organization': 'IRRI', 'Research -omain': 'High-Throughput Phenotyping / Automated Trait Annotation', 'Crop': 'Rice', 'Name': 'Unmanned aerial vehicle (UAE)', 'URL': None, 'Purpose': 'areal imaging', 'Key Features': 'DJI S1000s', 'Source': 'Equipment', 'Type': None, 'Status': None, 'Keywords-Tags': None, 'Metadata-array': None}\n",
            "Warning: Skipping item with no 'row_id': {'Row-ID': 22, 'Organization': 'CGIAR', 'Sub-organization': 'IRRI', 'Research -omain': 'High-Throughput Phenotyping / Automated Trait Annotation', 'Crop': 'Rice', 'Name': 'Multispexctral camera', 'URL': None, 'Purpose': 'Multispectal imaging', 'Key Features': 'Micasense RedEdge', 'Source': 'Equipment', 'Type': None, 'Status': None, 'Keywords-Tags': None, 'Metadata-array': None}\n",
            "Warning: Skipping item with no 'row_id': {'Row-ID': 23, 'Organization': 'CGIAR', 'Sub-organization': 'IRRI', 'Research -omain': 'High-Throughput Phenotyping / Automated Trait Annotation', 'Crop': 'Rice', 'Name': 'Multispexctral camera', 'URL': None, 'Purpose': 'Multispectal imaging', 'Key Features': 'Arduino nano', 'Source': 'Equipment', 'Type': None, 'Status': None, 'Keywords-Tags': None, 'Metadata-array': None}\n",
            "Warning: Skipping item with no 'row_id': {'Row-ID': 24, 'Organization': 'CGIAR', 'Sub-organization': 'IRRI', 'Research -omain': 'High-Throughput Phenotyping / Automated Trait Annotation', 'Crop': 'Rice', 'Name': 'Ground Control Point Sensors', 'URL': None, 'Purpose': 'Ground Control point tagging', 'Key Features': 'Ground Control Point Sensors', 'Source': 'Equipment', 'Type': None, 'Status': None, 'Keywords-Tags': None, 'Metadata-array': None}\n",
            "Warning: Skipping item with no 'row_id': {'Row-ID': 25, 'Organization': 'CGIAR', 'Sub-organization': 'IRRI', 'Research -omain': 'High-Throughput Phenotyping / Automated Trait Annotation', 'Crop': 'Rice', 'Name': 'RTK-GPS system', 'URL': None, 'Purpose': 'Rover & Base', 'Key Features': 'RTK-GPS system', 'Source': 'Equipment', 'Type': None, 'Status': None, 'Keywords-Tags': None, 'Metadata-array': None}\n",
            "Warning: Skipping item with no 'row_id': {'Row-ID': 26, 'Organization': 'CGIAR', 'Sub-organization': 'IRRI', 'Research -omain': 'High-Throughput Phenotyping / Automated Trait Annotation', 'Crop': 'Rice', 'Name': 'Micasense reflectance panel', 'URL': None, 'Purpose': 'Reflectance panel', 'Key Features': 'Micasense reflectance panel', 'Source': 'Equipment', 'Type': None, 'Status': None, 'Keywords-Tags': None, 'Metadata-array': None}\n",
            "Warning: Skipping item with no 'row_id': {'Row-ID': 27, 'Organization': 'CGIAR', 'Sub-organization': 'IRRI', 'Research -omain': 'High-Throughput Phenotyping / Automated Trait Annotation', 'Crop': 'Rice', 'Name': 'DataSet.py', 'URL': None, 'Purpose': 'Defines and manages experiment data', 'Key Features': 'Supports structured experiment descriptions', 'Source': 'Python', 'Type': 'Code', 'Status': None, 'Keywords-Tags': None, 'Metadata-array': None}\n",
            "Warning: Skipping item with no 'row_id': {'Row-ID': 28, 'Organization': 'CGIAR', 'Sub-organization': 'IRRI', 'Research -omain': 'High-Throughput Phenotyping / Automated Trait Annotation', 'Crop': 'Rice', 'Name': 'Image.py', 'URL': None, 'Purpose': 'Handles raw image dataset', 'Key Features': 'Manages image acquisition and preprocessing', 'Source': 'Python', 'Type': 'Code', 'Status': None, 'Keywords-Tags': None, 'Metadata-array': None}\n",
            "Warning: Skipping item with no 'row_id': {'Row-ID': 29, 'Organization': 'CGIAR', 'Sub-organization': 'IRRI', 'Research -omain': 'High-Throughput Phenotyping / Automated Trait Annotation', 'Crop': 'Rice', 'Name': 'Mosaic.py', 'URL': None, 'Purpose': 'Generates orthomosaics', 'Key Features': 'Creates georeferenced mosaics from UAV imagery', 'Source': 'Python', 'Type': 'Code', 'Status': None, 'Keywords-Tags': None, 'Metadata-array': None}\n",
            "Warning: Skipping item with no 'row_id': {'Row-ID': 30, 'Organization': 'CGIAR', 'Sub-organization': 'IRRI', 'Research -omain': 'High-Throughput Phenotyping / Automated Trait Annotation', 'Crop': 'Rice', 'Name': 'TimeSeries.py', 'URL': None, 'Purpose': 'Processes time-series data', 'Key Features': 'Analyzes vegetation indices over multiple time points', 'Source': 'Python', 'Type': 'Code', 'Status': None, 'Keywords-Tags': None, 'Metadata-array': None}\n",
            "Warning: Skipping item with no 'row_id': {'Row-ID': 31, 'Organization': 'CGIAR', 'Sub-organization': 'IRRI', 'Research -omain': 'High-Throughput Phenotyping / Automated Trait Annotation', 'Crop': 'Rice', 'Name': 'Shape.py', 'URL': None, 'Purpose': 'Manages shapefile manipulation', 'Key Features': 'Supports spatial data analysis and visualization', 'Source': 'Python', 'Type': 'Code', 'Status': None, 'Keywords-Tags': None, 'Metadata-array': None}\n",
            "Warning: Skipping item with no 'row_id': {'Row-ID': 32, 'Organization': 'CGIAR', 'Sub-organization': 'IRRI', 'Research -omain': 'High-Throughput Phenotyping / Automated Trait Annotation', 'Crop': 'Rice', 'Name': 'Misc.py', 'URL': None, 'Purpose': 'Contains core data structures', 'Key Features': 'Provides essential utilities for various processing tasks', 'Source': 'Python', 'Type': 'Code', 'Status': None, 'Keywords-Tags': None, 'Metadata-array': None}\n",
            "Warning: Skipping item with no 'row_id': {'Row-ID': 33, 'Organization': 'CGIAR', 'Sub-organization': 'IRRI', 'Research -omain': 'High-Throughput Phenotyping / Automated Trait Annotation', 'Crop': 'Rice', 'Name': 'Calibration.py', 'URL': None, 'Purpose': 'Performs radiometric calibration', 'Key Features': 'Implements empirical line calibration (ELC) method', 'Source': 'Python', 'Type': 'Code', 'Status': None, 'Keywords-Tags': None, 'Metadata-array': None}\n",
            "Warning: Skipping item with no 'row_id': {'Row-ID': 34, 'Organization': 'CGIAR', 'Sub-organization': 'IRRI', 'Research -omain': 'High-Throughput Phenotyping / Automated Trait Annotation', 'Crop': 'Rice', 'Name': 'FeatureExtractor.py', 'URL': None, 'Purpose': 'Extracts image features', 'Key Features': 'Computes vegetation indices and statistical parameters', 'Source': 'Python', 'Type': 'Code', 'Status': None, 'Keywords-Tags': None, 'Metadata-array': None}\n",
            "Warning: Skipping item with no 'row_id': {'Row-ID': 35, 'Organization': 'CGIAR', 'Sub-organization': 'IRRI', 'Research -omain': 'High-Throughput Phenotyping / Automated Trait Annotation', 'Crop': 'Rice', 'Name': 'MachineLearning.py', 'URL': None, 'Purpose': 'Implements machine learning models', 'Key Features': 'Supports classification and regression tasks', 'Source': 'Python', 'Type': 'Code', 'Status': None, 'Keywords-Tags': None, 'Metadata-array': None}\n",
            "Warning: Skipping item with no 'row_id': {'Row-ID': 36, 'Organization': 'CGIAR', 'Sub-organization': 'IRRI', 'Research -omain': 'High-Throughput Phenotyping / Automated Trait Annotation', 'Crop': 'Rice', 'Name': 'Statistical.py', 'URL': None, 'Purpose': 'Provides statistical analysis tools', 'Key Features': 'Performs correlation analysis and data transformation', 'Source': 'Python', 'Type': 'Code', 'Status': None, 'Keywords-Tags': None, 'Metadata-array': None}\n",
            "Warning: Skipping item with no 'row_id': {'Row-ID': 37, 'Organization': 'CGIAR', 'Sub-organization': 'IRRI', 'Research -omain': 'High-Throughput Phenotyping / Automated Trait Annotation', 'Crop': 'Rice', 'Name': 'Radiometric Calibration', 'URL': None, 'Purpose': 'Adjusts image reflectance values for accuracy', 'Key Features': 'Uses Empirical Line Calibration (ELC) method', 'Source': 'Workflow component', 'Type': 'Module', 'Status': None, 'Keywords-Tags': None, 'Metadata-array': None}\n",
            "Warning: Skipping item with no 'row_id': {'Row-ID': 38, 'Organization': 'CGIAR', 'Sub-organization': 'IRRI', 'Research -omain': 'High-Throughput Phenotyping / Automated Trait Annotation', 'Crop': 'Rice', 'Name': 'Crop Masking', 'URL': None, 'Purpose': 'Segments cassava canopy from background', 'Key Features': 'Applies Green Minus Red (GMR) processing', 'Source': 'Workflow component', 'Type': 'Module', 'Status': None, 'Keywords-Tags': None, 'Metadata-array': None}\n",
            "Warning: Skipping item with no 'row_id': {'Row-ID': 39, 'Organization': 'CGIAR', 'Sub-organization': 'IRRI', 'Research -omain': 'High-Throughput Phenotyping / Automated Trait Annotation', 'Crop': 'Rice', 'Name': 'Vegetation Indices Calculation', 'URL': None, 'Purpose': 'Computes key vegetation indices (VIs)', 'Key Features': 'Supports multiple spectral bands (NIR, RedEdge, etc.)', 'Source': 'Workflow component', 'Type': 'Module', 'Status': None, 'Keywords-Tags': None, 'Metadata-array': '[\\n  {\"abbr\": \"NDVI\", \"full_name\": \"Normalized Difference Vegetation Index\"},\\n  {\"abbr\": \"GNDVI\", \"full_name\": \"Green Normalized Difference Vegetation Index\"},\\n  {\"abbr\": \"MSAVI\", \"full_name\": \"Modified Soil-Adjusted Vegetation Index\"},\\n  {\"abbr\": \"NDRE\", \"full_name\": \"Normalized Difference Red Edge\"},\\n  {\"abbr\": \"EVI\", \"full_name\": \"Enhanced Vegetation Index\"},\\n  {\"abbr\": \"SAVI\", \"full_name\": \"Soil-Adjusted Vegetation Index\"},\\n  {\"abbr\": \"TCI\", \"full_name\": \"True Color Image\"},\\n  {\"abbr\": \"CCCI\", \"full_name\": \"Canopy Chlorophyll Content Index\"},\\n  {\"abbr\": \"NDWI\", \"full_name\": \"Normalized Difference Water Index\"}\\n]'}\n",
            "Warning: Skipping item with no 'row_id': {'Row-ID': 40, 'Organization': 'CGIAR', 'Sub-organization': 'IRRI', 'Research -omain': 'High-Throughput Phenotyping / Automated Trait Annotation', 'Crop': 'Rice', 'Name': 'Plot-Level Data Extraction', 'URL': None, 'Purpose': 'Extracts pixel values for statistical analysis', 'Key Features': 'Generates CSV reports with mean, variance, and other metrics', 'Source': 'Workflow component', 'Type': 'Module', 'Status': None, 'Keywords-Tags': None, 'Metadata-array': None}\n",
            "Warning: Skipping item with no 'row_id': {'Row-ID': 41, 'Organization': 'CGIAR', 'Sub-organization': 'IRRI', 'Research -omain': 'High-Throughput Phenotyping / Automated Trait Annotation', 'Crop': 'Rice', 'Name': 'Machine Learning Model Development', 'URL': None, 'Purpose': 'Builds predictive models for phenotyping', 'Key Features': 'Implements kNN, SVM, RF, and ANN algorithms', 'Source': 'Workflow component', 'Type': 'Module', 'Status': None, 'Keywords-Tags': None, 'Metadata-array': None}\n",
            "Warning: Skipping item with no 'row_id': {'Row-ID': 42, 'Organization': 'CGIAR', 'Sub-organization': 'IRRI', 'Research -omain': 'High-Throughput Phenotyping / Automated Trait Annotation', 'Crop': 'Rice', 'Name': 'Data Visualization', 'URL': None, 'Purpose': 'Displays processed data in a web-based interface', 'Key Features': 'Uses LeafletJS for geospatial visualization', 'Source': 'Workflow component', 'Type': 'Module', 'Status': None, 'Keywords-Tags': None, 'Metadata-array': None}\n",
            "Warning: Skipping item with no 'row_id': {'Row-ID': 43, 'Organization': 'CGIAR', 'Sub-organization': 'IRRI', 'Research -omain': 'High-Throughput Phenotyping / Automated Trait Annotation', 'Crop': 'Rice', 'Name': 'Automated Orthomosaic Generation', 'URL': None, 'Purpose': 'Creates georeferenced mosaics from UAV imagery', 'Key Features': 'Reduces processing time by ~30% using Python API', 'Source': 'Workflow component', 'Type': 'Module', 'Status': None, 'Keywords-Tags': None, 'Metadata-array': None}\n",
            "Warning: Skipping item with no 'row_id': {'Row-ID': 44, 'Organization': 'CGIAR', 'Sub-organization': 'IRRI', 'Research -omain': 'High-Throughput Phenotyping / Automated Trait Annotation', 'Crop': 'Rice', 'Name': 'Trial One Dataset', 'URL': None, 'Purpose': 'Validate Pheno-i framework using cassava field trials', 'Key Features': 'Includes multispectral UAV imagery, ground-truth measurements, and phenotypic traits', 'Source': 'Dataset', 'Type': 'Dataset', 'Status': None, 'Keywords-Tags': None, 'Metadata-array': None}\n",
            "Warning: Skipping item with no 'row_id': {'Row-ID': 45, 'Organization': 'CGIAR', 'Sub-organization': 'IRRI', 'Research -omain': 'High-Throughput Phenotyping / Automated Trait Annotation', 'Crop': 'Rice', 'Name': 'Trial Two Dataset', 'URL': None, 'Purpose': 'Second season validation of Pheno-i framework', 'Key Features': 'Contains additional cassava genotypes, expanded phenotypic measurements, and UAV imagery', 'Source': 'Dataset', 'Type': 'Dataset', 'Status': None, 'Keywords-Tags': None, 'Metadata-array': None}\n",
            "Warning: Skipping item with no 'row_id': {'Row-ID': 46, 'Organization': 'CGIAR', 'Sub-organization': 'IRRI', 'Research -omain': 'High-Throughput Phenotyping / Automated Trait Annotation', 'Crop': 'Rice', 'Name': 'Vegetation Indices Dataset', 'URL': None, 'Purpose': 'Compute key vegetation indices (VIs) for phenotyping', 'Key Features': 'Includes NDVI, GNDVI, NDRE, and other spectral indices', 'Source': 'Dataset', 'Type': 'Dataset', 'Status': None, 'Keywords-Tags': None, 'Metadata-array': None}\n",
            "Warning: Skipping item with no 'row_id': {'Row-ID': 47, 'Organization': 'CGIAR', 'Sub-organization': 'IRRI', 'Research -omain': 'High-Throughput Phenotyping / Automated Trait Annotation', 'Crop': 'Rice', 'Name': 'Canopy Metrics Dataset', 'URL': None, 'Purpose': 'Extract canopy height, cover, and volume', 'Key Features': 'Uses UAV-derived digital elevation models (DEM) and orthomosaics', 'Source': 'Dataset', 'Type': 'Dataset', 'Status': None, 'Keywords-Tags': None, 'Metadata-array': None}\n",
            "Warning: Skipping item with no 'row_id': {'Row-ID': 48, 'Organization': 'CGIAR', 'Sub-organization': 'IRRI', 'Research -omain': 'High-Throughput Phenotyping / Automated Trait Annotation', 'Crop': 'Rice', 'Name': 'Machine Learning Training Dataset', 'URL': None, 'Purpose': 'Develop predictive models for cassava root yield', 'Key Features': 'Contains plot-level extracted features, statistical analysis, and ML-ready data', 'Source': 'Dataset', 'Type': 'Dataset', 'Status': None, 'Keywords-Tags': None, 'Metadata-array': None}\n",
            "Warning: Skipping item with no 'row_id': {'Row-ID': 49, 'Organization': 'CGIAR', 'Sub-organization': 'IRRI', 'Research -omain': 'High-Throughput Phenotyping / Automated Trait Annotation', 'Crop': 'Rice', 'Name': 'Ground-Truth Measurements Dataset', 'URL': None, 'Purpose': 'Validate UAV-based phenotyping accuracy', 'Key Features': 'Includes manual measurements of canopy height, biomass, and leaf area index', 'Source': 'Dataset', 'Type': 'Dataset', 'Status': None, 'Keywords-Tags': None, 'Metadata-array': None}\n",
            "Warning: Skipping item with no 'row_id': {'Row-ID': 50, 'Organization': 'CGIAR', 'Sub-organization': 'IRRI', 'Research -omain': 'High-Throughput Phenotyping / Automated Trait Annotation', 'Crop': 'Rice', 'Name': 'CIAT Pheno-I workflow', 'URL': None, 'Purpose': ' Applying image processing for plot level data generation and use it on identification, classification, quantification \\nand prediction', 'Key Features': None, 'Source': 'Workflow', 'Type': 'Workflow', 'Status': None, 'Keywords-Tags': None, 'Metadata-array': None}\n",
            "Warning: Skipping item with no 'row_id': {'Row-ID': 51, 'Organization': 'CGIAR', 'Sub-organization': 'IRRI', 'Research -omain': 'High-Throughput Phenotyping / Automated Trait Annotation', 'Crop': 'Rice', 'Name': 'Spectral panels', 'URL': None, 'Purpose': 'reflectance measurements', 'Key Features': 'reflectance measurements', 'Source': 'Workflow component', 'Type': 'Workflow component', 'Status': None, 'Keywords-Tags': None, 'Metadata-array': None}\n",
            "Warning: Skipping item with no 'row_id': {'Row-ID': 52, 'Organization': 'CGIAR', 'Sub-organization': 'IRRI', 'Research -omain': 'High-Throughput Phenotyping / Automated Trait Annotation', 'Crop': 'Rice', 'Name': 'Orthmosaic / Digital Elevation Model (DEM)', 'URL': None, 'Purpose': 'geometrically corrected DEM mapping', 'Key Features': 'geometrically corrected DEM mapping', 'Source': 'Workflow component', 'Type': 'Workflow component', 'Status': None, 'Keywords-Tags': None, 'Metadata-array': None}\n",
            "Warning: Skipping item with no 'row_id': {'Row-ID': 53, 'Organization': 'CGIAR', 'Sub-organization': 'IRRI', 'Research -omain': 'High-Throughput Phenotyping / Automated Trait Annotation', 'Crop': 'Rice', 'Name': 'Plot ROI*.SHP', 'URL': None, 'Purpose': 'Plot region of interest shape file', 'Key Features': 'Plot region of interest shape file', 'Source': 'Workflow component', 'Type': 'Workflow component', 'Status': None, 'Keywords-Tags': None, 'Metadata-array': None}\n",
            "Warning: Skipping item with no 'row_id': {'Row-ID': 54, 'Organization': 'CGIAR', 'Sub-organization': 'IRRI', 'Research -omain': 'High-Throughput Phenotyping / Automated Trait Annotation', 'Crop': 'Rice', 'Name': 'VI* Feature Extraction', 'URL': None, 'Purpose': 'Vegetation index feature extraction', 'Key Features': 'Vegetation index feature extraction', 'Source': 'Workflow component', 'Type': 'Workflow component', 'Status': None, 'Keywords-Tags': None, 'Metadata-array': None}\n",
            "Warning: Skipping item with no 'row_id': {'Row-ID': 55, 'Organization': 'CGIAR', 'Sub-organization': 'IRRI', 'Research -omain': 'High-Throughput Phenotyping / Automated Trait Annotation', 'Crop': 'Rice', 'Name': 'Plot-level data extraction .CSV', 'URL': None, 'Purpose': 'Plot level commer seperated dataset', 'Key Features': 'Plot level commer seperated dataset', 'Source': 'Workflow component', 'Type': 'Workflow component', 'Status': None, 'Keywords-Tags': None, 'Metadata-array': None}\n",
            "Warning: Skipping item with no 'row_id': {'Row-ID': 56, 'Organization': 'CGIAR', 'Sub-organization': 'IRRI', 'Research -omain': 'High-Throughput Phenotyping / Automated Trait Annotation', 'Crop': 'Rice', 'Name': 'Data modeling', 'URL': None, 'Purpose': 'extracting associations from tha data with machine learning models', 'Key Features': 'extracting associations from tha data with machine learning models', 'Source': 'Workflow component', 'Type': 'Workflow component', 'Status': None, 'Keywords-Tags': None, 'Metadata-array': None}\n",
            "Warning: Skipping item with no 'row_id': {'Row-ID': 57, 'Organization': 'CGIAR', 'Sub-organization': 'IRRI', 'Research -omain': 'High-Throughput Phenotyping / Automated Trait Annotation', 'Crop': 'Rice', 'Name': 'identification, classification, quantification & prediction', 'URL': None, 'Purpose': 'results dataset', 'Key Features': 'results dataset', 'Source': 'Workflow component', 'Type': 'Workflow component', 'Status': None, 'Keywords-Tags': None, 'Metadata-array': None}\n",
            "Warning: Skipping item with no 'row_id': {'Row-ID': 58, 'Organization': 'CGIAR', 'Sub-organization': 'IRRI', 'Research -omain': 'High-Throughput Phenotyping / Automated Trait Annotation', 'Crop': 'Rice', 'Name': 'Africa Rice Phenotype Repositiory', 'URL': 'https://dataverse.harvard.edu/dataverse/AfricaRice_Pheno', 'Purpose': 'Africa Rice Phenotyping Dataverse with articles on Pheno-I', 'Key Features': 'Africa Rice Phenotyping Dataverse', 'Source': 'Repository', 'Type': 'Repository', 'Status': None, 'Keywords-Tags': None, 'Metadata-array': None}\n",
            "Warning: Skipping item with no 'row_id': {'Row-ID': 59, 'Organization': 'CGIAR', 'Sub-organization': 'IRRI', 'Research -omain': 'High-Throughput Phenotyping / Automated Trait Annotation', 'Crop': 'Rice', 'Name': 'CIAT  Phenotype Repositiory', 'URL': 'https://dataverse.harvard.edu/dataverse/CIAT_pheno', 'Purpose': 'CIAT Phenotyping Dataverse with articles on Pheno-I', 'Key Features': 'CIAT Phenotyping Dataverse', 'Source': 'Repository', 'Type': 'Repository', 'Status': None, 'Keywords-Tags': None, 'Metadata-array': None}\n",
            "Warning: Skipping item with no 'row_id': {'Row-ID': 60, 'Organization': 'CGIAR', 'Sub-organization': 'IRRI', 'Research -omain': 'High-Throughput Phenotyping / Automated Trait Annotation', 'Crop': 'Rice', 'Name': 'IRRI Phenotype Repositiory', 'URL': 'https://dataverse.harvard.edu/dataverse/IRRI_Pheno', 'Purpose': 'IRRI Phenotying Datavserse with articles on Pheno-I', 'Key Features': 'IRRI Phenotying Datavserse', 'Source': 'Repository', 'Type': 'Repository', 'Status': None, 'Keywords-Tags': None, 'Metadata-array': None}\n",
            "Warning: Skipping item with no 'row_id': {'Row-ID': 61, 'Organization': 'CGIAR', 'Sub-organization': None, 'Research -omain': 'High-Throughput Phenotyping / Automated Trait Annotation', 'Crop': 'Rice', 'Name': 'Abbrevoations', 'URL': None, 'Purpose': 'Abbreviations used', 'Key Features': None, 'Source': None, 'Type': None, 'Status': None, 'Keywords-Tags': None, 'Metadata-array': '```json\\n[\\n  {\"abbr\": \"AGB\", \"full_name\": \"Above-ground biomass\"},\\n  {\"abbr\": \"ANN\", \"full_name\": \"Artificial neural networks\"},\\n  {\"abbr\": \"API\", \"full_name\": \"Application program interface\"},\\n  {\"abbr\": \"BGB\", \"full_name\": \"Below-ground biomass\"},\\n  {\"abbr\": \"BNDVI\", \"full_name\": \"Blue normalized difference vegetation index\"},\\n  {\"abbr\": \"CCuav\", \"full_name\": \"Canopy cover estimate from UAV\"},\\n  {\"abbr\": \"CH\", \"full_name\": \"Canopy height\"},\\n  {\"abbr\": \"CHuav\", \"full_name\": \"Canopy height estimate from UAV\"},\\n  {\"abbr\": \"CIAT Pheno-i\", \"full_name\": \"Automated image analytical framework\"},\\n  {\"abbr\": \"CPU\", \"full_name\": \"Central processing unit\"},\\n  {\"abbr\": \"CSV\", \"full_name\": \"Comma separated values\"},\\n  {\"abbr\": \"DEM\", \"full_name\": \"Digital elevation model\"},\\n  {\"abbr\": \"DMA\", \"full_name\": \"Dry matter accumulation\"},\\n  {\"abbr\": \"EBK\", \"full_name\": \"Early bulking\"},\\n  {\"abbr\": \"EL\", \"full_name\": \"Elongation\"},\\n  {\"abbr\": \"ELC\", \"full_name\": \"Empirical line calibration\"},\\n  {\"abbr\": \"GNDVI\", \"full_name\": \"Green normalized difference vegetation index\"},\\n  {\"abbr\": \"GCPs\", \"full_name\": \"Ground control points\"},\\n  {\"abbr\": \"GRVI\", \"full_name\": \"Green-Red vegetation index\"},\\n  {\"abbr\": \"GNSS\", \"full_name\": \"Global navigation satellite system\"},\\n  {\"abbr\": \"GUI\", \"full_name\": \"Graphical user interface\"},\\n  {\"abbr\": \"GIS\", \"full_name\": \"Geographic information system\"},\\n  {\"abbr\": \"GMR\", \"full_name\": \"Green minus red\"},\\n  {\"abbr\": \"GPR\", \"full_name\": \"Ground penetrating radar\"},\\n  {\"abbr\": \"GDAL\", \"full_name\": \"Geospatial data abstraction library\"},\\n  {\"abbr\": \"HTFP\", \"full_name\": \"High-throughput field phenotyping\"},\\n  {\"abbr\": \"KNN\", \"full_name\": \"k-Nearest neighbors\"},\\n  {\"abbr\": \"LAI\", \"full_name\": \"Leaf area index\"},\\n  {\"abbr\": \"LBK\", \"full_name\": \"Late bulking\"},\\n  {\"abbr\": \"ML\", \"full_name\": \"Machine learning\"},\\n  {\"abbr\": \"MLP\", \"full_name\": \"Multi-Layer perceptron\"},\\n  {\"abbr\": \"MS\", \"full_name\": \"Multispectral\"},\\n  {\"abbr\": \"NIR\", \"full_name\": \"Near-infrared\"},\\n  {\"abbr\": \"NDRE\", \"full_name\": \"Normalized difference Red-Edge\"},\\n  {\"abbr\": \"NDVI\", \"full_name\": \"Normalized difference vegetation index\"},\\n  {\"abbr\": \"NDREI\", \"full_name\": \"Normalized difference Vegetation Index Red-Edge\"},\\n  {\"abbr\": \"NGBDI\", \"full_name\": \"Normalized Green–Blue Difference Index\"},\\n  {\"abbr\": \"NPCI\", \"full_name\": \"Normalized pigment chlorophyll index\"},\\n  {\"abbr\": \"CVuav\", \"full_name\": \"Canopy volume estimate from UAV\"},\\n  {\"abbr\": \"RTK-GPS\", \"full_name\": \"Real-time kinematic global positioning system\"},\\n  {\"abbr\": \"RF\", \"full_name\": \"Random forest\"},\\n  {\"abbr\": \"REST\", \"full_name\": \"Representational state transfer\"},\\n  {\"abbr\": \"IMU\", \"full_name\": \"Inertial measurement unit\"},\\n  {\"abbr\": \"RGB\", \"full_name\": \"Red, green, blue\"},\\n  {\"abbr\": \"RMSE\", \"full_name\": \"Root median square error\"},\\n  {\"abbr\": \"PCA\", \"full_name\": \"Principal component analysis\"},\\n  {\"abbr\": \"PCR\", \"full_name\": \"Principal component regression\"},\\n  {\"abbr\": \"RRMSE\", \"full_name\": \"Relative root median square error\"},\\n  {\"abbr\": \"SPA\", \"full_name\": \"Single page app\"},\\n  {\"abbr\": \"SVM\", \"full_name\": \"Support Vector Machine\"},\\n  {\"abbr\": \"UAV\", \"full_name\": \"Unmanned aerial vehicles\"},\\n  {\"abbr\": \"VIs\", \"full_name\": \"Vegetation indices\"},\\n  {\"abbr\": \"VRT\", \"full_name\": \"Variable rate technology\"}\\n]'}\n",
            "Warning: Skipping item with no 'row_id': {'Row-ID': 62, 'Organization': 'CGIAR', 'Sub-organization': None, 'Research -omain': 'High-Throughput Phenotyping / Automated Trait Annotation', 'Crop': 'Rice', 'Name': 'Study keywords', 'URL': None, 'Purpose': None, 'Key Features': None, 'Source': None, 'Type': None, 'Status': None, 'Keywords-Tags': None, 'Metadata-array': '[\\n  \"Machine learning\",\\n  \"High-throughput field phenotyping\",\\n  \"Image processing\",\\n  \"Cassava\",\\n  \"Above-ground biomass\",\\n  \"Below-ground biomass\",\\n  \"Vegetation indices\",\\n  \"Multispectral UAV imagery\",\\n  \"Root yield prediction\",\\n  \"Automated aerial image processing\",\\n  \"CIAT Pheno-i\",\\n  \"Canopy metrics\",\\n  \"Radiometric calibration\",\\n  \"Crop masking\",\\n  \"Feature extraction\",\\n  \"Plot-level data extraction\",\\n  \"Data modeling\",\\n  \"Regression models\",\\n  \"Random Forest\",\\n  \"Support Vector Machine\",\\n  \"k-Nearest Neighbors\",\\n  \"Artificial Neural Networks\",\\n  \"Principal Component Analysis\",\\n  \"Digital elevation model\",\\n  \"Orthomosaic generation\",\\n  \"Remote sensing\",\\n  \"Precision agriculture\",\\n  \"Geospatial data abstraction\",\\n  \"Ground control points\",\\n  \"Real-time kinematic GPS\",\\n  \"Spectral indices\"\\n]'}\n",
            "Warning: Skipping item with no 'row_id': {'Row-ID': 63, 'Organization': 'CGIAR', 'Sub-organization': 'IRRI', 'Research -omain': 'High-Throughput Phenotyping / Automated Trait Annotation', 'Crop': 'Rice', 'Name': 'Collaboration workspace - On Prem', 'URL': None, 'Purpose': 'Workspace for experimenting with trhe assets without downloaading', 'Key Features': None, 'Source': None, 'Type': None, 'Status': None, 'Keywords-Tags': None, 'Metadata-array': None}\n",
            "Warning: Skipping item with no 'row_id': {'Row-ID': 64, 'Organization': 'CGIAR', 'Sub-organization': 'IRRI', 'Research -omain': 'High-Throughput Phenotyping / Automated Trait Annotation', 'Crop': 'Rice', 'Name': 'Collaboration workspcace - On Cloud', 'URL': None, 'Purpose': 'Workspace for experimenting with trhe assets without downloaading', 'Key Features': None, 'Source': None, 'Type': None, 'Status': None, 'Keywords-Tags': None, 'Metadata-array': None}\n",
            "JSON converted to RDF and saved to /content/sample_data/inventory-w-rowid-utf-8-1.rdf\n"
          ]
        }
      ]
    },
    {
      "cell_type": "markdown",
      "source": [
        "# New Section"
      ],
      "metadata": {
        "id": "lRHSt0b4SffG"
      }
    }
  ]
}