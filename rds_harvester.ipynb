{
  "nbformat": 4,
  "nbformat_minor": 0,
  "metadata": {
    "colab": {
      "provenance": [],
      "authorship_tag": "ABX9TyMf6QHNwX/5rhAH/kdW9/J8",
      "include_colab_link": true
    },
    "kernelspec": {
      "name": "python3",
      "display_name": "Python 3"
    },
    "language_info": {
      "name": "python"
    }
  },
  "cells": [
    {
      "cell_type": "markdown",
      "metadata": {
        "id": "view-in-github",
        "colab_type": "text"
      },
      "source": [
        "<a href=\"https://colab.research.google.com/github/nsikak-akpakpan/nakpakpan-repo/blob/master/rds_harvester.ipynb\" target=\"_parent\"><img src=\"https://colab.research.google.com/assets/colab-badge.svg\" alt=\"Open In Colab\"/></a>"
      ]
    },
    {
      "cell_type": "markdown",
      "source": [
        "harvester for rds files\n",
        "download of rds file successful but error with conversion\n",
        "to do:  Convert rds file to rdf"
      ],
      "metadata": {
        "id": "LBnCwJIZ9wE_"
      }
    },
    {
      "cell_type": "code",
      "source": [
        "# prompt: as a python developer, create python code to download file at https://zenodo.org/records/10782800/files/mae_mae.rds?download=1, extract mae_mae.rds into dataframe.\n",
        "\n",
        "#!pip install pyreadr\n",
        "import requests\n",
        "import pandas as pd\n",
        "import io\n",
        "\n",
        "def download_and_extract_rds(url):\n",
        "    \"\"\"\n",
        "    Downloads an .rds file from a given URL and attempts to extract it into a Pandas DataFrame.\n",
        "    \"\"\"\n",
        "    try:\n",
        "        response = requests.get(url, stream=True)\n",
        "        response.raise_for_status()  # Raise an exception for bad status codes\n",
        "\n",
        "        # Use a BytesIO object to treat the response content as a file-like object\n",
        "        try:\n",
        "          # Attempt to read as RDS using pyreadr\n",
        "          import pyreadr\n",
        "          #result = pyreadr.read_r(os.PathLike())\n",
        "          #result = pyreadr.read_r(response.content)\n",
        "          result = pyreadr.read_r(io.BytesIO(response.content))\n",
        "          # Assuming the .rds file contains a single data frame\n",
        "          df = result[None]\n",
        "          print(\"DataFrame created successfully using pyreadr.\")\n",
        "          return df\n",
        "        except ImportError:\n",
        "          print(\"Error: pyreadr is not installed. Please install it using 'pip install pyreadr'.\")\n",
        "          return None\n",
        "        except Exception as e:\n",
        "          print(f\"Error reading .rds file using pyreadr: {e}\")\n",
        "          return None\n",
        "\n",
        "    except requests.exceptions.RequestException as e:\n",
        "        print(f\"Error downloading file: {e}\")\n",
        "        return None\n",
        "    except Exception as e:\n",
        "        print(f\"An unexpected error occurred: {e}\")\n",
        "        return None\n",
        "\n",
        "# Example usage\n",
        "url = \"https://zenodo.org/records/10782800/files/mae_mae.rds?download=1\"\n",
        "df = download_and_extract_rds(url)\n",
        "\n",
        "if df is not None:\n",
        "    print(df.head())\n",
        "    print(df.info())\n"
      ],
      "metadata": {
        "colab": {
          "base_uri": "https://localhost:8080/"
        },
        "id": "R7vDer4gv9TO",
        "outputId": "f65334ca-924e-49e2-d9ac-da3b9d7fd492"
      },
      "execution_count": null,
      "outputs": [
        {
          "output_type": "stream",
          "name": "stdout",
          "text": [
            "Error reading .rds file using pyreadr: expected str, bytes or os.PathLike object, not BytesIO\n"
          ]
        }
      ]
    },
    {
      "cell_type": "code",
      "source": [
        "# prompt: as a python developer, create python code to download file at https://zenodo.org/records/10782800/files/mae_mae.rds?download=1 as temp.rds\n",
        "\n",
        "import requests\n",
        "import os\n",
        "\n",
        "def download_file(url, filename):\n",
        "    \"\"\"Downloads a file from a given URL and saves it to the specified filename.\"\"\"\n",
        "    try:\n",
        "        response = requests.get(url, stream=True)\n",
        "        response.raise_for_status()  # Raise an exception for bad status codes\n",
        "\n",
        "        with open(filename, 'wb') as f:\n",
        "            for chunk in response.iter_content(chunk_size=8192):\n",
        "                f.write(chunk)\n",
        "        print(f\"Downloaded {filename} successfully.\")\n",
        "\n",
        "    except requests.exceptions.RequestException as e:\n",
        "        print(f\"Error downloading file: {e}\")\n",
        "    except Exception as e:\n",
        "        print(f\"An unexpected error occurred: {e}\")\n",
        "\n",
        "# Example usage\n",
        "url = \"https://zenodo.org/records/10782800/files/mae_mae.rds?download=1\"\n",
        "filename = \"temp.rds\"\n",
        "download_file(url, filename)\n"
      ],
      "metadata": {
        "colab": {
          "base_uri": "https://localhost:8080/"
        },
        "id": "Gfh_VZ5z1bAo",
        "outputId": "cdecb335-a4f0-4f75-ef00-ac90953c84d8"
      },
      "execution_count": null,
      "outputs": [
        {
          "output_type": "stream",
          "name": "stdout",
          "text": [
            "Downloaded temp.rds successfully.\n"
          ]
        }
      ]
    },
    {
      "cell_type": "code",
      "source": [
        "# prompt: as a python developer, read and convert temp.rds into a dataframe\n",
        "\n",
        "#!pip install pyreadr\n",
        "\n",
        "import pandas as pd\n",
        "import pyreadr\n",
        "\n",
        "# Assuming 'temp.rds' is in the current working directory or provide the full path\n",
        "result = pyreadr.read_r('/content/temp.rds')\n",
        "\n",
        "# Assuming the .rds file contains a single data frame named 'df'\n",
        "df = result[None]  # Or result[list(result.keys())[0]] if you're unsure of the name\n",
        "print(df.head())\n",
        "print(df.info())\n"
      ],
      "metadata": {
        "colab": {
          "base_uri": "https://localhost:8080/",
          "height": 269
        },
        "id": "GFjG1H0T2C07",
        "outputId": "cbe2d8b8-faa3-4ac3-ecac-d5e958ddd5da",
        "collapsed": true
      },
      "execution_count": null,
      "outputs": [
        {
          "output_type": "error",
          "ename": "LibrdataError",
          "evalue": "The file contains an unrecognized object",
          "traceback": [
            "\u001b[0;31m---------------------------------------------------------------------------\u001b[0m",
            "\u001b[0;31mLibrdataError\u001b[0m                             Traceback (most recent call last)",
            "\u001b[0;32m<ipython-input-16-4a530378da7a>\u001b[0m in \u001b[0;36m<cell line: 0>\u001b[0;34m()\u001b[0m\n\u001b[1;32m      7\u001b[0m \u001b[0;34m\u001b[0m\u001b[0m\n\u001b[1;32m      8\u001b[0m \u001b[0;31m# Assuming 'temp.rds' is in the current working directory or provide the full path\u001b[0m\u001b[0;34m\u001b[0m\u001b[0;34m\u001b[0m\u001b[0m\n\u001b[0;32m----> 9\u001b[0;31m \u001b[0mresult\u001b[0m \u001b[0;34m=\u001b[0m \u001b[0mpyreadr\u001b[0m\u001b[0;34m.\u001b[0m\u001b[0mread_r\u001b[0m\u001b[0;34m(\u001b[0m\u001b[0;34m'/content/mae_mae.rds'\u001b[0m\u001b[0;34m)\u001b[0m\u001b[0;34m\u001b[0m\u001b[0;34m\u001b[0m\u001b[0m\n\u001b[0m\u001b[1;32m     10\u001b[0m \u001b[0;34m\u001b[0m\u001b[0m\n\u001b[1;32m     11\u001b[0m \u001b[0;31m# Assuming the .rds file contains a single data frame named 'df'\u001b[0m\u001b[0;34m\u001b[0m\u001b[0;34m\u001b[0m\u001b[0m\n",
            "\u001b[0;32m/usr/local/lib/python3.11/dist-packages/pyreadr/pyreadr.py\u001b[0m in \u001b[0;36mread_r\u001b[0;34m(path, use_objects, timezone)\u001b[0m\n\u001b[1;32m     64\u001b[0m     \u001b[0;32mif\u001b[0m \u001b[0;32mnot\u001b[0m \u001b[0mos\u001b[0m\u001b[0;34m.\u001b[0m\u001b[0mpath\u001b[0m\u001b[0;34m.\u001b[0m\u001b[0misfile\u001b[0m\u001b[0;34m(\u001b[0m\u001b[0mfilename_bytes\u001b[0m\u001b[0;34m)\u001b[0m\u001b[0;34m:\u001b[0m\u001b[0;34m\u001b[0m\u001b[0;34m\u001b[0m\u001b[0m\n\u001b[1;32m     65\u001b[0m         \u001b[0;32mraise\u001b[0m \u001b[0mPyreadrError\u001b[0m\u001b[0;34m(\u001b[0m\u001b[0;34m\"File {0} does not exist!\"\u001b[0m\u001b[0;34m.\u001b[0m\u001b[0mformat\u001b[0m\u001b[0;34m(\u001b[0m\u001b[0mfilename_bytes\u001b[0m\u001b[0;34m)\u001b[0m\u001b[0;34m)\u001b[0m\u001b[0;34m\u001b[0m\u001b[0;34m\u001b[0m\u001b[0m\n\u001b[0;32m---> 66\u001b[0;31m     \u001b[0mparser\u001b[0m\u001b[0;34m.\u001b[0m\u001b[0mparse\u001b[0m\u001b[0;34m(\u001b[0m\u001b[0mfilename_bytes\u001b[0m\u001b[0;34m)\u001b[0m\u001b[0;34m\u001b[0m\u001b[0;34m\u001b[0m\u001b[0m\n\u001b[0m\u001b[1;32m     67\u001b[0m \u001b[0;34m\u001b[0m\u001b[0m\n\u001b[1;32m     68\u001b[0m     \u001b[0mresult\u001b[0m \u001b[0;34m=\u001b[0m \u001b[0mOrderedDict\u001b[0m\u001b[0;34m(\u001b[0m\u001b[0;34m)\u001b[0m\u001b[0;34m\u001b[0m\u001b[0;34m\u001b[0m\u001b[0m\n",
            "\u001b[0;32m/usr/local/lib/python3.11/dist-packages/pyreadr/librdata.pyx\u001b[0m in \u001b[0;36mpyreadr.librdata.Parser.parse\u001b[0;34m()\u001b[0m\n",
            "\u001b[0;32m/usr/local/lib/python3.11/dist-packages/pyreadr/librdata.pyx\u001b[0m in \u001b[0;36mpyreadr.librdata.Parser.parse\u001b[0;34m()\u001b[0m\n",
            "\u001b[0;31mLibrdataError\u001b[0m: The file contains an unrecognized object"
          ]
        }
      ]
    },
    {
      "cell_type": "code",
      "source": [],
      "metadata": {
        "id": "4fhVmPKl4syZ"
      },
      "execution_count": null,
      "outputs": []
    },
    {
      "cell_type": "code",
      "source": [
        "import pyreadr\n",
        "\n",
        "def extract_rds(file_path):\n",
        "    \"\"\"\n",
        "    Extracts data from an RDS file and returns it as a Pandas DataFrame.\n",
        "\n",
        "    Args:\n",
        "        file_path (str): The path to the RDS file.\n",
        "\n",
        "    Returns:\n",
        "        pandas.DataFrame: The extracted data as a DataFrame, or None if an error occurs.\n",
        "    \"\"\"\n",
        "    try:\n",
        "        result = pyreadr.read_r(file_path)\n",
        "        # RDS files typically contain a single object, accessible by the key None\n",
        "        data = result[None]\n",
        "        return data\n",
        "    except FileNotFoundError:\n",
        "        print(f\"Error: File not found at '{file_path}'\")\n",
        "        return None\n",
        "    except Exception as e:\n",
        "         print(f\"An error occurred: {e}\")\n",
        "         return None\n",
        "\n",
        "# Example usage:\n",
        "file_path = '/content/temp.rds'\n",
        "df = extract_rds(file_path)\n",
        "\n",
        "if df is not None:\n",
        "    print(df.head())"
      ],
      "metadata": {
        "colab": {
          "base_uri": "https://localhost:8080/"
        },
        "id": "i70jym9S3L40",
        "outputId": "99edb0e0-859d-4701-f2ee-b356f7a6719d"
      },
      "execution_count": null,
      "outputs": [
        {
          "output_type": "stream",
          "name": "stdout",
          "text": [
            "An error occurred: The file contains an unrecognized object\n"
          ]
        }
      ]
    },
    {
      "cell_type": "code",
      "source": [
        "!pip install rds2py"
      ],
      "metadata": {
        "colab": {
          "base_uri": "https://localhost:8080/"
        },
        "id": "7Oj57Q1B4waB",
        "outputId": "d419e94b-9704-47a0-a730-5a9a4883e1b4"
      },
      "execution_count": null,
      "outputs": [
        {
          "output_type": "stream",
          "name": "stdout",
          "text": [
            "Collecting rds2py\n",
            "  Downloading rds2py-0.6.1-cp311-cp311-manylinux_2_17_x86_64.manylinux2014_x86_64.whl.metadata (4.8 kB)\n",
            "Requirement already satisfied: numpy in /usr/local/lib/python3.11/dist-packages (from rds2py) (1.26.4)\n",
            "Requirement already satisfied: scipy in /usr/local/lib/python3.11/dist-packages (from rds2py) (1.13.1)\n",
            "Collecting biocframe (from rds2py)\n",
            "  Downloading BiocFrame-0.6.2-py3-none-any.whl.metadata (12 kB)\n",
            "Collecting biocutils>=0.1.5 (from rds2py)\n",
            "  Downloading biocutils-0.2.2-py3-none-any.whl.metadata (3.5 kB)\n",
            "Collecting genomicranges>=0.4.9 (from rds2py)\n",
            "  Downloading GenomicRanges-0.6.2-py3-none-any.whl.metadata (10 kB)\n",
            "Collecting summarizedexperiment>=0.4.1 (from rds2py)\n",
            "  Downloading SummarizedExperiment-0.5.3-py3-none-any.whl.metadata (4.9 kB)\n",
            "Collecting singlecellexperiment>=0.4.1 (from rds2py)\n",
            "  Downloading SingleCellExperiment-0.5.7-py3-none-any.whl.metadata (4.8 kB)\n",
            "Collecting multiassayexperiment (from rds2py)\n",
            "  Downloading MultiAssayExperiment-0.5.0-py3-none-any.whl.metadata (5.9 kB)\n",
            "Collecting iranges>=0.4.2 (from genomicranges>=0.4.9->rds2py)\n",
            "  Downloading IRanges-0.4.2-cp311-cp311-manylinux_2_17_x86_64.manylinux2014_x86_64.whl.metadata (6.2 kB)\n",
            "Collecting ncls (from iranges>=0.4.2->genomicranges>=0.4.9->rds2py)\n",
            "  Downloading ncls-0.0.68-cp311-cp311-manylinux_2_17_x86_64.manylinux2014_x86_64.whl.metadata (4.6 kB)\n",
            "Downloading rds2py-0.6.1-cp311-cp311-manylinux_2_17_x86_64.manylinux2014_x86_64.whl (177 kB)\n",
            "\u001b[2K   \u001b[90m━━━━━━━━━━━━━━━━━━━━━━━━━━━━━━━━━━━━━━━━\u001b[0m \u001b[32m177.6/177.6 kB\u001b[0m \u001b[31m4.8 MB/s\u001b[0m eta \u001b[36m0:00:00\u001b[0m\n",
            "\u001b[?25hDownloading biocutils-0.2.2-py3-none-any.whl (47 kB)\n",
            "\u001b[2K   \u001b[90m━━━━━━━━━━━━━━━━━━━━━━━━━━━━━━━━━━━━━━━━\u001b[0m \u001b[32m47.2/47.2 kB\u001b[0m \u001b[31m3.7 MB/s\u001b[0m eta \u001b[36m0:00:00\u001b[0m\n",
            "\u001b[?25hDownloading GenomicRanges-0.6.2-py3-none-any.whl (39 kB)\n",
            "Downloading BiocFrame-0.6.2-py3-none-any.whl (19 kB)\n",
            "Downloading SingleCellExperiment-0.5.7-py3-none-any.whl (15 kB)\n",
            "Downloading SummarizedExperiment-0.5.3-py3-none-any.whl (22 kB)\n",
            "Downloading MultiAssayExperiment-0.5.0-py3-none-any.whl (14 kB)\n",
            "Downloading IRanges-0.4.2-cp311-cp311-manylinux_2_17_x86_64.manylinux2014_x86_64.whl (123 kB)\n",
            "\u001b[2K   \u001b[90m━━━━━━━━━━━━━━━━━━━━━━━━━━━━━━━━━━━━━━━━\u001b[0m \u001b[32m123.5/123.5 kB\u001b[0m \u001b[31m10.1 MB/s\u001b[0m eta \u001b[36m0:00:00\u001b[0m\n",
            "\u001b[?25hDownloading ncls-0.0.68-cp311-cp311-manylinux_2_17_x86_64.manylinux2014_x86_64.whl (2.5 MB)\n",
            "\u001b[2K   \u001b[90m━━━━━━━━━━━━━━━━━━━━━━━━━━━━━━━━━━━━━━━━\u001b[0m \u001b[32m2.5/2.5 MB\u001b[0m \u001b[31m42.1 MB/s\u001b[0m eta \u001b[36m0:00:00\u001b[0m\n",
            "\u001b[?25hInstalling collected packages: ncls, biocutils, biocframe, iranges, genomicranges, summarizedexperiment, singlecellexperiment, multiassayexperiment, rds2py\n",
            "Successfully installed biocframe-0.6.2 biocutils-0.2.2 genomicranges-0.6.2 iranges-0.4.2 multiassayexperiment-0.5.0 ncls-0.0.68 rds2py-0.6.1 singlecellexperiment-0.5.7 summarizedexperiment-0.5.3\n"
          ]
        }
      ]
    },
    {
      "cell_type": "code",
      "source": [
        "import pyreadr\n",
        "result = pyreadr.read_r('/content/mae_mae.rds') # also works for RData\n",
        "print(result)\n",
        "# done!\n",
        "# result is a dictionary where keys are the name of objects and the values python\n",
        "# objects. In the case of Rds there is only one object with None as key\n",
        "df = result[None]"
      ],
      "metadata": {
        "colab": {
          "base_uri": "https://localhost:8080/",
          "height": 269
        },
        "id": "LNNJEBjb64aO",
        "outputId": "09fb85d1-2366-4621-95f7-76ed3bd04009"
      },
      "execution_count": null,
      "outputs": [
        {
          "output_type": "error",
          "ename": "LibrdataError",
          "evalue": "The file contains an unrecognized object",
          "traceback": [
            "\u001b[0;31m---------------------------------------------------------------------------\u001b[0m",
            "\u001b[0;31mLibrdataError\u001b[0m                             Traceback (most recent call last)",
            "\u001b[0;32m<ipython-input-22-34f40178f2fd>\u001b[0m in \u001b[0;36m<cell line: 0>\u001b[0;34m()\u001b[0m\n\u001b[1;32m      1\u001b[0m \u001b[0;32mimport\u001b[0m \u001b[0mpyreadr\u001b[0m\u001b[0;34m\u001b[0m\u001b[0;34m\u001b[0m\u001b[0m\n\u001b[0;32m----> 2\u001b[0;31m \u001b[0mresult\u001b[0m \u001b[0;34m=\u001b[0m \u001b[0mpyreadr\u001b[0m\u001b[0;34m.\u001b[0m\u001b[0mread_r\u001b[0m\u001b[0;34m(\u001b[0m\u001b[0;34m'/content/mae_mae.rds'\u001b[0m\u001b[0;34m)\u001b[0m \u001b[0;31m# also works for RData\u001b[0m\u001b[0;34m\u001b[0m\u001b[0;34m\u001b[0m\u001b[0m\n\u001b[0m\u001b[1;32m      3\u001b[0m \u001b[0mprint\u001b[0m\u001b[0;34m(\u001b[0m\u001b[0mresult\u001b[0m\u001b[0;34m)\u001b[0m\u001b[0;34m\u001b[0m\u001b[0;34m\u001b[0m\u001b[0m\n\u001b[1;32m      4\u001b[0m \u001b[0;31m# done!\u001b[0m\u001b[0;34m\u001b[0m\u001b[0;34m\u001b[0m\u001b[0m\n\u001b[1;32m      5\u001b[0m \u001b[0;31m# result is a dictionary where keys are the name of objects and the values python\u001b[0m\u001b[0;34m\u001b[0m\u001b[0;34m\u001b[0m\u001b[0m\n",
            "\u001b[0;32m/usr/local/lib/python3.11/dist-packages/pyreadr/pyreadr.py\u001b[0m in \u001b[0;36mread_r\u001b[0;34m(path, use_objects, timezone)\u001b[0m\n\u001b[1;32m     64\u001b[0m     \u001b[0;32mif\u001b[0m \u001b[0;32mnot\u001b[0m \u001b[0mos\u001b[0m\u001b[0;34m.\u001b[0m\u001b[0mpath\u001b[0m\u001b[0;34m.\u001b[0m\u001b[0misfile\u001b[0m\u001b[0;34m(\u001b[0m\u001b[0mfilename_bytes\u001b[0m\u001b[0;34m)\u001b[0m\u001b[0;34m:\u001b[0m\u001b[0;34m\u001b[0m\u001b[0;34m\u001b[0m\u001b[0m\n\u001b[1;32m     65\u001b[0m         \u001b[0;32mraise\u001b[0m \u001b[0mPyreadrError\u001b[0m\u001b[0;34m(\u001b[0m\u001b[0;34m\"File {0} does not exist!\"\u001b[0m\u001b[0;34m.\u001b[0m\u001b[0mformat\u001b[0m\u001b[0;34m(\u001b[0m\u001b[0mfilename_bytes\u001b[0m\u001b[0;34m)\u001b[0m\u001b[0;34m)\u001b[0m\u001b[0;34m\u001b[0m\u001b[0;34m\u001b[0m\u001b[0m\n\u001b[0;32m---> 66\u001b[0;31m     \u001b[0mparser\u001b[0m\u001b[0;34m.\u001b[0m\u001b[0mparse\u001b[0m\u001b[0;34m(\u001b[0m\u001b[0mfilename_bytes\u001b[0m\u001b[0;34m)\u001b[0m\u001b[0;34m\u001b[0m\u001b[0;34m\u001b[0m\u001b[0m\n\u001b[0m\u001b[1;32m     67\u001b[0m \u001b[0;34m\u001b[0m\u001b[0m\n\u001b[1;32m     68\u001b[0m     \u001b[0mresult\u001b[0m \u001b[0;34m=\u001b[0m \u001b[0mOrderedDict\u001b[0m\u001b[0;34m(\u001b[0m\u001b[0;34m)\u001b[0m\u001b[0;34m\u001b[0m\u001b[0;34m\u001b[0m\u001b[0m\n",
            "\u001b[0;32m/usr/local/lib/python3.11/dist-packages/pyreadr/librdata.pyx\u001b[0m in \u001b[0;36mpyreadr.librdata.Parser.parse\u001b[0;34m()\u001b[0m\n",
            "\u001b[0;32m/usr/local/lib/python3.11/dist-packages/pyreadr/librdata.pyx\u001b[0m in \u001b[0;36mpyreadr.librdata.Parser.parse\u001b[0;34m()\u001b[0m\n",
            "\u001b[0;31mLibrdataError\u001b[0m: The file contains an unrecognized object"
          ]
        }
      ]
    }
  ]
}